{
 "cells": [
  {
   "cell_type": "code",
   "id": "initial_id",
   "metadata": {
    "collapsed": true,
    "ExecuteTime": {
     "end_time": "2024-05-13T23:57:01.222988Z",
     "start_time": "2024-05-13T23:56:59.439842Z"
    }
   },
   "source": [
    "import numpy as np\n",
    "from src import sampling"
   ],
   "execution_count": 2,
   "outputs": []
  },
  {
   "metadata": {
    "ExecuteTime": {
     "end_time": "2024-05-01T12:38:11.570394Z",
     "start_time": "2024-05-01T12:38:11.558262Z"
    }
   },
   "cell_type": "code",
   "source": "np.random.dirichlet([5,0.4,0.4])",
   "id": "ec67a6ae264bf999",
   "execution_count": 8,
   "outputs": []
  },
  {
   "metadata": {
    "ExecuteTime": {
     "end_time": "2024-05-05T14:19:08.151317100Z",
     "start_time": "2024-05-05T14:19:08.127265800Z"
    }
   },
   "cell_type": "code",
   "execution_count": 4,
   "source": [
    "from src.utils import fed_avg\n",
    "import torch\n",
    "local_weights = [{\"a\":torch.tensor([1,2,3]), \"b\":torch.tensor([4,5,6])}, {\"a\":torch.tensor([5,4,3]), \"b\":torch.tensor([2,1,0])}]\n",
    "#expected avg should be 3\n",
    "dataset_size_per_client = [10000000, 10]\n",
    "global_weights = fed_avg(local_weights, dataset_size_per_client)\n",
    "global_weights"
   ],
   "id": "3ccb50801ff4b596",
   "outputs": []
  },
  {
   "cell_type": "code",
   "source": "print(np.average([1,2,3]))",
   "metadata": {
    "collapsed": false,
    "ExecuteTime": {
     "end_time": "2024-05-13T23:57:01.717521Z",
     "start_time": "2024-05-13T23:57:01.710536Z"
    }
   },
   "id": "96ea13f3ffe7a266",
   "execution_count": 3,
   "outputs": []
  },
  {
   "metadata": {},
   "cell_type": "code",
   "execution_count": null,
   "source": "",
   "id": "6a4de54b3a2c6fa7",
   "outputs": []
  }
 ],
 "metadata": {
  "kernelspec": {
   "display_name": "Python 3",
   "language": "python",
   "name": "python3"
  },
  "language_info": {
   "codemirror_mode": {
    "name": "ipython",
    "version": 2
   },
   "file_extension": ".py",
   "mimetype": "text/x-python",
   "name": "python",
   "nbconvert_exporter": "python",
   "pygments_lexer": "ipython2",
   "version": "2.7.6"
  }
 },
 "nbformat": 4,
 "nbformat_minor": 5
}
