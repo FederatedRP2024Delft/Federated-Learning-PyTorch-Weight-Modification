{
 "cells": [
  {
   "cell_type": "code",
   "id": "initial_id",
   "metadata": {
    "collapsed": true,
    "ExecuteTime": {
     "end_time": "2024-05-11T19:06:54.211179Z",
     "start_time": "2024-05-11T19:06:54.204019Z"
    }
   },
   "source": [
    "import torch.cuda\n",
    "import sys\n",
    "\n",
    "sys.path.append('..')\n",
    "\n",
    "\n",
    "from src.henry.mnist_vae_pure import VariationalAutoencoder\n",
    "import torchvision\n",
    "import torchvision.datasets as datasets\n",
    "from matplotlib import pyplot as plt\n",
    "import numpy as np\n",
    "from federated_pure import federate\n",
    "\n",
    "\n"
   ],
   "outputs": [],
   "execution_count": 5
  },
  {
   "metadata": {
    "ExecuteTime": {
     "end_time": "2024-05-11T19:06:54.383904Z",
     "start_time": "2024-05-11T19:06:54.380125Z"
    }
   },
   "cell_type": "code",
   "source": [
    "class FakeArgs:\n",
    "    def __init__(self):\n",
    "        self.epochs = 5\n",
    "        self.dataset = \"mnist\"\n",
    "        self.seed = 42\n",
    "        self.num_users=3\n",
    "        self.iid = 2\n",
    "        self.dirichlet = 0.5\n",
    "    "
   ],
   "id": "eeb36afb17958ed6",
   "outputs": [],
   "execution_count": 6
  },
  {
   "metadata": {
    "ExecuteTime": {
     "end_time": "2024-05-11T19:09:00.038450Z",
     "start_time": "2024-05-11T19:06:54.556801Z"
    }
   },
   "cell_type": "code",
   "source": [
    "\n",
    "latent_dims = 2\n",
    "vae = VariationalAutoencoder(latent_dims=latent_dims)\n",
    "\n",
    "dataset_train = datasets.MNIST('./data/mnist/', train=True, download=True, transform=torchvision.transforms.ToTensor())\n",
    "\n",
    "vae.train_model(dataset_train,16,10,beta=10)\n",
    "\n"
   ],
   "id": "83e91e1ecf2c7e91",
   "outputs": [
    {
     "name": "stdout",
     "output_type": "stream",
     "text": [
      "Finished local epoch 1 out of 10, average loss across batches: 809.299603515625\n",
      "Finished local epoch 2 out of 10, average loss across batches: 795.3779838541667\n",
      "Finished local epoch 3 out of 10, average loss across batches: 793.0578517089843\n",
      "Finished local epoch 4 out of 10, average loss across batches: 791.8936644205729\n",
      "Finished local epoch 5 out of 10, average loss across batches: 791.1684084798177\n",
      "Finished local epoch 6 out of 10, average loss across batches: 790.7469887532552\n",
      "Finished local epoch 7 out of 10, average loss across batches: 790.2048246744791\n",
      "Finished local epoch 8 out of 10, average loss across batches: 789.8524523600261\n",
      "Finished local epoch 9 out of 10, average loss across batches: 789.4380233886719\n",
      "Finished local epoch 10 out of 10, average loss across batches: 789.0841381184896\n"
     ]
    },
    {
     "data": {
      "text/plain": [
       "([809.299603515625,\n",
       "  795.3779838541667,\n",
       "  793.0578517089843,\n",
       "  791.8936644205729,\n",
       "  791.1684084798177,\n",
       "  790.7469887532552,\n",
       "  790.2048246744791,\n",
       "  789.8524523600261,\n",
       "  789.4380233886719,\n",
       "  789.0841381184896],\n",
       " [796.6965392089844,\n",
       "  770.4167901529947,\n",
       "  760.8267897460937,\n",
       "  755.0392453776042,\n",
       "  751.2910910807292,\n",
       "  749.7649974772136,\n",
       "  747.0596615234375,\n",
       "  745.476017211914,\n",
       "  744.4758086751302,\n",
       "  742.7848043131511],\n",
       " [12.603064182448387,\n",
       "  24.961194179371994,\n",
       "  32.231062289659185,\n",
       "  36.85441879971822,\n",
       "  39.877317345873514,\n",
       "  40.9819909591039,\n",
       "  43.145163092168175,\n",
       "  44.376434972890216,\n",
       "  44.962214422098796,\n",
       "  46.29933326886495])"
      ]
     },
     "execution_count": 7,
     "metadata": {},
     "output_type": "execute_result"
    }
   ],
   "execution_count": 7
  },
  {
   "metadata": {
    "ExecuteTime": {
     "end_time": "2024-05-11T18:58:14.133928Z",
     "start_time": "2024-05-11T18:47:53.863024Z"
    }
   },
   "cell_type": "code",
   "source": [
    "# vae, ovr_losses, mse_losses, kl_losses = vae.train_model(dataset_train,16,10)\n",
    "# print(mse_losses)\n",
    "# print(kl_losses)\n",
    "# 46 -> 34\n",
    "federate(FakeArgs())\n",
    "\n"
   ],
   "id": "a1afe9246a657416",
   "outputs": [
    {
     "name": "stderr",
     "output_type": "stream",
     "text": [
      "/home/henry/anaconda3/envs/rp/lib/python3.12/site-packages/torchvision/datasets/mnist.py:66: UserWarning: train_labels has been renamed targets\n",
      "  warnings.warn(\"train_labels has been renamed targets\")\n",
      "  0%|          | 0/5 [00:00<?, ?it/s]"
     ]
    },
    {
     "name": "stdout",
     "output_type": "stream",
     "text": [
      "\n",
      " | Global Training Round : 1 |\n",
      "\n"
     ]
    },
    {
     "name": "stderr",
     "output_type": "stream",
     "text": [
      "\n",
      "0it [00:00, ?it/s]\u001B[A"
     ]
    },
    {
     "name": "stdout",
     "output_type": "stream",
     "text": [
      "Training user 0 in round 1\n",
      "Finished local epoch 1 out of 10, average loss across batches: 9002.011459769456\n",
      "Finished local epoch 2 out of 10, average loss across batches: 8472.812009325215\n",
      "Finished local epoch 3 out of 10, average loss across batches: 8361.50194498698\n",
      "Finished local epoch 4 out of 10, average loss across batches: 8286.520445580576\n",
      "Finished local epoch 5 out of 10, average loss across batches: 8250.987551700367\n",
      "Finished local epoch 6 out of 10, average loss across batches: 8210.5523571538\n",
      "Finished local epoch 7 out of 10, average loss across batches: 8178.126538085938\n",
      "Finished local epoch 8 out of 10, average loss across batches: 8147.847798904718\n",
      "Finished local epoch 9 out of 10, average loss across batches: 8133.393857709099\n",
      "Finished local epoch 10 out of 10, average loss across batches: 8114.62196595435\n"
     ]
    },
    {
     "name": "stderr",
     "output_type": "stream",
     "text": [
      "\n",
      "1it [00:23, 23.34s/it]\u001B[A"
     ]
    },
    {
     "name": "stdout",
     "output_type": "stream",
     "text": [
      "Training user 1 in round 1\n",
      "Finished local epoch 1 out of 10, average loss across batches: 8504.091352798894\n",
      "Finished local epoch 2 out of 10, average loss across batches: 8182.033496363705\n",
      "Finished local epoch 3 out of 10, average loss across batches: 8091.182408647202\n",
      "Finished local epoch 4 out of 10, average loss across batches: 8032.135287650635\n",
      "Finished local epoch 5 out of 10, average loss across batches: 7987.87769567019\n",
      "Finished local epoch 6 out of 10, average loss across batches: 7947.028984064552\n",
      "Finished local epoch 7 out of 10, average loss across batches: 7916.654636680956\n",
      "Finished local epoch 8 out of 10, average loss across batches: 7880.884752127246\n",
      "Finished local epoch 9 out of 10, average loss across batches: 7852.475029155148\n",
      "Finished local epoch 10 out of 10, average loss across batches: 7833.5692212065915\n"
     ]
    },
    {
     "name": "stderr",
     "output_type": "stream",
     "text": [
      "\n",
      "2it [01:21, 44.05s/it]\u001B[A"
     ]
    },
    {
     "name": "stdout",
     "output_type": "stream",
     "text": [
      "Training user 2 in round 1\n",
      "Finished local epoch 1 out of 10, average loss across batches: 9195.776649212015\n",
      "Finished local epoch 2 out of 10, average loss across batches: 8757.390882703992\n",
      "Finished local epoch 3 out of 10, average loss across batches: 8650.037208060196\n",
      "Finished local epoch 4 out of 10, average loss across batches: 8593.431294992966\n",
      "Finished local epoch 5 out of 10, average loss across batches: 8546.78989173626\n",
      "Finished local epoch 6 out of 10, average loss across batches: 8502.728414133591\n",
      "Finished local epoch 7 out of 10, average loss across batches: 8477.509354514637\n",
      "Finished local epoch 8 out of 10, average loss across batches: 8433.533584302413\n",
      "Finished local epoch 9 out of 10, average loss across batches: 8413.718778529843\n",
      "Finished local epoch 10 out of 10, average loss across batches: 8379.043723153885\n"
     ]
    },
    {
     "name": "stderr",
     "output_type": "stream",
     "text": [
      "\n",
      "3it [02:01, 40.35s/it]\u001B[A\n",
      " 20%|██        | 1/5 [02:01<08:04, 121.06s/it]"
     ]
    },
    {
     "name": "stdout",
     "output_type": "stream",
     "text": [
      "\n",
      " | Global Training Round : 2 |\n",
      "\n"
     ]
    },
    {
     "name": "stderr",
     "output_type": "stream",
     "text": [
      "\n",
      "0it [00:00, ?it/s]\u001B[A"
     ]
    },
    {
     "name": "stdout",
     "output_type": "stream",
     "text": [
      "Training user 0 in round 2\n",
      "Finished local epoch 1 out of 10, average loss across batches: 8352.987168734682\n",
      "Finished local epoch 2 out of 10, average loss across batches: 8061.675795132506\n",
      "Finished local epoch 3 out of 10, average loss across batches: 7991.738026577818\n",
      "Finished local epoch 4 out of 10, average loss across batches: 7953.251327933517\n",
      "Finished local epoch 5 out of 10, average loss across batches: 7920.098864985447\n",
      "Finished local epoch 6 out of 10, average loss across batches: 7899.075471047794\n",
      "Finished local epoch 7 out of 10, average loss across batches: 7878.452664005055\n",
      "Finished local epoch 8 out of 10, average loss across batches: 7862.917479032629\n",
      "Finished local epoch 9 out of 10, average loss across batches: 7845.491850011489\n",
      "Finished local epoch 10 out of 10, average loss across batches: 7840.13017578125\n"
     ]
    },
    {
     "name": "stderr",
     "output_type": "stream",
     "text": [
      "\n",
      "1it [00:20, 20.11s/it]\u001B[A"
     ]
    },
    {
     "name": "stdout",
     "output_type": "stream",
     "text": [
      "Training user 1 in round 2\n",
      "Finished local epoch 1 out of 10, average loss across batches: 7918.61940366248\n",
      "Finished local epoch 2 out of 10, average loss across batches: 7807.411961912037\n",
      "Finished local epoch 3 out of 10, average loss across batches: 7779.565015643897\n",
      "Finished local epoch 4 out of 10, average loss across batches: 7757.9946211450415\n",
      "Finished local epoch 5 out of 10, average loss across batches: 7742.764526282826\n",
      "Finished local epoch 6 out of 10, average loss across batches: 7733.599551672101\n",
      "Finished local epoch 7 out of 10, average loss across batches: 7717.005627551075\n",
      "Finished local epoch 8 out of 10, average loss across batches: 7705.364794516942\n",
      "Finished local epoch 9 out of 10, average loss across batches: 7702.067221851784\n",
      "Finished local epoch 10 out of 10, average loss across batches: 7692.9418704040145\n"
     ]
    },
    {
     "name": "stderr",
     "output_type": "stream",
     "text": [
      "\n",
      "2it [01:19, 43.29s/it]\u001B[A"
     ]
    },
    {
     "name": "stdout",
     "output_type": "stream",
     "text": [
      "Training user 2 in round 2\n",
      "Finished local epoch 1 out of 10, average loss across batches: 8669.103072710877\n",
      "Finished local epoch 2 out of 10, average loss across batches: 8475.488925276131\n",
      "Finished local epoch 3 out of 10, average loss across batches: 8423.421824955849\n",
      "Finished local epoch 4 out of 10, average loss across batches: 8398.99957158465\n",
      "Finished local epoch 5 out of 10, average loss across batches: 8368.54973079053\n",
      "Finished local epoch 6 out of 10, average loss across batches: 8348.268232908285\n",
      "Finished local epoch 7 out of 10, average loss across batches: 8344.89572295558\n",
      "Finished local epoch 8 out of 10, average loss across batches: 8313.66184839709\n",
      "Finished local epoch 9 out of 10, average loss across batches: 8310.46432366499\n",
      "Finished local epoch 10 out of 10, average loss across batches: 8292.957271649006\n"
     ]
    },
    {
     "name": "stderr",
     "output_type": "stream",
     "text": [
      "\n",
      "3it [02:02, 40.70s/it]\u001B[A\n",
      " 40%|████      | 2/5 [04:03<06:05, 121.67s/it]"
     ]
    },
    {
     "name": "stdout",
     "output_type": "stream",
     "text": [
      "\n",
      " | Global Training Round : 3 |\n",
      "\n"
     ]
    },
    {
     "name": "stderr",
     "output_type": "stream",
     "text": [
      "\n",
      "0it [00:00, ?it/s]\u001B[A"
     ]
    },
    {
     "name": "stdout",
     "output_type": "stream",
     "text": [
      "Training user 0 in round 3\n",
      "Finished local epoch 1 out of 10, average loss across batches: 8179.759676585478\n",
      "Finished local epoch 2 out of 10, average loss across batches: 7965.467221966912\n",
      "Finished local epoch 3 out of 10, average loss across batches: 7901.095620787378\n",
      "Finished local epoch 4 out of 10, average loss across batches: 7857.980872778799\n",
      "Finished local epoch 5 out of 10, average loss across batches: 7840.011129940257\n",
      "Finished local epoch 6 out of 10, average loss across batches: 7824.815841375613\n",
      "Finished local epoch 7 out of 10, average loss across batches: 7808.894250727635\n",
      "Finished local epoch 8 out of 10, average loss across batches: 7796.037264476103\n",
      "Finished local epoch 9 out of 10, average loss across batches: 7783.764343501072\n",
      "Finished local epoch 10 out of 10, average loss across batches: 7770.972615081188\n"
     ]
    },
    {
     "name": "stderr",
     "output_type": "stream",
     "text": [
      "\n",
      "1it [00:22, 22.39s/it]\u001B[A"
     ]
    },
    {
     "name": "stdout",
     "output_type": "stream",
     "text": [
      "Training user 1 in round 3\n",
      "Finished local epoch 1 out of 10, average loss across batches: 7725.527416637871\n",
      "Finished local epoch 2 out of 10, average loss across batches: 7677.450565150959\n",
      "Finished local epoch 3 out of 10, average loss across batches: 7661.04208329734\n",
      "Finished local epoch 4 out of 10, average loss across batches: 7648.771916640571\n",
      "Finished local epoch 5 out of 10, average loss across batches: 7636.604062790202\n",
      "Finished local epoch 6 out of 10, average loss across batches: 7627.5333219052345\n",
      "Finished local epoch 7 out of 10, average loss across batches: 7619.88597704842\n",
      "Finished local epoch 8 out of 10, average loss across batches: 7616.367595807058\n",
      "Finished local epoch 9 out of 10, average loss across batches: 7612.236328799888\n",
      "Finished local epoch 10 out of 10, average loss across batches: 7600.879961774361\n"
     ]
    },
    {
     "name": "stderr",
     "output_type": "stream",
     "text": [
      "\n",
      "2it [01:25, 46.31s/it]\u001B[A"
     ]
    },
    {
     "name": "stdout",
     "output_type": "stream",
     "text": [
      "Training user 2 in round 3\n",
      "Finished local epoch 1 out of 10, average loss across batches: 8471.268543930346\n",
      "Finished local epoch 2 out of 10, average loss across batches: 8368.79482599602\n",
      "Finished local epoch 3 out of 10, average loss across batches: 8337.639742445672\n",
      "Finished local epoch 4 out of 10, average loss across batches: 8306.366701089559\n",
      "Finished local epoch 5 out of 10, average loss across batches: 8290.665959033016\n",
      "Finished local epoch 6 out of 10, average loss across batches: 8295.576358020535\n",
      "Finished local epoch 7 out of 10, average loss across batches: 8287.265960810286\n",
      "Finished local epoch 8 out of 10, average loss across batches: 8268.013625104766\n",
      "Finished local epoch 9 out of 10, average loss across batches: 8261.07176518349\n",
      "Finished local epoch 10 out of 10, average loss across batches: 8245.691790701329\n"
     ]
    },
    {
     "name": "stderr",
     "output_type": "stream",
     "text": [
      "\n",
      "3it [02:08, 42.91s/it]\u001B[A\n",
      " 60%|██████    | 3/5 [06:11<04:09, 124.89s/it]"
     ]
    },
    {
     "name": "stdout",
     "output_type": "stream",
     "text": [
      "\n",
      " | Global Training Round : 4 |\n",
      "\n"
     ]
    },
    {
     "name": "stderr",
     "output_type": "stream",
     "text": [
      "\n",
      "0it [00:00, ?it/s]\u001B[A"
     ]
    },
    {
     "name": "stdout",
     "output_type": "stream",
     "text": [
      "Training user 0 in round 4\n",
      "Finished local epoch 1 out of 10, average loss across batches: 8100.956009689032\n",
      "Finished local epoch 2 out of 10, average loss across batches: 7931.471371400123\n",
      "Finished local epoch 3 out of 10, average loss across batches: 7859.220904181985\n",
      "Finished local epoch 4 out of 10, average loss across batches: 7833.525183344822\n",
      "Finished local epoch 5 out of 10, average loss across batches: 7808.144414445465\n",
      "Finished local epoch 6 out of 10, average loss across batches: 7794.592460363051\n",
      "Finished local epoch 7 out of 10, average loss across batches: 7773.9695733762255\n",
      "Finished local epoch 8 out of 10, average loss across batches: 7765.513423426011\n",
      "Finished local epoch 9 out of 10, average loss across batches: 7759.485736921722\n",
      "Finished local epoch 10 out of 10, average loss across batches: 7750.871810853248\n"
     ]
    },
    {
     "name": "stderr",
     "output_type": "stream",
     "text": [
      "\n",
      "1it [00:21, 21.57s/it]\u001B[A"
     ]
    },
    {
     "name": "stdout",
     "output_type": "stream",
     "text": [
      "Training user 1 in round 4\n",
      "Finished local epoch 1 out of 10, average loss across batches: 7638.203123144059\n",
      "Finished local epoch 2 out of 10, average loss across batches: 7608.209098599743\n",
      "Finished local epoch 3 out of 10, average loss across batches: 7598.371695412384\n",
      "Finished local epoch 4 out of 10, average loss across batches: 7588.781364393465\n",
      "Finished local epoch 5 out of 10, average loss across batches: 7583.109024058396\n",
      "Finished local epoch 6 out of 10, average loss across batches: 7581.147054486383\n",
      "Finished local epoch 7 out of 10, average loss across batches: 7569.967441392752\n",
      "Finished local epoch 8 out of 10, average loss across batches: 7574.887379802501\n",
      "Finished local epoch 9 out of 10, average loss across batches: 7566.861876133811\n",
      "Finished local epoch 10 out of 10, average loss across batches: 7560.057829439681\n"
     ]
    },
    {
     "name": "stderr",
     "output_type": "stream",
     "text": [
      "\n",
      "2it [01:14, 40.18s/it]\u001B[A"
     ]
    },
    {
     "name": "stdout",
     "output_type": "stream",
     "text": [
      "Training user 2 in round 4\n",
      "Finished local epoch 1 out of 10, average loss across batches: 8374.808193396791\n",
      "Finished local epoch 2 out of 10, average loss across batches: 8316.645565339888\n",
      "Finished local epoch 3 out of 10, average loss across batches: 8288.188389569863\n",
      "Finished local epoch 4 out of 10, average loss across batches: 8272.022602651312\n",
      "Finished local epoch 5 out of 10, average loss across batches: 8260.347914889398\n",
      "Finished local epoch 6 out of 10, average loss across batches: 8238.870621838332\n",
      "Finished local epoch 7 out of 10, average loss across batches: 8238.408951916457\n",
      "Finished local epoch 8 out of 10, average loss across batches: 8242.276471017421\n",
      "Finished local epoch 9 out of 10, average loss across batches: 8234.760133706746\n",
      "Finished local epoch 10 out of 10, average loss across batches: 8209.291656377214\n"
     ]
    },
    {
     "name": "stderr",
     "output_type": "stream",
     "text": [
      "\n",
      "3it [01:55, 38.63s/it]\u001B[A\n",
      " 80%|████████  | 4/5 [08:07<02:01, 121.34s/it]"
     ]
    },
    {
     "name": "stdout",
     "output_type": "stream",
     "text": [
      "\n",
      " | Global Training Round : 5 |\n",
      "\n"
     ]
    },
    {
     "name": "stderr",
     "output_type": "stream",
     "text": [
      "\n",
      "0it [00:00, ?it/s]\u001B[A"
     ]
    },
    {
     "name": "stdout",
     "output_type": "stream",
     "text": [
      "Training user 0 in round 5\n",
      "Finished local epoch 1 out of 10, average loss across batches: 8071.965630744486\n",
      "Finished local epoch 2 out of 10, average loss across batches: 7942.446956380209\n",
      "Finished local epoch 3 out of 10, average loss across batches: 7898.570926681219\n",
      "Finished local epoch 4 out of 10, average loss across batches: 7880.3697820925245\n",
      "Finished local epoch 5 out of 10, average loss across batches: 7851.620891735601\n",
      "Finished local epoch 6 out of 10, average loss across batches: 7817.725262810202\n",
      "Finished local epoch 7 out of 10, average loss across batches: 7805.6188936121325\n",
      "Finished local epoch 8 out of 10, average loss across batches: 7814.589989276961\n",
      "Finished local epoch 9 out of 10, average loss across batches: 7811.207412300858\n",
      "Finished local epoch 10 out of 10, average loss across batches: 7780.779642980239\n"
     ]
    },
    {
     "name": "stderr",
     "output_type": "stream",
     "text": [
      "\n",
      "1it [00:23, 23.08s/it]\u001B[A"
     ]
    },
    {
     "name": "stdout",
     "output_type": "stream",
     "text": [
      "Training user 1 in round 5\n",
      "Finished local epoch 1 out of 10, average loss across batches: 7597.95140673592\n",
      "Finished local epoch 2 out of 10, average loss across batches: 7571.418518108587\n",
      "Finished local epoch 3 out of 10, average loss across batches: 7560.03910805492\n",
      "Finished local epoch 4 out of 10, average loss across batches: 7556.548069551227\n",
      "Finished local epoch 5 out of 10, average loss across batches: 7553.198857347637\n",
      "Finished local epoch 6 out of 10, average loss across batches: 7549.5636721112105\n",
      "Finished local epoch 7 out of 10, average loss across batches: 7542.2714570420485\n",
      "Finished local epoch 8 out of 10, average loss across batches: 7546.132358638022\n",
      "Finished local epoch 9 out of 10, average loss across batches: 7535.377633074357\n",
      "Finished local epoch 10 out of 10, average loss across batches: 7539.00698846212\n"
     ]
    },
    {
     "name": "stderr",
     "output_type": "stream",
     "text": [
      "\n",
      "2it [01:25, 46.22s/it]\u001B[A"
     ]
    },
    {
     "name": "stdout",
     "output_type": "stream",
     "text": [
      "Training user 2 in round 5\n",
      "Finished local epoch 1 out of 10, average loss across batches: 8323.124506574024\n",
      "Finished local epoch 2 out of 10, average loss across batches: 8256.94510717867\n",
      "Finished local epoch 3 out of 10, average loss across batches: 8249.050407088123\n",
      "Finished local epoch 4 out of 10, average loss across batches: 8229.306115862966\n",
      "Finished local epoch 5 out of 10, average loss across batches: 8212.7963567858\n",
      "Finished local epoch 6 out of 10, average loss across batches: 8212.428833475515\n",
      "Finished local epoch 7 out of 10, average loss across batches: 8203.578711498743\n",
      "Finished local epoch 8 out of 10, average loss across batches: 8220.383124925167\n",
      "Finished local epoch 9 out of 10, average loss across batches: 8199.302159568815\n",
      "Finished local epoch 10 out of 10, average loss across batches: 8184.44338930795\n"
     ]
    },
    {
     "name": "stderr",
     "output_type": "stream",
     "text": [
      "\n",
      "3it [02:11, 43.72s/it]\u001B[A\n",
      "100%|██████████| 5/5 [10:18<00:00, 123.79s/it]\n"
     ]
    }
   ],
   "execution_count": 4
  },
  {
   "metadata": {
    "ExecuteTime": {
     "end_time": "2024-05-10T17:12:35.640841Z",
     "start_time": "2024-05-10T17:12:35.628642Z"
    }
   },
   "cell_type": "code",
   "source": "vae.to('cuda')",
   "id": "b279b8e653cbea51",
   "execution_count": 5,
   "outputs": []
  },
  {
   "metadata": {
    "ExecuteTime": {
     "end_time": "2024-05-10T17:12:35.627682Z",
     "start_time": "2024-05-10T17:12:35.624575Z"
    }
   },
   "cell_type": "code",
   "source": [
    "def plot_reconstructed(autoencoder, r0=(-5, 10), r1=(-10, 5), n=12):\n",
    "    w = 28\n",
    "    img = np.zeros((n*w, n*w))\n",
    "    for i, y in enumerate(np.linspace(*r1, n)):\n",
    "        for j, x in enumerate(np.linspace(*r0, n)):\n",
    "            z = torch.Tensor([[x, y]]).to('cuda')\n",
    "            x_hat = autoencoder.decoder(z)\n",
    "            x_hat = x_hat.reshape(28, 28).to('cpu').detach().numpy()\n",
    "            img[(n-1-i)*w:(n-1-i+1)*w, j*w:(j+1)*w] = x_hat\n",
    "    plt.imshow(img, extent=[*r0, *r1])"
   ],
   "id": "6d37f3e0d12b9bf6",
   "execution_count": 4,
   "outputs": []
  },
  {
   "metadata": {
    "ExecuteTime": {
     "end_time": "2024-05-10T17:12:35.825593Z",
     "start_time": "2024-05-10T17:12:35.642039Z"
    }
   },
   "cell_type": "code",
   "source": [
    "plot_reconstructed(vae, r0=(-3, 3), r1=(-3, 3))\n",
    "\n"
   ],
   "id": "9c71623690560cdd",
   "execution_count": 6,
   "outputs": []
  },
  {
   "metadata": {},
   "cell_type": "code",
   "execution_count": null,
   "source": "",
   "id": "43e0f1a902fff376",
   "outputs": []
  }
 ],
 "metadata": {
  "kernelspec": {
   "display_name": "Python 3",
   "language": "python",
   "name": "python3"
  },
  "language_info": {
   "codemirror_mode": {
    "name": "ipython",
    "version": 2
   },
   "file_extension": ".py",
   "mimetype": "text/x-python",
   "name": "python",
   "nbconvert_exporter": "python",
   "pygments_lexer": "ipython2",
   "version": "2.7.6"
  }
 },
 "nbformat": 4,
 "nbformat_minor": 5
}
