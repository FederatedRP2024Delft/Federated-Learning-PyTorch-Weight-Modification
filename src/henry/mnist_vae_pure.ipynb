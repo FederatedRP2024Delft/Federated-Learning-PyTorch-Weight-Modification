{
 "cells": [
  {
   "cell_type": "code",
   "id": "initial_id",
   "metadata": {
    "collapsed": true,
    "ExecuteTime": {
     "end_time": "2024-05-15T19:12:25.447980Z",
     "start_time": "2024-05-15T19:12:23.196768Z"
    }
   },
   "source": [
    "import torch.cuda\n",
    "import sys\n",
    "\n",
    "sys.path.append('..')\n",
    "SEED=1\n",
    "\n",
    "from src.henry.mnist_vae_pure import VariationalAutoencoder\n",
    "import torchvision\n",
    "import torchvision.datasets as datasets\n",
    "import pickle\n",
    "from matplotlib import pyplot as plt\n",
    "import numpy as np\n",
    "from utils import * \n",
    "from WeightsModification import * \n",
    "from federated_pure import federate\n",
    "\n",
    "\n"
   ],
   "outputs": [],
   "execution_count": 1
  },
  {
   "metadata": {
    "ExecuteTime": {
     "end_time": "2024-05-15T19:12:25.451570Z",
     "start_time": "2024-05-15T19:12:25.449044Z"
    }
   },
   "cell_type": "code",
   "source": [
    "class FakeArgs:\n",
    "    def __init__(self):\n",
    "        self.seed=42\n",
    "        self.epochs = 10\n",
    "        self.dataset = \"mnist\"\n",
    "        self.num_users=5\n",
    "        self.iid = 2\n",
    "        self.dirichlet = 0.5 \n",
    "        self.local_ep=5\n",
    "        self.local_bs=64\n",
    "        self.beta=1.0\n",
    "    "
   ],
   "id": "eeb36afb17958ed6",
   "outputs": [],
   "execution_count": 2
  },
  {
   "metadata": {
    "ExecuteTime": {
     "end_time": "2024-05-15T19:25:45.142945Z",
     "start_time": "2024-05-15T19:12:25.452292Z"
    }
   },
   "cell_type": "code",
   "source": [
    "# vae, ovr_losses, mse_losses, kl_losses = vae.train_model(dataset_train,16,10)\n",
    "# print(mse_losses)\n",
    "# print(kl_losses)\n",
    "# 46 -> 34\n",
    "res = federate(FakeArgs())\n",
    "res.serialise(\"base_no_beta\",FakeArgs())\n",
    "\n",
    "\n",
    "\n"
   ],
   "id": "a1afe9246a657416",
   "outputs": [
    {
     "name": "stderr",
     "output_type": "stream",
     "text": [
      "/home/henry/anaconda3/envs/rp/lib/python3.12/site-packages/torchvision/datasets/mnist.py:66: UserWarning: train_labels has been renamed targets\n",
      "  warnings.warn(\"train_labels has been renamed targets\")\n",
      "  0%|          | 0/10 [00:00<?, ?it/s]"
     ]
    },
    {
     "name": "stdout",
     "output_type": "stream",
     "text": [
      "\n",
      " | Global Training Round : 1 |\n",
      "\n",
      "Training user 0 in round 1\n",
      "Finished local epoch 1 out of 5, average loss across batches: 585.4447372600597\n",
      "Finished local epoch 2 out of 5, average loss across batches: 541.0752632387223\n",
      "Finished local epoch 3 out of 5, average loss across batches: 532.9034279443885\n",
      "Finished local epoch 4 out of 5, average loss across batches: 528.8728737779843\n",
      "Finished local epoch 5 out of 5, average loss across batches: 526.5106614635837\n",
      "(Test Set) user 0 in round 1 totalL: 139.84803560374377 mseL: 138.40965322232756 klL: 1.4383823897429349\n",
      "Training user 1 in round 1\n",
      "Finished local epoch 1 out of 5, average loss across batches: 653.0282694498698\n",
      "Finished local epoch 2 out of 5, average loss across batches: 577.8880745216652\n",
      "Finished local epoch 3 out of 5, average loss across batches: 568.9624289053457\n",
      "Finished local epoch 4 out of 5, average loss across batches: 564.5683865017361\n",
      "Finished local epoch 5 out of 5, average loss across batches: 561.1334369800709\n",
      "(Test Set) user 1 in round 1 totalL: 82.41635217628786 mseL: 81.75754716692978 klL: 0.6588050080979632\n",
      "Training user 2 in round 1\n",
      "Finished local epoch 1 out of 5, average loss across batches: 626.5484509001997\n",
      "Finished local epoch 2 out of 5, average loss across batches: 569.874448389039\n",
      "Finished local epoch 3 out of 5, average loss across batches: 556.0139242760221\n",
      "Finished local epoch 4 out of 5, average loss across batches: 550.1971843977619\n",
      "Finished local epoch 5 out of 5, average loss across batches: 545.0884023107084\n",
      "(Test Set) user 2 in round 1 totalL: 99.75603093063799 mseL: 98.7933351371567 klL: 0.9626958069396524\n",
      "Training user 3 in round 1\n",
      "Finished local epoch 1 out of 5, average loss across batches: 582.6387404933121\n",
      "Finished local epoch 2 out of 5, average loss across batches: 527.1922154282079\n",
      "Finished local epoch 3 out of 5, average loss across batches: 515.1684616551255\n",
      "Finished local epoch 4 out of 5, average loss across batches: 510.42064301461886\n",
      "Finished local epoch 5 out of 5, average loss across batches: 507.7770328406132\n",
      "(Test Set) user 3 in round 1 totalL: 126.46120488476774 mseL: 125.28324771818698 klL: 1.1779571365102777\n",
      "Training user 4 in round 1\n",
      "Finished local epoch 1 out of 5, average loss across batches: 605.5454978942871\n",
      "Finished local epoch 2 out of 5, average loss across batches: 549.4368968963623\n",
      "Finished local epoch 3 out of 5, average loss across batches: 538.7071132659912\n",
      "Finished local epoch 4 out of 5, average loss across batches: 534.0089586257934\n",
      "Finished local epoch 5 out of 5, average loss across batches: 530.704620552063\n",
      "(Test Set) user 4 in round 1 totalL: 120.51007836499328 mseL: 119.31669894063991 klL: 1.1933794612300064\n"
     ]
    },
    {
     "name": "stderr",
     "output_type": "stream",
     "text": [
      " 10%|█         | 1/10 [01:20<12:05, 80.60s/it]"
     ]
    },
    {
     "name": "stdout",
     "output_type": "stream",
     "text": [
      "TEST LOSS AT GLOBAL ROUND 1 totalL: 646.8453204681397\n",
      "\n",
      " | Global Training Round : 2 |\n",
      "\n",
      "Training user 0 in round 2\n",
      "Finished local epoch 1 out of 5, average loss across batches: 533.6135865898542\n",
      "Finished local epoch 2 out of 5, average loss across batches: 514.5861522715579\n",
      "Finished local epoch 3 out of 5, average loss across batches: 511.46324617119245\n",
      "Finished local epoch 4 out of 5, average loss across batches: 509.03162293793054\n",
      "Finished local epoch 5 out of 5, average loss across batches: 507.47779747747603\n",
      "(Test Set) user 0 in round 2 totalL: 135.45457672709338 mseL: 133.96111473960303 klL: 1.4934620458541141\n",
      "Training user 1 in round 2\n",
      "Finished local epoch 1 out of 5, average loss across batches: 598.1284801341869\n",
      "Finished local epoch 2 out of 5, average loss across batches: 566.3159716570818\n",
      "Finished local epoch 3 out of 5, average loss across batches: 561.3425151683666\n",
      "Finished local epoch 4 out of 5, average loss across batches: 557.6378592031973\n",
      "Finished local epoch 5 out of 5, average loss across batches: 554.3871115225332\n",
      "(Test Set) user 1 in round 2 totalL: 80.54056596379877 mseL: 79.77817624442042 klL: 0.7623897002108242\n",
      "Training user 2 in round 2\n",
      "Finished local epoch 1 out of 5, average loss across batches: 566.8173841892328\n",
      "Finished local epoch 2 out of 5, average loss across batches: 543.9106617404105\n",
      "Finished local epoch 3 out of 5, average loss across batches: 538.4424328337934\n",
      "Finished local epoch 4 out of 5, average loss across batches: 534.5142308285361\n",
      "Finished local epoch 5 out of 5, average loss across batches: 532.4917524524201\n",
      "(Test Set) user 2 in round 2 totalL: 97.64546380911084 mseL: 96.50453832398625 klL: 1.140925476918457\n",
      "Training user 3 in round 2\n",
      "Finished local epoch 1 out of 5, average loss across batches: 519.319384765625\n",
      "Finished local epoch 2 out of 5, average loss across batches: 500.81310961174245\n",
      "Finished local epoch 3 out of 5, average loss across batches: 497.48792724609376\n",
      "Finished local epoch 4 out of 5, average loss across batches: 494.3818281693892\n",
      "Finished local epoch 5 out of 5, average loss across batches: 492.4486490885417\n",
      "(Test Set) user 3 in round 2 totalL: 124.03580206449135 mseL: 122.80007611225898 klL: 1.2357259867889812\n",
      "Training user 4 in round 2\n",
      "Finished local epoch 1 out of 5, average loss across batches: 552.9450284957886\n",
      "Finished local epoch 2 out of 5, average loss across batches: 529.5549766540528\n",
      "Finished local epoch 3 out of 5, average loss across batches: 524.6915634155273\n",
      "Finished local epoch 4 out of 5, average loss across batches: 522.4278118133545\n",
      "Finished local epoch 5 out of 5, average loss across batches: 520.8274591445922\n",
      "(Test Set) user 4 in round 2 totalL: 117.90781784638929 mseL: 116.65154838240487 klL: 1.2562694298219697\n"
     ]
    },
    {
     "name": "stderr",
     "output_type": "stream",
     "text": [
      " 20%|██        | 2/10 [02:40<10:43, 80.47s/it]"
     ]
    },
    {
     "name": "stdout",
     "output_type": "stream",
     "text": [
      "TEST LOSS AT GLOBAL ROUND 2 totalL: 586.6076307189942\n",
      "\n",
      " | Global Training Round : 3 |\n",
      "\n",
      "Training user 0 in round 3\n",
      "Finished local epoch 1 out of 5, average loss across batches: 513.7619018554688\n",
      "Finished local epoch 2 out of 5, average loss across batches: 504.55118388514364\n",
      "Finished local epoch 3 out of 5, average loss across batches: 502.6469457482779\n",
      "Finished local epoch 4 out of 5, average loss across batches: 501.26578464302963\n",
      "Finished local epoch 5 out of 5, average loss across batches: 499.6216045092511\n",
      "(Test Set) user 0 in round 3 totalL: 133.1712902175415 mseL: 131.7088342637245 klL: 1.4624559610301457\n",
      "Training user 1 in round 3\n",
      "Finished local epoch 1 out of 5, average loss across batches: 578.9941807499638\n",
      "Finished local epoch 2 out of 5, average loss across batches: 559.2160022876881\n",
      "Finished local epoch 3 out of 5, average loss across batches: 555.4980672200521\n",
      "Finished local epoch 4 out of 5, average loss across batches: 552.933029739945\n",
      "Finished local epoch 5 out of 5, average loss across batches: 550.99100889983\n",
      "(Test Set) user 1 in round 3 totalL: 78.80318062290618 mseL: 77.96697319978378 klL: 0.8362074394405299\n",
      "Training user 2 in round 3\n",
      "Finished local epoch 1 out of 5, average loss across batches: 547.7791665442904\n",
      "Finished local epoch 2 out of 5, average loss across batches: 534.1463398180509\n",
      "Finished local epoch 3 out of 5, average loss across batches: 530.5689474693814\n",
      "Finished local epoch 4 out of 5, average loss across batches: 528.6819682874178\n",
      "Finished local epoch 5 out of 5, average loss across batches: 527.33046246292\n",
      "(Test Set) user 2 in round 3 totalL: 95.82743002130101 mseL: 94.70964468895446 klL: 1.1177853318255366\n",
      "Training user 3 in round 3\n",
      "Finished local epoch 1 out of 5, average loss across batches: 500.82141464695786\n",
      "Finished local epoch 2 out of 5, average loss across batches: 490.06172318892044\n",
      "Finished local epoch 3 out of 5, average loss across batches: 487.1997884114583\n",
      "Finished local epoch 4 out of 5, average loss across batches: 485.40251187411224\n",
      "Finished local epoch 5 out of 5, average loss across batches: 484.0584901751894\n",
      "(Test Set) user 3 in round 3 totalL: 122.13061367433406 mseL: 120.78062223762447 klL: 1.3499914320588455\n",
      "Training user 4 in round 3\n",
      "Finished local epoch 1 out of 5, average loss across batches: 530.1001365661621\n",
      "Finished local epoch 2 out of 5, average loss across batches: 515.0456338882447\n",
      "Finished local epoch 3 out of 5, average loss across batches: 511.30500812530516\n",
      "Finished local epoch 4 out of 5, average loss across batches: 508.994610786438\n",
      "Finished local epoch 5 out of 5, average loss across batches: 507.57519512176515\n",
      "(Test Set) user 4 in round 3 totalL: 115.30661658254681 mseL: 113.97352708222466 klL: 1.3330895021730889\n"
     ]
    },
    {
     "name": "stderr",
     "output_type": "stream",
     "text": [
      " 30%|███       | 3/10 [04:01<09:22, 80.32s/it]"
     ]
    },
    {
     "name": "stdout",
     "output_type": "stream",
     "text": [
      "TEST LOSS AT GLOBAL ROUND 3 totalL: 548.631498298645\n",
      "\n",
      " | Global Training Round : 4 |\n",
      "\n",
      "Training user 0 in round 4\n",
      "Finished local epoch 1 out of 5, average loss across batches: 503.7846443422379\n",
      "Finished local epoch 2 out of 5, average loss across batches: 498.25706547562794\n",
      "Finished local epoch 3 out of 5, average loss across batches: 496.86692744429394\n",
      "Finished local epoch 4 out of 5, average loss across batches: 495.34444665396086\n",
      "Finished local epoch 5 out of 5, average loss across batches: 494.61823215279526\n",
      "(Test Set) user 0 in round 4 totalL: 132.09818228573332 mseL: 130.51042601386106 klL: 1.5877563033595674\n",
      "Training user 1 in round 4\n",
      "Finished local epoch 1 out of 5, average loss across batches: 564.3315237539786\n",
      "Finished local epoch 2 out of 5, average loss across batches: 552.6062192563658\n",
      "Finished local epoch 3 out of 5, average loss across batches: 548.8255858244719\n",
      "Finished local epoch 4 out of 5, average loss across batches: 546.8268780178494\n",
      "Finished local epoch 5 out of 5, average loss across batches: 545.6036020914713\n",
      "(Test Set) user 1 in round 4 totalL: 77.69362807577076 mseL: 76.84412507016614 klL: 0.8495029853089417\n",
      "Training user 2 in round 4\n",
      "Finished local epoch 1 out of 5, average loss across batches: 539.2138011043234\n",
      "Finished local epoch 2 out of 5, average loss across batches: 530.5801568282278\n",
      "Finished local epoch 3 out of 5, average loss across batches: 528.0231736262042\n",
      "Finished local epoch 4 out of 5, average loss across batches: 526.0358207530545\n",
      "Finished local epoch 5 out of 5, average loss across batches: 524.1607783037917\n",
      "(Test Set) user 2 in round 4 totalL: 95.02862994495072 mseL: 93.89403460387052 klL: 1.1345953520006968\n",
      "Training user 3 in round 4\n",
      "Finished local epoch 1 out of 5, average loss across batches: 490.5229629054214\n",
      "Finished local epoch 2 out of 5, average loss across batches: 482.018925522313\n",
      "Finished local epoch 3 out of 5, average loss across batches: 479.56655125473486\n",
      "Finished local epoch 4 out of 5, average loss across batches: 478.3340302438447\n",
      "Finished local epoch 5 out of 5, average loss across batches: 477.12322535659325\n",
      "(Test Set) user 3 in round 4 totalL: 120.08499481347663 mseL: 118.5805386916451 klL: 1.5044560976528545\n",
      "Training user 4 in round 4\n",
      "Finished local epoch 1 out of 5, average loss across batches: 516.9449869155884\n",
      "Finished local epoch 2 out of 5, average loss across batches: 508.47803726196287\n",
      "Finished local epoch 3 out of 5, average loss across batches: 506.1320848464966\n",
      "Finished local epoch 4 out of 5, average loss across batches: 504.30273151397705\n",
      "Finished local epoch 5 out of 5, average loss across batches: 503.08854522705076\n",
      "(Test Set) user 4 in round 4 totalL: 114.38292476088101 mseL: 112.99308276597355 klL: 1.3898419895856529\n"
     ]
    },
    {
     "name": "stderr",
     "output_type": "stream",
     "text": [
      " 40%|████      | 4/10 [05:21<08:01, 80.31s/it]"
     ]
    },
    {
     "name": "stdout",
     "output_type": "stream",
     "text": [
      "TEST LOSS AT GLOBAL ROUND 4 totalL: 534.9445433013916\n",
      "\n",
      " | Global Training Round : 5 |\n",
      "\n",
      "Training user 0 in round 5\n",
      "Finished local epoch 1 out of 5, average loss across batches: 498.83182369765416\n",
      "Finished local epoch 2 out of 5, average loss across batches: 494.803955242198\n",
      "Finished local epoch 3 out of 5, average loss across batches: 492.9435472385858\n",
      "Finished local epoch 4 out of 5, average loss across batches: 491.8291178057271\n",
      "Finished local epoch 5 out of 5, average loss across batches: 490.95466892693634\n",
      "(Test Set) user 0 in round 5 totalL: 131.39579536767798 mseL: 129.61194332471615 klL: 1.7838520508129636\n",
      "Training user 1 in round 5\n",
      "Finished local epoch 1 out of 5, average loss across batches: 555.7340850830078\n",
      "Finished local epoch 2 out of 5, average loss across batches: 549.0367106684932\n",
      "Finished local epoch 3 out of 5, average loss across batches: 545.7145835028755\n",
      "Finished local epoch 4 out of 5, average loss across batches: 544.0182681613499\n",
      "Finished local epoch 5 out of 5, average loss across batches: 543.1692089504666\n",
      "(Test Set) user 1 in round 5 totalL: 77.17392997848668 mseL: 76.2965166318302 klL: 0.877413329872007\n",
      "Training user 2 in round 5\n",
      "Finished local epoch 1 out of 5, average loss across batches: 534.1243304489251\n",
      "Finished local epoch 2 out of 5, average loss across batches: 527.5162927154312\n",
      "Finished local epoch 3 out of 5, average loss across batches: 524.2698091205798\n",
      "Finished local epoch 4 out of 5, average loss across batches: 523.5734335533658\n",
      "Finished local epoch 5 out of 5, average loss across batches: 522.350174523834\n",
      "(Test Set) user 2 in round 5 totalL: 94.00221977180155 mseL: 92.74105016944249 klL: 1.2611695750178966\n",
      "Training user 3 in round 5\n",
      "Finished local epoch 1 out of 5, average loss across batches: 486.18484608043326\n",
      "Finished local epoch 2 out of 5, average loss across batches: 480.4046640107126\n",
      "Finished local epoch 3 out of 5, average loss across batches: 478.08452314897016\n",
      "Finished local epoch 4 out of 5, average loss across batches: 476.3545709783381\n",
      "Finished local epoch 5 out of 5, average loss across batches: 474.697148548473\n",
      "(Test Set) user 3 in round 5 totalL: 119.40185090253242 mseL: 117.95811719836216 klL: 1.443733727016391\n",
      "Training user 4 in round 5\n",
      "Finished local epoch 1 out of 5, average loss across batches: 510.49596824645994\n",
      "Finished local epoch 2 out of 5, average loss across batches: 504.5932146072388\n",
      "Finished local epoch 3 out of 5, average loss across batches: 502.6179349899292\n",
      "Finished local epoch 4 out of 5, average loss across batches: 501.40874633789065\n",
      "Finished local epoch 5 out of 5, average loss across batches: 499.8089881896973\n",
      "(Test Set) user 4 in round 5 totalL: 113.62594682046135 mseL: 112.2328322738562 klL: 1.3931145723253837\n"
     ]
    },
    {
     "name": "stderr",
     "output_type": "stream",
     "text": [
      " 50%|█████     | 5/10 [06:40<06:39, 79.98s/it]"
     ]
    },
    {
     "name": "stdout",
     "output_type": "stream",
     "text": [
      "TEST LOSS AT GLOBAL ROUND 5 totalL: 528.3599200942994\n",
      "\n",
      " | Global Training Round : 6 |\n",
      "\n",
      "Training user 0 in round 6\n",
      "Finished local epoch 1 out of 5, average loss across batches: 495.42582276046915\n",
      "Finished local epoch 2 out of 5, average loss across batches: 491.22932663784235\n",
      "Finished local epoch 3 out of 5, average loss across batches: 488.90905269499746\n",
      "Finished local epoch 4 out of 5, average loss across batches: 488.0976716728621\n",
      "Finished local epoch 5 out of 5, average loss across batches: 487.5945326282132\n",
      "(Test Set) user 0 in round 6 totalL: 130.72429736760512 mseL: 129.14223003632384 klL: 1.58206732302249\n",
      "Training user 1 in round 6\n",
      "Finished local epoch 1 out of 5, average loss across batches: 551.6665824607567\n",
      "Finished local epoch 2 out of 5, average loss across batches: 545.5157046847874\n",
      "Finished local epoch 3 out of 5, average loss across batches: 543.0411410861545\n",
      "Finished local epoch 4 out of 5, average loss across batches: 542.224375406901\n",
      "Finished local epoch 5 out of 5, average loss across batches: 540.8211689701786\n",
      "(Test Set) user 1 in round 6 totalL: 76.84093627957206 mseL: 75.93278232618226 klL: 0.9081539744998202\n",
      "Training user 2 in round 6\n",
      "Finished local epoch 1 out of 5, average loss across batches: 530.0460530904899\n",
      "Finished local epoch 2 out of 5, average loss across batches: 523.4170435855264\n",
      "Finished local epoch 3 out of 5, average loss across batches: 520.8708032593692\n",
      "Finished local epoch 4 out of 5, average loss across batches: 519.7154745230997\n",
      "Finished local epoch 5 out of 5, average loss across batches: 518.73552801376\n",
      "(Test Set) user 2 in round 6 totalL: 93.56747409353314 mseL: 92.37669347449093 klL: 1.1907805906926217\n",
      "Training user 3 in round 6\n",
      "Finished local epoch 1 out of 5, average loss across batches: 481.87174183238636\n",
      "Finished local epoch 2 out of 5, average loss across batches: 476.49831561464254\n",
      "Finished local epoch 3 out of 5, average loss across batches: 474.3672246759588\n",
      "Finished local epoch 4 out of 5, average loss across batches: 472.2945184881037\n",
      "Finished local epoch 5 out of 5, average loss across batches: 471.2193342729048\n",
      "(Test Set) user 3 in round 6 totalL: 117.52190218717558 mseL: 116.05378501350063 klL: 1.46811711965314\n",
      "Training user 4 in round 6\n",
      "Finished local epoch 1 out of 5, average loss across batches: 506.4726676940918\n",
      "Finished local epoch 2 out of 5, average loss across batches: 501.247737121582\n",
      "Finished local epoch 3 out of 5, average loss across batches: 499.4199468612671\n",
      "Finished local epoch 4 out of 5, average loss across batches: 498.12533531188967\n",
      "Finished local epoch 5 out of 5, average loss across batches: 497.11573829650877\n",
      "(Test Set) user 4 in round 6 totalL: 112.9173936351656 mseL: 111.54103794903669 klL: 1.3763556666800427\n"
     ]
    },
    {
     "name": "stderr",
     "output_type": "stream",
     "text": [
      " 60%|██████    | 6/10 [08:00<05:19, 79.97s/it]"
     ]
    },
    {
     "name": "stdout",
     "output_type": "stream",
     "text": [
      "TEST LOSS AT GLOBAL ROUND 6 totalL: 524.5535369903564\n",
      "\n",
      " | Global Training Round : 7 |\n",
      "\n",
      "Training user 0 in round 7\n",
      "Finished local epoch 1 out of 5, average loss across batches: 491.7127085039693\n",
      "Finished local epoch 2 out of 5, average loss across batches: 488.1958291658791\n",
      "Finished local epoch 3 out of 5, average loss across batches: 486.49333092474166\n",
      "Finished local epoch 4 out of 5, average loss across batches: 485.3952137936828\n",
      "Finished local epoch 5 out of 5, average loss across batches: 484.96478337113575\n",
      "(Test Set) user 0 in round 7 totalL: 130.5414980409696 mseL: 128.7780448906976 klL: 1.7634532002322534\n",
      "Training user 1 in round 7\n",
      "Finished local epoch 1 out of 5, average loss across batches: 547.5239817301432\n",
      "Finished local epoch 2 out of 5, average loss across batches: 542.2662771719473\n",
      "Finished local epoch 3 out of 5, average loss across batches: 540.5269978841146\n",
      "Finished local epoch 4 out of 5, average loss across batches: 539.4666691532841\n",
      "Finished local epoch 5 out of 5, average loss across batches: 538.5203834816261\n",
      "(Test Set) user 1 in round 7 totalL: 76.33413330303826 mseL: 75.42564106654784 klL: 0.908492289000591\n",
      "Training user 2 in round 7\n",
      "Finished local epoch 1 out of 5, average loss across batches: 527.6339758392563\n",
      "Finished local epoch 2 out of 5, average loss across batches: 522.0685957141388\n",
      "Finished local epoch 3 out of 5, average loss across batches: 519.1769611100506\n",
      "Finished local epoch 4 out of 5, average loss across batches: 518.5031960853061\n",
      "Finished local epoch 5 out of 5, average loss across batches: 517.0552721525494\n",
      "(Test Set) user 2 in round 7 totalL: 93.18570286306849 mseL: 91.99661416749724 klL: 1.1890887197442228\n",
      "Training user 3 in round 7\n",
      "Finished local epoch 1 out of 5, average loss across batches: 478.8157098943537\n",
      "Finished local epoch 2 out of 5, average loss across batches: 473.15723821466617\n",
      "Finished local epoch 3 out of 5, average loss across batches: 471.71293612393464\n",
      "Finished local epoch 4 out of 5, average loss across batches: 470.8446124452533\n",
      "Finished local epoch 5 out of 5, average loss across batches: 469.9516129927202\n",
      "(Test Set) user 3 in round 7 totalL: 116.38371994905127 mseL: 114.87547973277013 klL: 1.508240244326708\n",
      "Training user 4 in round 7\n",
      "Finished local epoch 1 out of 5, average loss across batches: 502.96882286071775\n",
      "Finished local epoch 2 out of 5, average loss across batches: 498.50032062530516\n",
      "Finished local epoch 3 out of 5, average loss across batches: 496.91696548461914\n",
      "Finished local epoch 4 out of 5, average loss across batches: 495.6040330886841\n",
      "Finished local epoch 5 out of 5, average loss across batches: 494.74858531951907\n",
      "(Test Set) user 4 in round 7 totalL: 112.35454105824194 mseL: 110.88048607611036 klL: 1.4740549937602725\n"
     ]
    },
    {
     "name": "stderr",
     "output_type": "stream",
     "text": [
      " 70%|███████   | 7/10 [09:21<04:00, 80.07s/it]"
     ]
    },
    {
     "name": "stdout",
     "output_type": "stream",
     "text": [
      "TEST LOSS AT GLOBAL ROUND 7 totalL: 521.1272794525147\n",
      "\n",
      " | Global Training Round : 8 |\n",
      "\n",
      "Training user 0 in round 8\n",
      "Finished local epoch 1 out of 5, average loss across batches: 489.4119989538705\n",
      "Finished local epoch 2 out of 5, average loss across batches: 486.6166253858997\n",
      "Finished local epoch 3 out of 5, average loss across batches: 485.1985549106393\n",
      "Finished local epoch 4 out of 5, average loss across batches: 484.6749223278415\n",
      "Finished local epoch 5 out of 5, average loss across batches: 484.3106339977634\n",
      "(Test Set) user 0 in round 8 totalL: 130.03067468792727 mseL: 128.34093435369792 klL: 1.6897403694148163\n",
      "Training user 1 in round 8\n",
      "Finished local epoch 1 out of 5, average loss across batches: 546.9259132102684\n",
      "Finished local epoch 2 out of 5, average loss across batches: 541.3374681825991\n",
      "Finished local epoch 3 out of 5, average loss across batches: 539.721472563567\n",
      "Finished local epoch 4 out of 5, average loss across batches: 538.2877233999747\n",
      "Finished local epoch 5 out of 5, average loss across batches: 537.5548974496347\n",
      "(Test Set) user 1 in round 8 totalL: 76.20100735737202 mseL: 75.2796721628633 klL: 0.9213352357755284\n",
      "Training user 2 in round 8\n",
      "Finished local epoch 1 out of 5, average loss across batches: 524.940023092399\n",
      "Finished local epoch 2 out of 5, average loss across batches: 520.0139586943433\n",
      "Finished local epoch 3 out of 5, average loss across batches: 517.0977927760074\n",
      "Finished local epoch 4 out of 5, average loss across batches: 515.9408752900317\n",
      "Finished local epoch 5 out of 5, average loss across batches: 514.5311054430509\n",
      "(Test Set) user 2 in round 8 totalL: 92.91215613750485 mseL: 91.7313735488337 klL: 1.180782589381269\n",
      "Training user 3 in round 8\n",
      "Finished local epoch 1 out of 5, average loss across batches: 477.081269605232\n",
      "Finished local epoch 2 out of 5, average loss across batches: 472.13159031723484\n",
      "Finished local epoch 3 out of 5, average loss across batches: 470.42674449573866\n",
      "Finished local epoch 4 out of 5, average loss across batches: 470.06698183001896\n",
      "Finished local epoch 5 out of 5, average loss across batches: 469.18483461322205\n",
      "(Test Set) user 3 in round 8 totalL: 115.88114563944411 mseL: 114.30450474544334 klL: 1.5766409040233922\n",
      "Training user 4 in round 8\n",
      "Finished local epoch 1 out of 5, average loss across batches: 500.33498229980466\n",
      "Finished local epoch 2 out of 5, average loss across batches: 496.65527763366697\n",
      "Finished local epoch 3 out of 5, average loss across batches: 495.3225793838501\n",
      "Finished local epoch 4 out of 5, average loss across batches: 494.2475751876831\n",
      "Finished local epoch 5 out of 5, average loss across batches: 493.3553575515747\n",
      "(Test Set) user 4 in round 8 totalL: 111.82381962984317 mseL: 110.3926346853816 klL: 1.431184969333775\n"
     ]
    },
    {
     "name": "stderr",
     "output_type": "stream",
     "text": [
      " 80%|████████  | 8/10 [10:41<02:40, 80.16s/it]"
     ]
    },
    {
     "name": "stdout",
     "output_type": "stream",
     "text": [
      "TEST LOSS AT GLOBAL ROUND 8 totalL: 520.1416580703735\n",
      "\n",
      " | Global Training Round : 9 |\n",
      "\n",
      "Training user 0 in round 9\n",
      "Finished local epoch 1 out of 5, average loss across batches: 487.9776868922736\n",
      "Finished local epoch 2 out of 5, average loss across batches: 484.72044979628697\n",
      "Finished local epoch 3 out of 5, average loss across batches: 483.8425868864982\n",
      "Finished local epoch 4 out of 5, average loss across batches: 482.8003658171623\n",
      "Finished local epoch 5 out of 5, average loss across batches: 481.9561219574303\n",
      "(Test Set) user 0 in round 9 totalL: 129.4784456240158 mseL: 127.81108688430324 klL: 1.6673587867544917\n",
      "Training user 1 in round 9\n",
      "Finished local epoch 1 out of 5, average loss across batches: 545.1238024676287\n",
      "Finished local epoch 2 out of 5, average loss across batches: 539.5065290662977\n",
      "Finished local epoch 3 out of 5, average loss across batches: 538.0573320742006\n",
      "Finished local epoch 4 out of 5, average loss across batches: 537.5360994692202\n",
      "Finished local epoch 5 out of 5, average loss across batches: 536.4889342696579\n",
      "(Test Set) user 1 in round 9 totalL: 76.02404095595604 mseL: 75.13060460948454 klL: 0.893436321903433\n",
      "Training user 2 in round 9\n",
      "Finished local epoch 1 out of 5, average loss across batches: 523.5682476301838\n",
      "Finished local epoch 2 out of 5, average loss across batches: 517.4290959637864\n",
      "Finished local epoch 3 out of 5, average loss across batches: 515.4773665119831\n",
      "Finished local epoch 4 out of 5, average loss across batches: 514.4645840064027\n",
      "Finished local epoch 5 out of 5, average loss across batches: 513.7783095280927\n",
      "(Test Set) user 2 in round 9 totalL: 92.55258671953284 mseL: 91.32824558785458 klL: 1.2243411153416461\n",
      "Training user 3 in round 9\n",
      "Finished local epoch 1 out of 5, average loss across batches: 475.05034050218984\n",
      "Finished local epoch 2 out of 5, average loss across batches: 470.51568122632574\n",
      "Finished local epoch 3 out of 5, average loss across batches: 469.94832948626896\n",
      "Finished local epoch 4 out of 5, average loss across batches: 469.12895655776515\n",
      "Finished local epoch 5 out of 5, average loss across batches: 468.5473381273674\n",
      "(Test Set) user 3 in round 9 totalL: 115.57253272666725 mseL: 114.01334552097832 klL: 1.5591872130987707\n",
      "Training user 4 in round 9\n",
      "Finished local epoch 1 out of 5, average loss across batches: 498.82955837249756\n",
      "Finished local epoch 2 out of 5, average loss across batches: 495.5558862686157\n",
      "Finished local epoch 3 out of 5, average loss across batches: 493.8878772735596\n",
      "Finished local epoch 4 out of 5, average loss across batches: 493.2168390274048\n",
      "Finished local epoch 5 out of 5, average loss across batches: 492.74196548461913\n",
      "(Test Set) user 4 in round 9 totalL: 111.60679886440649 mseL: 110.06687254663248 klL: 1.5399263259343805\n"
     ]
    },
    {
     "name": "stderr",
     "output_type": "stream",
     "text": [
      " 90%|█████████ | 9/10 [12:00<01:19, 79.88s/it]"
     ]
    },
    {
     "name": "stdout",
     "output_type": "stream",
     "text": [
      "TEST LOSS AT GLOBAL ROUND 9 totalL: 518.1590222946166\n",
      "\n",
      " | Global Training Round : 10 |\n",
      "\n",
      "Training user 0 in round 10\n",
      "Finished local epoch 1 out of 5, average loss across batches: 487.22168969595305\n",
      "Finished local epoch 2 out of 5, average loss across batches: 483.97589570732526\n",
      "Finished local epoch 3 out of 5, average loss across batches: 482.77901614609584\n",
      "Finished local epoch 4 out of 5, average loss across batches: 482.1559800999139\n",
      "Finished local epoch 5 out of 5, average loss across batches: 481.5156715967322\n",
      "(Test Set) user 0 in round 10 totalL: 129.85907477697592 mseL: 128.1113021651516 klL: 1.7477726162076945\n",
      "Training user 1 in round 10\n",
      "Finished local epoch 1 out of 5, average loss across batches: 544.013306511773\n",
      "Finished local epoch 2 out of 5, average loss across batches: 538.6226066306785\n",
      "Finished local epoch 3 out of 5, average loss across batches: 537.4915231775354\n",
      "Finished local epoch 4 out of 5, average loss across batches: 536.3223540694626\n",
      "Finished local epoch 5 out of 5, average loss across batches: 535.2881690131294\n",
      "(Test Set) user 1 in round 10 totalL: 75.79055867145253 mseL: 74.86902113453374 klL: 0.9215375268995337\n",
      "Training user 2 in round 10\n",
      "Finished local epoch 1 out of 5, average loss across batches: 521.8417498366277\n",
      "Finished local epoch 2 out of 5, average loss across batches: 515.6854959358847\n",
      "Finished local epoch 3 out of 5, average loss across batches: 513.8210518055392\n",
      "Finished local epoch 4 out of 5, average loss across batches: 513.5761218537066\n",
      "Finished local epoch 5 out of 5, average loss across batches: 513.3204455841753\n",
      "(Test Set) user 2 in round 10 totalL: 92.37269482200959 mseL: 91.13087518975334 klL: 1.2418196626815419\n",
      "Training user 3 in round 10\n",
      "Finished local epoch 1 out of 5, average loss across batches: 474.31186948834045\n",
      "Finished local epoch 2 out of 5, average loss across batches: 470.0794228293679\n",
      "Finished local epoch 3 out of 5, average loss across batches: 468.96937459309896\n",
      "Finished local epoch 4 out of 5, average loss across batches: 468.3257111520478\n",
      "Finished local epoch 5 out of 5, average loss across batches: 467.1929182572798\n",
      "(Test Set) user 3 in round 10 totalL: 115.38969251341537 mseL: 113.91687089120911 klL: 1.472821642538911\n",
      "Training user 4 in round 10\n",
      "Finished local epoch 1 out of 5, average loss across batches: 497.8697582244873\n",
      "Finished local epoch 2 out of 5, average loss across batches: 494.4541872024536\n",
      "Finished local epoch 3 out of 5, average loss across batches: 492.9813810348511\n",
      "Finished local epoch 4 out of 5, average loss across batches: 492.2896913528442\n",
      "Finished local epoch 5 out of 5, average loss across batches: 491.1835403442383\n",
      "(Test Set) user 4 in round 10 totalL: 111.10741514200541 mseL: 109.69508806335566 klL: 1.4123270534678063\n"
     ]
    },
    {
     "name": "stderr",
     "output_type": "stream",
     "text": [
      "100%|██████████| 10/10 [13:19<00:00, 79.94s/it]"
     ]
    },
    {
     "name": "stdout",
     "output_type": "stream",
     "text": [
      "TEST LOSS AT GLOBAL ROUND 10 totalL: 517.1427721740723\n",
      "TRAINING ALL DONE!\n"
     ]
    },
    {
     "name": "stderr",
     "output_type": "stream",
     "text": [
      "\n"
     ]
    }
   ],
   "execution_count": 3
  },
  {
   "metadata": {
    "ExecuteTime": {
     "end_time": "2024-05-15T19:25:45.367523Z",
     "start_time": "2024-05-15T19:25:45.147547Z"
    }
   },
   "cell_type": "code",
   "source": "ClientDatasetManager.plot_dataset_splits(res.client_datasets)\n",
   "id": "ffd435fe6e7a32de",
   "outputs": [
    {
     "data": {
      "text/plain": [
       "<Figure size 640x480 with 1 Axes>"
      ],
      "image/png": "[encoded data removed]"
     },
     "metadata": {},
     "output_type": "display_data"
    }
   ],
   "execution_count": 4
  },
  {
   "metadata": {
    "ExecuteTime": {
     "end_time": "2024-05-14T14:57:13.027043Z",
     "start_time": "2024-05-14T14:57:13.024199Z"
    }
   },
   "cell_type": "code",
   "source": "res.global_model = res.global_model.to('cuda')",
   "id": "b279b8e653cbea51",
   "outputs": [],
   "execution_count": 5
  },
  {
   "metadata": {
    "ExecuteTime": {
     "end_time": "2024-05-14T14:57:13.481818Z",
     "start_time": "2024-05-14T14:57:13.477865Z"
    }
   },
   "cell_type": "code",
   "source": [
    "def plot_reconstructed(autoencoder, r0=(-5, 10), r1=(-10, 5), n=12):\n",
    "    w = 28\n",
    "    img = np.zeros((n*w, n*w))\n",
    "    for i, y in enumerate(np.linspace(*r1, n)):\n",
    "        for j, x in enumerate(np.linspace(*r0, n)):\n",
    "            z = torch.Tensor([[x, y]]).to('cuda')\n",
    "            x_hat = autoencoder.decoder(z)\n",
    "            x_hat = x_hat.reshape(28, 28).to('cpu').detach().numpy()\n",
    "            img[(n-1-i)*w:(n-1-i+1)*w, j*w:(j+1)*w] = x_hat\n",
    "    plt.imshow(img, extent=[*r0, *r1])"
   ],
   "id": "6d37f3e0d12b9bf6",
   "outputs": [],
   "execution_count": 6
  },
  {
   "metadata": {
    "ExecuteTime": {
     "end_time": "2024-05-14T14:57:16.855866Z",
     "start_time": "2024-05-14T14:57:16.730441Z"
    }
   },
   "cell_type": "code",
   "source": "plot_reconstructed(res.global_model, r0=(-3, 3), r1=(-3, 3))\n",
   "id": "9c71623690560cdd",
   "outputs": [
    {
     "data": {
      "text/plain": [
       "<Figure size 640x480 with 1 Axes>"
      ],
      "image/png": "[encoded data removed]"
     },
     "metadata": {},
     "output_type": "display_data"
    }
   ],
   "execution_count": 7
  },
  {
   "metadata": {},
   "cell_type": "markdown",
   "source": "",
   "id": "258b275bbc07c1b5"
  },
  {
   "metadata": {
    "ExecuteTime": {
     "end_time": "2024-05-15T20:52:50.522506Z",
     "start_time": "2024-05-15T20:52:44.524552Z"
    }
   },
   "cell_type": "code",
   "source": "trial_weights = calculate_new_weights(res.global_model.encoder, res.client_datasets, 0.05,0.0)\n",
   "id": "43e0f1a902fff376",
   "outputs": [],
   "execution_count": 76
  },
  {
   "metadata": {
    "ExecuteTime": {
     "end_time": "2024-05-15T20:52:50.525771Z",
     "start_time": "2024-05-15T20:52:50.523470Z"
    }
   },
   "cell_type": "code",
   "source": [
    "print(f\"Original Weights: {calculate_relative_dataset_sizes(res.client_datasets)}\")\n",
    "print(f\"New Weights: {trial_weights}\")"
   ],
   "id": "6eda7afb04ae1dfb",
   "outputs": [
    {
     "name": "stdout",
     "output_type": "stream",
     "text": [
      "Original Weights: [0.24778115754823118, 0.1438184924371849, 0.17623650985457728, 0.21917579899162465, 0.21298804116838202]\n",
      "New Weights: [0.2522405632788246, 0.12904355569242473, 0.17983021680297692, 0.22402957468322843, 0.21485608954254526]\n"
     ]
    }
   ],
   "execution_count": 77
  },
  {
   "metadata": {
    "ExecuteTime": {
     "end_time": "2024-05-15T21:06:41.552889Z",
     "start_time": "2024-05-15T20:53:18.321759Z"
    }
   },
   "cell_type": "code",
   "source": [
    "second_res = federate(FakeArgs(), trial_weights, res.client_datasets)\n",
    "second_res.serialise(\"point_one\",FakeArgs())\n"
   ],
   "id": "4b95e47191222519",
   "outputs": [
    {
     "name": "stderr",
     "output_type": "stream",
     "text": [
      "  0%|          | 0/10 [00:00<?, ?it/s]"
     ]
    },
    {
     "name": "stdout",
     "output_type": "stream",
     "text": [
      "\n",
      " | Global Training Round : 1 |\n",
      "\n",
      "Training user 0 in round 1\n",
      "Finished local epoch 1 out of 5, average loss across batches: 585.4447372600597\n",
      "Finished local epoch 2 out of 5, average loss across batches: 541.0752632387223\n",
      "Finished local epoch 3 out of 5, average loss across batches: 532.9034279443885\n",
      "Finished local epoch 4 out of 5, average loss across batches: 528.8728737779843\n",
      "Finished local epoch 5 out of 5, average loss across batches: 526.5106614635837\n",
      "(Test Set) user 0 in round 1 totalL: 142.36493050226798 mseL: 140.90066104090613 klL: 1.4642694698384249\n",
      "Training user 1 in round 1\n",
      "Finished local epoch 1 out of 5, average loss across batches: 653.0282694498698\n",
      "Finished local epoch 2 out of 5, average loss across batches: 577.8880745216652\n",
      "Finished local epoch 3 out of 5, average loss across batches: 568.9624289053457\n",
      "Finished local epoch 4 out of 5, average loss across batches: 564.5683865017361\n",
      "Finished local epoch 5 out of 5, average loss across batches: 561.1334369800709\n",
      "(Test Set) user 1 in round 1 totalL: 73.94945498175372 mseL: 73.3583311319979 klL: 0.5911238486251644\n",
      "Training user 2 in round 1\n",
      "Finished local epoch 1 out of 5, average loss across batches: 626.5484509001997\n",
      "Finished local epoch 2 out of 5, average loss across batches: 569.874448389039\n",
      "Finished local epoch 3 out of 5, average loss across batches: 556.0139242760221\n",
      "Finished local epoch 4 out of 5, average loss across batches: 550.1971843977619\n",
      "Finished local epoch 5 out of 5, average loss across batches: 545.0884023107084\n",
      "(Test Set) user 2 in round 1 totalL: 101.79019480392405 mseL: 100.80786830755899 klL: 0.9823265100978628\n",
      "Training user 3 in round 1\n",
      "Finished local epoch 1 out of 5, average loss across batches: 582.6387404933121\n",
      "Finished local epoch 2 out of 5, average loss across batches: 527.1922154282079\n",
      "Finished local epoch 3 out of 5, average loss across batches: 515.1684616551255\n",
      "Finished local epoch 4 out of 5, average loss across batches: 510.42064301461886\n",
      "Finished local epoch 5 out of 5, average loss across batches: 507.7770328406132\n",
      "(Test Set) user 3 in round 1 totalL: 129.26176190349256 mseL: 128.05771818955026 klL: 1.2040436832058974\n",
      "Training user 4 in round 1\n",
      "Finished local epoch 1 out of 5, average loss across batches: 605.5454978942871\n",
      "Finished local epoch 2 out of 5, average loss across batches: 549.4368968963623\n",
      "Finished local epoch 3 out of 5, average loss across batches: 538.7071132659912\n",
      "Finished local epoch 4 out of 5, average loss across batches: 534.0089586257934\n",
      "Finished local epoch 5 out of 5, average loss across batches: 530.704620552063\n",
      "(Test Set) user 4 in round 1 totalL: 121.56703280583928 mseL: 120.36318664128211 klL: 1.2038462017572273\n"
     ]
    },
    {
     "name": "stderr",
     "output_type": "stream",
     "text": [
      " 10%|█         | 1/10 [01:27<13:07, 87.47s/it]"
     ]
    },
    {
     "name": "stdout",
     "output_type": "stream",
     "text": [
      "TEST LOSS AT GLOBAL ROUND 1 totalL: 647.0580087982178\n",
      "\n",
      " | Global Training Round : 2 |\n",
      "\n",
      "Training user 0 in round 2\n",
      "Finished local epoch 1 out of 5, average loss across batches: 533.5640281759282\n",
      "Finished local epoch 2 out of 5, average loss across batches: 515.1284919656733\n",
      "Finished local epoch 3 out of 5, average loss across batches: 511.73285437142977\n",
      "Finished local epoch 4 out of 5, average loss across batches: 509.41350662067373\n",
      "Finished local epoch 5 out of 5, average loss across batches: 507.86963825841104\n",
      "(Test Set) user 0 in round 2 totalL: 137.8915033303164 mseL: 136.34161183701713 klL: 1.5498914498910876\n",
      "Training user 1 in round 2\n",
      "Finished local epoch 1 out of 5, average loss across batches: 597.6731250904224\n",
      "Finished local epoch 2 out of 5, average loss across batches: 564.4712405734592\n",
      "Finished local epoch 3 out of 5, average loss across batches: 558.7477530020254\n",
      "Finished local epoch 4 out of 5, average loss across batches: 555.3407776444046\n",
      "Finished local epoch 5 out of 5, average loss across batches: 552.7171913429543\n",
      "(Test Set) user 1 in round 2 totalL: 72.07497524998878 mseL: 71.34558306270496 klL: 0.7293921742850286\n",
      "Training user 2 in round 2\n",
      "Finished local epoch 1 out of 5, average loss across batches: 566.9822181185385\n",
      "Finished local epoch 2 out of 5, average loss across batches: 544.4307686941964\n",
      "Finished local epoch 3 out of 5, average loss across batches: 539.1858646708323\n",
      "Finished local epoch 4 out of 5, average loss across batches: 535.9852035637189\n",
      "Finished local epoch 5 out of 5, average loss across batches: 533.2322959039444\n",
      "(Test Set) user 2 in round 2 totalL: 99.54645501527393 mseL: 98.34661381934778 klL: 1.199841197984132\n",
      "Training user 3 in round 2\n",
      "Finished local epoch 1 out of 5, average loss across batches: 519.3494887843276\n",
      "Finished local epoch 2 out of 5, average loss across batches: 501.03842995383525\n",
      "Finished local epoch 3 out of 5, average loss across batches: 497.46640846946025\n",
      "Finished local epoch 4 out of 5, average loss across batches: 494.4589612556226\n",
      "Finished local epoch 5 out of 5, average loss across batches: 492.3210787686435\n",
      "(Test Set) user 3 in round 2 totalL: 126.78142272024354 mseL: 125.60231595444009 klL: 1.1791067374572484\n",
      "Training user 4 in round 2\n",
      "Finished local epoch 1 out of 5, average loss across batches: 553.1616584777832\n",
      "Finished local epoch 2 out of 5, average loss across batches: 529.442409324646\n",
      "Finished local epoch 3 out of 5, average loss across batches: 523.8958488464356\n",
      "Finished local epoch 4 out of 5, average loss across batches: 520.9814151763916\n",
      "Finished local epoch 5 out of 5, average loss across batches: 519.0633892059326\n",
      "(Test Set) user 4 in round 2 totalL: 119.09895815089737 mseL: 117.77032488714048 klL: 1.3286332498849882\n"
     ]
    },
    {
     "name": "stderr",
     "output_type": "stream",
     "text": [
      " 20%|██        | 2/10 [02:45<10:55, 81.94s/it]"
     ]
    },
    {
     "name": "stdout",
     "output_type": "stream",
     "text": [
      "TEST LOSS AT GLOBAL ROUND 2 totalL: 581.65384241333\n",
      "\n",
      " | Global Training Round : 3 |\n",
      "\n",
      "Training user 0 in round 3\n",
      "Finished local epoch 1 out of 5, average loss across batches: 512.8815770303049\n",
      "Finished local epoch 2 out of 5, average loss across batches: 504.10513125183763\n",
      "Finished local epoch 3 out of 5, average loss across batches: 501.91185079595095\n",
      "Finished local epoch 4 out of 5, average loss across batches: 500.4640381515667\n",
      "Finished local epoch 5 out of 5, average loss across batches: 499.2686708511845\n",
      "(Test Set) user 0 in round 3 totalL: 135.6142314572201 mseL: 134.05165943791053 klL: 1.5625719910202545\n",
      "Training user 1 in round 3\n",
      "Finished local epoch 1 out of 5, average loss across batches: 576.642921730324\n",
      "Finished local epoch 2 out of 5, average loss across batches: 557.4837646484375\n",
      "Finished local epoch 3 out of 5, average loss across batches: 554.1004440872757\n",
      "Finished local epoch 4 out of 5, average loss across batches: 552.5548248291016\n",
      "Finished local epoch 5 out of 5, average loss across batches: 551.2981214170103\n",
      "(Test Set) user 1 in round 3 totalL: 70.95380087125137 mseL: 70.24092847466943 klL: 0.7128723982294786\n",
      "Training user 2 in round 3\n",
      "Finished local epoch 1 out of 5, average loss across batches: 548.0980293446017\n",
      "Finished local epoch 2 out of 5, average loss across batches: 534.3987727344485\n",
      "Finished local epoch 3 out of 5, average loss across batches: 530.3883715177838\n",
      "Finished local epoch 4 out of 5, average loss across batches: 528.5200980050223\n",
      "Finished local epoch 5 out of 5, average loss across batches: 526.3721396080533\n",
      "(Test Set) user 2 in round 3 totalL: 97.76411581932784 mseL: 96.5864172560743 klL: 1.1776985670008064\n",
      "Training user 3 in round 3\n",
      "Finished local epoch 1 out of 5, average loss across batches: 500.10866144353696\n",
      "Finished local epoch 2 out of 5, average loss across batches: 488.67676927971115\n",
      "Finished local epoch 3 out of 5, average loss across batches: 485.35727502071495\n",
      "Finished local epoch 4 out of 5, average loss across batches: 482.89370746034564\n",
      "Finished local epoch 5 out of 5, average loss across batches: 481.27219386245264\n",
      "(Test Set) user 3 in round 3 totalL: 124.07234968889627 mseL: 122.69382493611639 klL: 1.378524734256303\n",
      "Training user 4 in round 3\n",
      "Finished local epoch 1 out of 5, average loss across batches: 529.0950901031495\n",
      "Finished local epoch 2 out of 5, average loss across batches: 514.6500131607056\n",
      "Finished local epoch 3 out of 5, average loss across batches: 511.0453269958496\n",
      "Finished local epoch 4 out of 5, average loss across batches: 508.73045845031737\n",
      "Finished local epoch 5 out of 5, average loss across batches: 507.5681131362915\n",
      "(Test Set) user 4 in round 3 totalL: 116.92521916581254 mseL: 115.5001110535942 klL: 1.4251081646171113\n"
     ]
    },
    {
     "name": "stderr",
     "output_type": "stream",
     "text": [
      " 30%|███       | 3/10 [04:02<09:16, 79.50s/it]"
     ]
    },
    {
     "name": "stdout",
     "output_type": "stream",
     "text": [
      "TEST LOSS AT GLOBAL ROUND 3 totalL: 545.5246722610474\n",
      "\n",
      " | Global Training Round : 4 |\n",
      "\n",
      "Training user 0 in round 4\n",
      "Finished local epoch 1 out of 5, average loss across batches: 503.30718977733324\n",
      "Finished local epoch 2 out of 5, average loss across batches: 498.31031520392304\n",
      "Finished local epoch 3 out of 5, average loss across batches: 496.66624270203295\n",
      "Finished local epoch 4 out of 5, average loss across batches: 495.2639371810421\n",
      "Finished local epoch 5 out of 5, average loss across batches: 493.8586886826382\n",
      "(Test Set) user 0 in round 4 totalL: 134.54567153996857 mseL: 132.90764861948685 klL: 1.6380229027948825\n",
      "Training user 1 in round 4\n",
      "Finished local epoch 1 out of 5, average loss across batches: 563.4796396891276\n",
      "Finished local epoch 2 out of 5, average loss across batches: 552.0026019061053\n",
      "Finished local epoch 3 out of 5, average loss across batches: 548.7816902443215\n",
      "Finished local epoch 4 out of 5, average loss across batches: 547.0642166137695\n",
      "Finished local epoch 5 out of 5, average loss across batches: 546.2241793032046\n",
      "(Test Set) user 1 in round 4 totalL: 69.78881331046142 mseL: 69.03160293986696 klL: 0.7572103866237341\n",
      "Training user 2 in round 4\n",
      "Finished local epoch 1 out of 5, average loss across batches: 537.8428707266212\n",
      "Finished local epoch 2 out of 5, average loss across batches: 530.370157342208\n",
      "Finished local epoch 3 out of 5, average loss across batches: 526.9338245822074\n",
      "Finished local epoch 4 out of 5, average loss across batches: 525.6041064728472\n",
      "Finished local epoch 5 out of 5, average loss across batches: 524.151770340769\n",
      "(Test Set) user 2 in round 4 totalL: 97.09493337491024 mseL: 95.91288762909923 klL: 1.1820457432342475\n",
      "Training user 3 in round 4\n",
      "Finished local epoch 1 out of 5, average loss across batches: 489.6058504971591\n",
      "Finished local epoch 2 out of 5, average loss across batches: 481.15975064364346\n",
      "Finished local epoch 3 out of 5, average loss across batches: 479.15750214547825\n",
      "Finished local epoch 4 out of 5, average loss across batches: 477.45482399680395\n",
      "Finished local epoch 5 out of 5, average loss across batches: 476.2991972952178\n",
      "(Test Set) user 3 in round 4 totalL: 122.36718965214408 mseL: 120.88018229774852 klL: 1.4870074251408205\n",
      "Training user 4 in round 4\n",
      "Finished local epoch 1 out of 5, average loss across batches: 515.2014429092408\n",
      "Finished local epoch 2 out of 5, average loss across batches: 507.8815383911133\n",
      "Finished local epoch 3 out of 5, average loss across batches: 505.7200174331665\n",
      "Finished local epoch 4 out of 5, average loss across batches: 504.40700778961184\n",
      "Finished local epoch 5 out of 5, average loss across batches: 503.1215662002563\n",
      "(Test Set) user 4 in round 4 totalL: 115.72079803205266 mseL: 114.33960224354347 klL: 1.3811957925355427\n"
     ]
    },
    {
     "name": "stderr",
     "output_type": "stream",
     "text": [
      " 40%|████      | 4/10 [05:18<07:50, 78.44s/it]"
     ]
    },
    {
     "name": "stdout",
     "output_type": "stream",
     "text": [
      "TEST LOSS AT GLOBAL ROUND 4 totalL: 533.7025306533814\n",
      "\n",
      " | Global Training Round : 5 |\n",
      "\n",
      "Training user 0 in round 5\n",
      "Finished local epoch 1 out of 5, average loss across batches: 498.6115566786899\n",
      "Finished local epoch 2 out of 5, average loss across batches: 494.8689253612231\n",
      "Finished local epoch 3 out of 5, average loss across batches: 493.0788818687521\n",
      "Finished local epoch 4 out of 5, average loss across batches: 492.03220621744794\n",
      "Finished local epoch 5 out of 5, average loss across batches: 491.4297158846291\n",
      "(Test Set) user 0 in round 5 totalL: 134.0799967288206 mseL: 132.3484083548038 klL: 1.73158837947135\n",
      "Training user 1 in round 5\n",
      "Finished local epoch 1 out of 5, average loss across batches: 556.5503127486618\n",
      "Finished local epoch 2 out of 5, average loss across batches: 549.5818546436451\n",
      "Finished local epoch 3 out of 5, average loss across batches: 547.2545440108688\n",
      "Finished local epoch 4 out of 5, average loss across batches: 545.7665908248337\n",
      "Finished local epoch 5 out of 5, average loss across batches: 544.2073937875253\n",
      "(Test Set) user 1 in round 5 totalL: 69.28570094586692 mseL: 68.49445547647342 klL: 0.7912454718409755\n",
      "Training user 2 in round 5\n",
      "Finished local epoch 1 out of 5, average loss across batches: 533.2604097065173\n",
      "Finished local epoch 2 out of 5, average loss across batches: 527.0592197045348\n",
      "Finished local epoch 3 out of 5, average loss across batches: 524.5924579362224\n",
      "Finished local epoch 4 out of 5, average loss across batches: 523.3186510129083\n",
      "Finished local epoch 5 out of 5, average loss across batches: 521.4516266557507\n",
      "(Test Set) user 2 in round 5 totalL: 95.8315655263396 mseL: 94.62624674909652 klL: 1.2053187500818388\n",
      "Training user 3 in round 5\n",
      "Finished local epoch 1 out of 5, average loss across batches: 485.7497048117898\n",
      "Finished local epoch 2 out of 5, average loss across batches: 480.40437751538826\n",
      "Finished local epoch 3 out of 5, average loss across batches: 478.9151615027225\n",
      "Finished local epoch 4 out of 5, average loss across batches: 477.3681964296283\n",
      "Finished local epoch 5 out of 5, average loss across batches: 476.2819132486979\n",
      "(Test Set) user 3 in round 5 totalL: 121.28501677773878 mseL: 119.84915738800912 klL: 1.4358593425287558\n",
      "Training user 4 in round 5\n",
      "Finished local epoch 1 out of 5, average loss across batches: 509.8479570388794\n",
      "Finished local epoch 2 out of 5, average loss across batches: 504.7202941894531\n",
      "Finished local epoch 3 out of 5, average loss across batches: 502.8644786834717\n",
      "Finished local epoch 4 out of 5, average loss across batches: 501.81328258514407\n",
      "Finished local epoch 5 out of 5, average loss across batches: 500.6808847427368\n",
      "(Test Set) user 4 in round 5 totalL: 115.03405580009019 mseL: 113.68169502886222 klL: 1.3523607042273325\n"
     ]
    },
    {
     "name": "stderr",
     "output_type": "stream",
     "text": [
      " 50%|█████     | 5/10 [06:37<06:32, 78.54s/it]"
     ]
    },
    {
     "name": "stdout",
     "output_type": "stream",
     "text": [
      "TEST LOSS AT GLOBAL ROUND 5 totalL: 527.3985674743652\n",
      "\n",
      " | Global Training Round : 6 |\n",
      "\n",
      "Training user 0 in round 6\n",
      "Finished local epoch 1 out of 5, average loss across batches: 495.33544364026795\n",
      "Finished local epoch 2 out of 5, average loss across batches: 491.79797921129455\n",
      "Finished local epoch 3 out of 5, average loss across batches: 490.269035093246\n",
      "Finished local epoch 4 out of 5, average loss across batches: 489.40970816663514\n",
      "Finished local epoch 5 out of 5, average loss across batches: 488.1164342408539\n",
      "(Test Set) user 0 in round 6 totalL: 133.4059419277737 mseL: 131.70677248887438 klL: 1.6991694686860888\n",
      "Training user 1 in round 6\n",
      "Finished local epoch 1 out of 5, average loss across batches: 552.7649626555266\n",
      "Finished local epoch 2 out of 5, average loss across batches: 547.2622643929941\n",
      "Finished local epoch 3 out of 5, average loss across batches: 545.2454282972548\n",
      "Finished local epoch 4 out of 5, average loss across batches: 544.7200218483254\n",
      "Finished local epoch 5 out of 5, average loss across batches: 542.5278464423286\n",
      "(Test Set) user 1 in round 6 totalL: 68.99469157744865 mseL: 68.17094217732256 klL: 0.8237493918407239\n",
      "Training user 2 in round 6\n",
      "Finished local epoch 1 out of 5, average loss across batches: 529.7022762441993\n",
      "Finished local epoch 2 out of 5, average loss across batches: 522.8448027417176\n",
      "Finished local epoch 3 out of 5, average loss across batches: 521.3897714256344\n",
      "Finished local epoch 4 out of 5, average loss across batches: 519.0865873179041\n",
      "Finished local epoch 5 out of 5, average loss across batches: 518.1796533111343\n",
      "(Test Set) user 2 in round 6 totalL: 95.33765781402211 mseL: 94.12968834498112 klL: 1.2079694487226007\n",
      "Training user 3 in round 6\n",
      "Finished local epoch 1 out of 5, average loss across batches: 481.9014504172585\n",
      "Finished local epoch 2 out of 5, average loss across batches: 475.9834879557292\n",
      "Finished local epoch 3 out of 5, average loss across batches: 473.8606789328835\n",
      "Finished local epoch 4 out of 5, average loss across batches: 472.45194406220406\n",
      "Finished local epoch 5 out of 5, average loss across batches: 471.5051116018584\n",
      "(Test Set) user 3 in round 6 totalL: 119.76215897032617 mseL: 118.24643513578998 klL: 1.5157238152488102\n",
      "Training user 4 in round 6\n",
      "Finished local epoch 1 out of 5, average loss across batches: 506.5058876037598\n",
      "Finished local epoch 2 out of 5, average loss across batches: 502.1257539749146\n",
      "Finished local epoch 3 out of 5, average loss across batches: 500.4444263458252\n",
      "Finished local epoch 4 out of 5, average loss across batches: 498.5365087509155\n",
      "Finished local epoch 5 out of 5, average loss across batches: 497.98798885345457\n",
      "(Test Set) user 4 in round 6 totalL: 114.17169424777444 mseL: 112.80228567855104 klL: 1.3694085670565388\n"
     ]
    },
    {
     "name": "stderr",
     "output_type": "stream",
     "text": [
      " 60%|██████    | 6/10 [08:01<05:20, 80.23s/it]"
     ]
    },
    {
     "name": "stdout",
     "output_type": "stream",
     "text": [
      "TEST LOSS AT GLOBAL ROUND 6 totalL: 524.0577841079712\n",
      "\n",
      " | Global Training Round : 7 |\n",
      "\n",
      "Training user 0 in round 7\n",
      "Finished local epoch 1 out of 5, average loss across batches: 493.12402507823003\n",
      "Finished local epoch 2 out of 5, average loss across batches: 489.2841286607968\n",
      "Finished local epoch 3 out of 5, average loss across batches: 487.07984645392304\n",
      "Finished local epoch 4 out of 5, average loss across batches: 486.939220633558\n",
      "Finished local epoch 5 out of 5, average loss across batches: 485.75429214969756\n",
      "(Test Set) user 0 in round 7 totalL: 133.34206501495183 mseL: 131.6754347557429 klL: 1.666630259238996\n",
      "Training user 1 in round 7\n",
      "Finished local epoch 1 out of 5, average loss across batches: 550.7841220431858\n",
      "Finished local epoch 2 out of 5, average loss across batches: 544.9392095495153\n",
      "Finished local epoch 3 out of 5, average loss across batches: 542.2305925157335\n",
      "Finished local epoch 4 out of 5, average loss across batches: 541.2734490853769\n",
      "Finished local epoch 5 out of 5, average loss across batches: 539.935048421224\n",
      "(Test Set) user 1 in round 7 totalL: 68.66822441448126 mseL: 67.89560177792917 klL: 0.7726225864274896\n",
      "Training user 2 in round 7\n",
      "Finished local epoch 1 out of 5, average loss across batches: 526.9108638906837\n",
      "Finished local epoch 2 out of 5, average loss across batches: 521.9681772791354\n",
      "Finished local epoch 3 out of 5, average loss across batches: 518.8547895617951\n",
      "Finished local epoch 4 out of 5, average loss across batches: 517.6310840119097\n",
      "Finished local epoch 5 out of 5, average loss across batches: 516.5432599289973\n",
      "(Test Set) user 2 in round 7 totalL: 95.14177714998416 mseL: 93.92059002637576 klL: 1.2211871508510854\n",
      "Training user 3 in round 7\n",
      "Finished local epoch 1 out of 5, average loss across batches: 478.6789572975852\n",
      "Finished local epoch 2 out of 5, average loss across batches: 473.18730191317474\n",
      "Finished local epoch 3 out of 5, average loss across batches: 471.6288496537642\n",
      "Finished local epoch 4 out of 5, average loss across batches: 470.5435624556108\n",
      "Finished local epoch 5 out of 5, average loss across batches: 469.74600256717565\n",
      "(Test Set) user 3 in round 7 totalL: 119.13787936216508 mseL: 117.61534396269518 klL: 1.5225354028883307\n",
      "Training user 4 in round 7\n",
      "Finished local epoch 1 out of 5, average loss across batches: 504.017128944397\n",
      "Finished local epoch 2 out of 5, average loss across batches: 499.9386842727661\n",
      "Finished local epoch 3 out of 5, average loss across batches: 498.76148834228513\n",
      "Finished local epoch 4 out of 5, average loss across batches: 497.90602550506594\n",
      "Finished local epoch 5 out of 5, average loss across batches: 497.34872875213625\n",
      "(Test Set) user 4 in round 7 totalL: 113.91150210770641 mseL: 112.5003124012288 klL: 1.4111896800451555\n"
     ]
    },
    {
     "name": "stderr",
     "output_type": "stream",
     "text": [
      " 70%|███████   | 7/10 [09:23<04:03, 81.05s/it]"
     ]
    },
    {
     "name": "stdout",
     "output_type": "stream",
     "text": [
      "TEST LOSS AT GLOBAL ROUND 7 totalL: 523.1073502304077\n",
      "\n",
      " | Global Training Round : 8 |\n",
      "\n",
      "Training user 0 in round 8\n",
      "Finished local epoch 1 out of 5, average loss across batches: 490.7826488864037\n",
      "Finished local epoch 2 out of 5, average loss across batches: 486.92606083039317\n",
      "Finished local epoch 3 out of 5, average loss across batches: 485.1738548688991\n",
      "Finished local epoch 4 out of 5, average loss across batches: 484.6127051896946\n",
      "Finished local epoch 5 out of 5, average loss across batches: 483.9533504363029\n",
      "(Test Set) user 0 in round 8 totalL: 132.49360779881152 mseL: 130.75483137161885 klL: 1.7387764333929927\n",
      "Training user 1 in round 8\n",
      "Finished local epoch 1 out of 5, average loss across batches: 548.5365456475151\n",
      "Finished local epoch 2 out of 5, average loss across batches: 543.1125378078884\n",
      "Finished local epoch 3 out of 5, average loss across batches: 541.3226555718315\n",
      "Finished local epoch 4 out of 5, average loss across batches: 540.3196832162363\n",
      "Finished local epoch 5 out of 5, average loss across batches: 538.8939844767252\n",
      "(Test Set) user 1 in round 8 totalL: 68.4846060605037 mseL: 67.65109084429562 klL: 0.8335152199369575\n",
      "Training user 2 in round 8\n",
      "Finished local epoch 1 out of 5, average loss across batches: 524.4767678626498\n",
      "Finished local epoch 2 out of 5, average loss across batches: 519.0346218481995\n",
      "Finished local epoch 3 out of 5, average loss across batches: 517.3743513293732\n",
      "Finished local epoch 4 out of 5, average loss across batches: 516.4654017857143\n",
      "Finished local epoch 5 out of 5, average loss across batches: 515.8992343988633\n",
      "(Test Set) user 2 in round 8 totalL: 95.17322462767342 mseL: 93.9199978922514 klL: 1.2532267043549035\n",
      "Training user 3 in round 8\n",
      "Finished local epoch 1 out of 5, average loss across batches: 476.01128761985086\n",
      "Finished local epoch 2 out of 5, average loss across batches: 471.6632657137784\n",
      "Finished local epoch 3 out of 5, average loss across batches: 470.2036780155066\n",
      "Finished local epoch 4 out of 5, average loss across batches: 469.41897804953834\n",
      "Finished local epoch 5 out of 5, average loss across batches: 468.382783277107\n",
      "(Test Set) user 3 in round 8 totalL: 118.77557153513665 mseL: 117.2207031609653 klL: 1.5548684188832245\n",
      "Training user 4 in round 8\n",
      "Finished local epoch 1 out of 5, average loss across batches: 502.07955780029295\n",
      "Finished local epoch 2 out of 5, average loss across batches: 497.9186641693115\n",
      "Finished local epoch 3 out of 5, average loss across batches: 496.43689308166506\n",
      "Finished local epoch 4 out of 5, average loss across batches: 495.47201652526854\n",
      "Finished local epoch 5 out of 5, average loss across batches: 494.51015491485595\n",
      "(Test Set) user 4 in round 8 totalL: 113.27169949539605 mseL: 111.83756438108696 klL: 1.4341351199592711\n"
     ]
    },
    {
     "name": "stderr",
     "output_type": "stream",
     "text": [
      " 80%|████████  | 8/10 [10:44<02:41, 80.82s/it]"
     ]
    },
    {
     "name": "stdout",
     "output_type": "stream",
     "text": [
      "TEST LOSS AT GLOBAL ROUND 8 totalL: 520.504584387207\n",
      "\n",
      " | Global Training Round : 9 |\n",
      "\n",
      "Training user 0 in round 9\n",
      "Finished local epoch 1 out of 5, average loss across batches: 488.8980194419943\n",
      "Finished local epoch 2 out of 5, average loss across batches: 485.148441601825\n",
      "Finished local epoch 3 out of 5, average loss across batches: 484.28710018691197\n",
      "Finished local epoch 4 out of 5, average loss across batches: 483.28653380691367\n",
      "Finished local epoch 5 out of 5, average loss across batches: 482.4922112905851\n",
      "(Test Set) user 0 in round 9 totalL: 132.03519396567393 mseL: 130.3028450788151 klL: 1.7323488979965713\n",
      "Training user 1 in round 9\n",
      "Finished local epoch 1 out of 5, average loss across batches: 546.9942889743381\n",
      "Finished local epoch 2 out of 5, average loss across batches: 542.2972400806568\n",
      "Finished local epoch 3 out of 5, average loss across batches: 540.4369156448929\n",
      "Finished local epoch 4 out of 5, average loss across batches: 539.1387001320168\n",
      "Finished local epoch 5 out of 5, average loss across batches: 538.4966634114584\n",
      "(Test Set) user 1 in round 9 totalL: 68.49828507279202 mseL: 67.70562041314528 klL: 0.7926646603235872\n",
      "Training user 2 in round 9\n",
      "Finished local epoch 1 out of 5, average loss across batches: 523.4766095383723\n",
      "Finished local epoch 2 out of 5, average loss across batches: 517.6776341029575\n",
      "Finished local epoch 3 out of 5, average loss across batches: 516.2848127551545\n",
      "Finished local epoch 4 out of 5, average loss across batches: 514.7973302396616\n",
      "Finished local epoch 5 out of 5, average loss across batches: 514.5356787201157\n",
      "(Test Set) user 2 in round 9 totalL: 94.70592548312267 mseL: 93.49208246136806 klL: 1.2138430470422004\n",
      "Training user 3 in round 9\n",
      "Finished local epoch 1 out of 5, average loss across batches: 475.2938933401397\n",
      "Finished local epoch 2 out of 5, average loss across batches: 470.9326691598603\n",
      "Finished local epoch 3 out of 5, average loss across batches: 469.9096313476563\n",
      "Finished local epoch 4 out of 5, average loss across batches: 469.4645916563092\n",
      "Finished local epoch 5 out of 5, average loss across batches: 468.69853238192474\n",
      "(Test Set) user 3 in round 9 totalL: 118.54836340754422 mseL: 116.98121166948246 klL: 1.5671517157565769\n",
      "Training user 4 in round 9\n",
      "Finished local epoch 1 out of 5, average loss across batches: 500.08365898132325\n",
      "Finished local epoch 2 out of 5, average loss across batches: 496.8653594970703\n",
      "Finished local epoch 3 out of 5, average loss across batches: 495.2159212112427\n",
      "Finished local epoch 4 out of 5, average loss across batches: 494.51666393280027\n",
      "Finished local epoch 5 out of 5, average loss across batches: 493.8053375244141\n",
      "(Test Set) user 4 in round 9 totalL: 112.77431525671732 mseL: 111.31789978721761 klL: 1.4564154912808476\n"
     ]
    },
    {
     "name": "stderr",
     "output_type": "stream",
     "text": [
      " 90%|█████████ | 9/10 [12:03<01:20, 80.46s/it]"
     ]
    },
    {
     "name": "stdout",
     "output_type": "stream",
     "text": [
      "TEST LOSS AT GLOBAL ROUND 9 totalL: 519.1887217636108\n",
      "\n",
      " | Global Training Round : 10 |\n",
      "\n",
      "Training user 0 in round 10\n",
      "Finished local epoch 1 out of 5, average loss across batches: 487.3121982697518\n",
      "Finished local epoch 2 out of 5, average loss across batches: 484.25149831464216\n",
      "Finished local epoch 3 out of 5, average loss across batches: 483.0685736543389\n",
      "Finished local epoch 4 out of 5, average loss across batches: 481.7498981106666\n",
      "Finished local epoch 5 out of 5, average loss across batches: 480.9768543858682\n",
      "(Test Set) user 0 in round 10 totalL: 131.91448235354426 mseL: 130.15642218570932 klL: 1.7580601961603362\n",
      "Training user 1 in round 10\n",
      "Finished local epoch 1 out of 5, average loss across batches: 546.166953475387\n",
      "Finished local epoch 2 out of 5, average loss across batches: 541.6106318721065\n",
      "Finished local epoch 3 out of 5, average loss across batches: 540.259595517759\n",
      "Finished local epoch 4 out of 5, average loss across batches: 539.2651186342592\n",
      "Finished local epoch 5 out of 5, average loss across batches: 537.532762032968\n",
      "(Test Set) user 1 in round 10 totalL: 68.25823047472085 mseL: 67.43469658910765 klL: 0.8235339027469923\n",
      "Training user 2 in round 10\n",
      "Finished local epoch 1 out of 5, average loss across batches: 521.6462071927866\n",
      "Finished local epoch 2 out of 5, average loss across batches: 515.9574208653959\n",
      "Finished local epoch 3 out of 5, average loss across batches: 514.5384471004171\n",
      "Finished local epoch 4 out of 5, average loss across batches: 514.2003554724213\n",
      "Finished local epoch 5 out of 5, average loss across batches: 513.2528289565466\n",
      "(Test Set) user 2 in round 10 totalL: 94.55891240536813 mseL: 93.31643582020578 klL: 1.2424765865815106\n",
      "Training user 3 in round 10\n",
      "Finished local epoch 1 out of 5, average loss across batches: 473.84480035955255\n",
      "Finished local epoch 2 out of 5, average loss across batches: 469.4213783957741\n",
      "Finished local epoch 3 out of 5, average loss across batches: 468.18163119229405\n",
      "Finished local epoch 4 out of 5, average loss across batches: 467.43497000029595\n",
      "Finished local epoch 5 out of 5, average loss across batches: 466.82569561582625\n",
      "(Test Set) user 3 in round 10 totalL: 118.4461117464099 mseL: 116.9530463251357 klL: 1.4930654181442167\n",
      "Training user 4 in round 10\n",
      "Finished local epoch 1 out of 5, average loss across batches: 498.64958209991454\n",
      "Finished local epoch 2 out of 5, average loss across batches: 495.7669250488281\n",
      "Finished local epoch 3 out of 5, average loss across batches: 493.97762031555175\n",
      "Finished local epoch 4 out of 5, average loss across batches: 493.6655818939209\n",
      "Finished local epoch 5 out of 5, average loss across batches: 492.7475656509399\n",
      "(Test Set) user 4 in round 10 totalL: 112.38296465806656 mseL: 110.93253130750313 klL: 1.4504333292791558\n"
     ]
    },
    {
     "name": "stderr",
     "output_type": "stream",
     "text": [
      "100%|██████████| 10/10 [13:23<00:00, 80.31s/it]"
     ]
    },
    {
     "name": "stdout",
     "output_type": "stream",
     "text": [
      "TEST LOSS AT GLOBAL ROUND 10 totalL: 517.1140331542969\n",
      "TRAINING ALL DONE!\n"
     ]
    },
    {
     "name": "stderr",
     "output_type": "stream",
     "text": [
      "\n"
     ]
    }
   ],
   "execution_count": 78
  },
  {
   "metadata": {
    "ExecuteTime": {
     "end_time": "2024-05-15T21:09:44.563985Z",
     "start_time": "2024-05-15T21:09:44.560983Z"
    }
   },
   "cell_type": "code",
   "source": [
    "a = res.global_loss_manager.validation_total_across_communication\n",
    "o1, o2, o3, o4, o5, o6 = ClientLossManager.process_data(res.all_losses)"
   ],
   "id": "8db06cdf7ba87dc9",
   "outputs": [],
   "execution_count": 79
  },
  {
   "metadata": {
    "ExecuteTime": {
     "end_time": "2024-05-15T21:09:44.758885Z",
     "start_time": "2024-05-15T21:09:44.755944Z"
    }
   },
   "cell_type": "code",
   "source": [
    "b = second_res.global_loss_manager.validation_total_across_communication\n",
    "n1, n2, n3 , n4, n5, n6 = ClientLossManager.process_data(second_res.all_losses)"
   ],
   "id": "8b25e1543e3f6757",
   "outputs": [],
   "execution_count": 80
  },
  {
   "metadata": {
    "ExecuteTime": {
     "end_time": "2024-05-15T21:09:44.924564Z",
     "start_time": "2024-05-15T21:09:44.920086Z"
    }
   },
   "cell_type": "code",
   "source": "list(zip(a,b))",
   "id": "a2668b9ad5d6ca2",
   "outputs": [
    {
     "data": {
      "text/plain": [
       "[(646.8453204681397, 647.0580087982178),\n",
       " (586.6076307189942, 581.65384241333),\n",
       " (548.631498298645, 545.5246722610474),\n",
       " (534.9445433013916, 533.7025306533814),\n",
       " (528.3599200942994, 527.3985674743652),\n",
       " (524.5535369903564, 524.0577841079712),\n",
       " (521.1272794525147, 523.1073502304077),\n",
       " (520.1416580703735, 520.504584387207),\n",
       " (518.1590222946166, 519.1887217636108),\n",
       " (517.1427721740723, 517.1140331542969)]"
      ]
     },
     "execution_count": 81,
     "metadata": {},
     "output_type": "execute_result"
    }
   ],
   "execution_count": 81
  },
  {
   "metadata": {},
   "cell_type": "code",
   "outputs": [],
   "execution_count": null,
   "source": "",
   "id": "fb032765b840b084"
  }
 ],
 "metadata": {
  "kernelspec": {
   "display_name": "Python 3",
   "language": "python",
   "name": "python3"
  },
  "language_info": {
   "codemirror_mode": {
    "name": "ipython",
    "version": 2
   },
   "file_extension": ".py",
   "mimetype": "text/x-python",
   "name": "python",
   "nbconvert_exporter": "python",
   "pygments_lexer": "ipython2",
   "version": "2.7.6"
  }
 },
 "nbformat": 4,
 "nbformat_minor": 5
}
