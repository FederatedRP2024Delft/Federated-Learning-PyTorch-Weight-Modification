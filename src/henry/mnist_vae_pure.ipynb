{
 "cells": [
  {
   "cell_type": "code",
   "id": "initial_id",
   "metadata": {
    "collapsed": true,
    "ExecuteTime": {
     "end_time": "2024-05-16T13:22:22.310313Z",
     "start_time": "2024-05-16T13:22:19.144314Z"
    }
   },
   "source": [
    "import torch.cuda\n",
    "import sys\n",
    "\n",
    "sys.path.append('..')\n",
    "SEED=1\n",
    "\n",
    "from src.henry.mnist_vae_pure import VariationalAutoencoder\n",
    "import torchvision\n",
    "import torchvision.datasets as datasets\n",
    "import pickle\n",
    "from matplotlib import pyplot as plt\n",
    "import numpy as np\n",
    "from utils import * \n",
    "from WeightsModification import * \n",
    "from federated_pure import federate\n",
    "\n",
    "\n"
   ],
   "outputs": [],
   "execution_count": 1
  },
  {
   "metadata": {
    "ExecuteTime": {
     "end_time": "2024-05-16T13:22:22.313278Z",
     "start_time": "2024-05-16T13:22:22.311184Z"
    }
   },
   "cell_type": "code",
   "source": [
    "class MockArgs:\n",
    "    def __init__(self):\n",
    "        self.seed=11\n",
    "        self.epochs = 10\n",
    "        self.dataset = \"mnist\"\n",
    "        self.num_users=5\n",
    "        self.iid = 2\n",
    "        self.dirichlet = 0.5 \n",
    "        self.local_ep=5\n",
    "        self.local_bs=64\n",
    "        self.beta=10.0\n",
    "    "
   ],
   "id": "eeb36afb17958ed6",
   "outputs": [],
   "execution_count": 2
  },
  {
   "metadata": {
    "ExecuteTime": {
     "end_time": "2024-05-16T13:35:00.305429Z",
     "start_time": "2024-05-16T13:22:22.389892Z"
    }
   },
   "cell_type": "code",
   "source": [
    "# vae, ovr_losses, mse_losses, kl_losses = vae.train_model(dataset_train,16,10)\n",
    "# print(mse_losses)\n",
    "# print(kl_losses)\n",
    "res = federate(MockArgs())\n",
    "res.serialise(\"base_beta_10\", MockArgs())\n",
    "\n",
    "\n",
    "\n"
   ],
   "id": "a1afe9246a657416",
   "outputs": [
    {
     "name": "stderr",
     "output_type": "stream",
     "text": [
      "/home/henry/miniconda3/envs/rp/lib/python3.12/site-packages/torchvision/datasets/mnist.py:66: UserWarning: train_labels has been renamed targets\n",
      "  warnings.warn(\"train_labels has been renamed targets\")\n",
      "  0%|          | 0/10 [00:00<?, ?it/s]"
     ]
    },
    {
     "name": "stdout",
     "output_type": "stream",
     "text": [
      "\n",
      " | Global Training Round : 1 |\n",
      "\n",
      "Training user 0 in round 1\n",
      "Finished local epoch 1 out of 5, average loss across batches: 607.0671964078336\n",
      "Finished local epoch 2 out of 5, average loss across batches: 571.9552386859516\n",
      "Finished local epoch 3 out of 5, average loss across batches: 556.1713438291807\n",
      "Finished local epoch 4 out of 5, average loss across batches: 547.764462857633\n",
      "Finished local epoch 5 out of 5, average loss across batches: 542.6386836971249\n",
      "(Test Set) user 0 in round 1 totalL: 598.7765685394287 mseL: 577.1977115966797 klL: 21.578856814384462\n",
      "Training user 1 in round 1\n",
      "Finished local epoch 1 out of 5, average loss across batches: 630.3893602508859\n",
      "Finished local epoch 2 out of 5, average loss across batches: 585.4347943178158\n",
      "Finished local epoch 3 out of 5, average loss across batches: 575.2078291116302\n",
      "Finished local epoch 4 out of 5, average loss across batches: 571.304387358046\n",
      "Finished local epoch 5 out of 5, average loss across batches: 566.1992426606797\n",
      "(Test Set) user 1 in round 1 totalL: 607.5983719604492 mseL: 588.5748042419434 klL: 19.023567790317536\n",
      "Training user 2 in round 1\n",
      "Finished local epoch 1 out of 5, average loss across batches: 599.2259678752876\n",
      "Finished local epoch 2 out of 5, average loss across batches: 566.2136563728192\n",
      "Finished local epoch 3 out of 5, average loss across batches: 560.1346813740174\n",
      "Finished local epoch 4 out of 5, average loss across batches: 554.8632074835841\n",
      "Finished local epoch 5 out of 5, average loss across batches: 551.6727504613209\n",
      "(Test Set) user 2 in round 1 totalL: 607.737521850586 mseL: 586.5711317108154 klL: 21.166390104794502\n",
      "Training user 3 in round 1\n",
      "Finished local epoch 1 out of 5, average loss across batches: 653.7255159870962\n",
      "Finished local epoch 2 out of 5, average loss across batches: 611.9328383542179\n",
      "Finished local epoch 3 out of 5, average loss across batches: 607.6741226710631\n",
      "Finished local epoch 4 out of 5, average loss across batches: 603.4973994908707\n",
      "Finished local epoch 5 out of 5, average loss across batches: 598.9604097859243\n",
      "(Test Set) user 3 in round 1 totalL: 602.3457370819092 mseL: 577.5747645355225 klL: 24.770972477579118\n",
      "Training user 4 in round 1\n",
      "Finished local epoch 1 out of 5, average loss across batches: 621.4457014495251\n",
      "Finished local epoch 2 out of 5, average loss across batches: 585.8879583022174\n",
      "Finished local epoch 3 out of 5, average loss across batches: 581.927515964882\n",
      "Finished local epoch 4 out of 5, average loss across batches: 578.5851105334712\n",
      "Finished local epoch 5 out of 5, average loss across batches: 577.0273275936352\n",
      "(Test Set) user 4 in round 1 totalL: 598.0092580993652 mseL: 578.2186115264892 klL: 19.7906466247797\n"
     ]
    },
    {
     "name": "stderr",
     "output_type": "stream",
     "text": [
      " 10%|█         | 1/10 [01:21<12:09, 81.07s/it]"
     ]
    },
    {
     "name": "stdout",
     "output_type": "stream",
     "text": [
      "TEST LOSS AT GLOBAL ROUND 1 totalL: 641.4063869171142\n",
      "\n",
      " | Global Training Round : 2 |\n",
      "\n",
      "Training user 0 in round 2\n",
      "Finished local epoch 1 out of 5, average loss across batches: 568.3327752190668\n",
      "Finished local epoch 2 out of 5, average loss across batches: 546.4800593745601\n",
      "Finished local epoch 3 out of 5, average loss across batches: 540.1493769465266\n",
      "Finished local epoch 4 out of 5, average loss across batches: 537.2500041239971\n",
      "Finished local epoch 5 out of 5, average loss across batches: 534.581771163253\n",
      "(Test Set) user 0 in round 2 totalL: 590.3902142883301 mseL: 564.3589171417236 klL: 26.031297208052873\n",
      "Training user 1 in round 2\n",
      "Finished local epoch 1 out of 5, average loss across batches: 578.8376320121215\n",
      "Finished local epoch 2 out of 5, average loss across batches: 561.6338274454333\n",
      "Finished local epoch 3 out of 5, average loss across batches: 557.0723593800338\n",
      "Finished local epoch 4 out of 5, average loss across batches: 553.7996565042083\n",
      "Finished local epoch 5 out of 5, average loss across batches: 550.3715965035035\n",
      "(Test Set) user 1 in round 2 totalL: 588.4365366424561 mseL: 560.4925474258423 klL: 27.943989414048193\n",
      "Training user 2 in round 2\n",
      "Finished local epoch 1 out of 5, average loss across batches: 562.2199040512365\n",
      "Finished local epoch 2 out of 5, average loss across batches: 546.1932447936638\n",
      "Finished local epoch 3 out of 5, average loss across batches: 542.6661369464149\n",
      "Finished local epoch 4 out of 5, average loss across batches: 540.5065251449865\n",
      "Finished local epoch 5 out of 5, average loss across batches: 538.8751417288751\n",
      "(Test Set) user 2 in round 2 totalL: 589.9718098754882 mseL: 562.3717725509644 klL: 27.600037290239335\n",
      "Training user 3 in round 2\n",
      "Finished local epoch 1 out of 5, average loss across batches: 615.1218669762773\n",
      "Finished local epoch 2 out of 5, average loss across batches: 596.9452812966337\n",
      "Finished local epoch 3 out of 5, average loss across batches: 592.6338538694918\n",
      "Finished local epoch 4 out of 5, average loss across batches: 589.8244032270453\n",
      "Finished local epoch 5 out of 5, average loss across batches: 587.2697109265274\n",
      "(Test Set) user 3 in round 2 totalL: 588.2090075683594 mseL: 561.0134491653442 klL: 27.195558462953567\n",
      "Training user 4 in round 2\n",
      "Finished local epoch 1 out of 5, average loss across batches: 584.6813647700291\n",
      "Finished local epoch 2 out of 5, average loss across batches: 573.9996257108801\n",
      "Finished local epoch 3 out of 5, average loss across batches: 570.7346224317364\n",
      "Finished local epoch 4 out of 5, average loss across batches: 568.8916446461398\n",
      "Finished local epoch 5 out of 5, average loss across batches: 567.1767682842179\n",
      "(Test Set) user 4 in round 2 totalL: 587.6971951416016 mseL: 563.5883457885742 klL: 24.108849920892716\n"
     ]
    },
    {
     "name": "stderr",
     "output_type": "stream",
     "text": [
      " 20%|██        | 2/10 [02:37<10:25, 78.14s/it]"
     ]
    },
    {
     "name": "stdout",
     "output_type": "stream",
     "text": [
      "TEST LOSS AT GLOBAL ROUND 2 totalL: 597.4142359436036\n",
      "\n",
      " | Global Training Round : 3 |\n",
      "\n",
      "Training user 0 in round 3\n",
      "Finished local epoch 1 out of 5, average loss across batches: 546.779171780423\n",
      "Finished local epoch 2 out of 5, average loss across batches: 534.8305892257004\n",
      "Finished local epoch 3 out of 5, average loss across batches: 532.17198194899\n",
      "Finished local epoch 4 out of 5, average loss across batches: 530.9576528738211\n",
      "Finished local epoch 5 out of 5, average loss across batches: 529.4957085686762\n",
      "(Test Set) user 0 in round 3 totalL: 583.4877411712647 mseL: 554.5254479064942 klL: 28.962293038392065\n",
      "Training user 1 in round 3\n",
      "Finished local epoch 1 out of 5, average loss across batches: 569.4466634534069\n",
      "Finished local epoch 2 out of 5, average loss across batches: 554.1799045838031\n",
      "Finished local epoch 3 out of 5, average loss across batches: 549.6089666307587\n",
      "Finished local epoch 4 out of 5, average loss across batches: 548.0845944119483\n",
      "Finished local epoch 5 out of 5, average loss across batches: 545.4485039465206\n",
      "(Test Set) user 1 in round 3 totalL: 584.1382458709717 mseL: 549.9121042449951 klL: 34.22614136624336\n",
      "Training user 2 in round 3\n",
      "Finished local epoch 1 out of 5, average loss across batches: 550.5042138596986\n",
      "Finished local epoch 2 out of 5, average loss across batches: 540.4252615150499\n",
      "Finished local epoch 3 out of 5, average loss across batches: 537.4140239317725\n",
      "Finished local epoch 4 out of 5, average loss across batches: 535.1726061113042\n",
      "Finished local epoch 5 out of 5, average loss across batches: 533.95326991169\n",
      "(Test Set) user 2 in round 3 totalL: 587.3921318511963 mseL: 558.1947835662842 klL: 29.197348217093946\n",
      "Training user 3 in round 3\n",
      "Finished local epoch 1 out of 5, average loss across batches: 597.1347532808111\n",
      "Finished local epoch 2 out of 5, average loss across batches: 587.4233755047402\n",
      "Finished local epoch 3 out of 5, average loss across batches: 585.2259233453301\n",
      "Finished local epoch 4 out of 5, average loss across batches: 583.6084793605162\n",
      "Finished local epoch 5 out of 5, average loss across batches: 581.797579990344\n",
      "(Test Set) user 3 in round 3 totalL: 585.5838433319092 mseL: 553.7659274551391 klL: 31.81791577191353\n",
      "Training user 4 in round 3\n",
      "Finished local epoch 1 out of 5, average loss across batches: 571.0829907585593\n",
      "Finished local epoch 2 out of 5, average loss across batches: 565.4235678280102\n",
      "Finished local epoch 3 out of 5, average loss across batches: 563.4001964494294\n",
      "Finished local epoch 4 out of 5, average loss across batches: 561.5842590332031\n",
      "Finished local epoch 5 out of 5, average loss across batches: 560.312759698606\n",
      "(Test Set) user 4 in round 3 totalL: 581.9119643676758 mseL: 554.2888679870606 klL: 27.62309619855881\n"
     ]
    },
    {
     "name": "stderr",
     "output_type": "stream",
     "text": [
      " 30%|███       | 3/10 [03:53<09:00, 77.23s/it]"
     ]
    },
    {
     "name": "stdout",
     "output_type": "stream",
     "text": [
      "TEST LOSS AT GLOBAL ROUND 3 totalL: 562.995218661499\n",
      "\n",
      " | Global Training Round : 4 |\n",
      "\n",
      "Training user 0 in round 4\n",
      "Finished local epoch 1 out of 5, average loss across batches: 537.5237586219032\n",
      "Finished local epoch 2 out of 5, average loss across batches: 530.1466848012564\n",
      "Finished local epoch 3 out of 5, average loss across batches: 528.0130535503765\n",
      "Finished local epoch 4 out of 5, average loss across batches: 527.0349937645165\n",
      "Finished local epoch 5 out of 5, average loss across batches: 525.3523171914591\n",
      "(Test Set) user 0 in round 4 totalL: 577.0954859832764 mseL: 544.7211781539917 klL: 32.37430741755962\n",
      "Training user 1 in round 4\n",
      "Finished local epoch 1 out of 5, average loss across batches: 558.8365554023035\n",
      "Finished local epoch 2 out of 5, average loss across batches: 545.5040188818863\n",
      "Finished local epoch 3 out of 5, average loss across batches: 542.3780291055896\n",
      "Finished local epoch 4 out of 5, average loss across batches: 540.4487933915915\n",
      "Finished local epoch 5 out of 5, average loss across batches: 538.8738629842542\n",
      "(Test Set) user 1 in round 4 totalL: 576.0641071472168 mseL: 544.3575451110839 klL: 31.70656205301285\n",
      "Training user 2 in round 4\n",
      "Finished local epoch 1 out of 5, average loss across batches: 541.5399976859063\n",
      "Finished local epoch 2 out of 5, average loss across batches: 534.2247458615917\n",
      "Finished local epoch 3 out of 5, average loss across batches: 532.2399760053202\n",
      "Finished local epoch 4 out of 5, average loss across batches: 530.5681942430742\n",
      "Finished local epoch 5 out of 5, average loss across batches: 529.8988763540069\n",
      "(Test Set) user 2 in round 4 totalL: 584.9062559722901 mseL: 553.8333285217285 klL: 31.072927634608746\n",
      "Training user 3 in round 4\n",
      "Finished local epoch 1 out of 5, average loss across batches: 592.1484940775325\n",
      "Finished local epoch 2 out of 5, average loss across batches: 583.5260366375527\n",
      "Finished local epoch 3 out of 5, average loss across batches: 580.6411906038777\n",
      "Finished local epoch 4 out of 5, average loss across batches: 579.0114965545997\n",
      "Finished local epoch 5 out of 5, average loss across batches: 578.1622972809866\n",
      "(Test Set) user 3 in round 4 totalL: 578.2030077728272 mseL: 546.565300982666 klL: 31.637706651496888\n",
      "Training user 4 in round 4\n",
      "Finished local epoch 1 out of 5, average loss across batches: 564.799576104856\n",
      "Finished local epoch 2 out of 5, average loss across batches: 560.8270338469861\n",
      "Finished local epoch 3 out of 5, average loss across batches: 559.1748244341682\n",
      "Finished local epoch 4 out of 5, average loss across batches: 557.9498216217639\n",
      "Finished local epoch 5 out of 5, average loss across batches: 557.2682504092945\n",
      "(Test Set) user 4 in round 4 totalL: 575.9418124847413 mseL: 545.1941554046631 klL: 30.74765701470375\n"
     ]
    },
    {
     "name": "stderr",
     "output_type": "stream",
     "text": [
      " 40%|████      | 4/10 [05:11<07:44, 77.43s/it]"
     ]
    },
    {
     "name": "stdout",
     "output_type": "stream",
     "text": [
      "TEST LOSS AT GLOBAL ROUND 4 totalL: 549.9691562179565\n",
      "\n",
      " | Global Training Round : 5 |\n",
      "\n",
      "Training user 0 in round 5\n",
      "Finished local epoch 1 out of 5, average loss across batches: 532.7155536273578\n",
      "Finished local epoch 2 out of 5, average loss across batches: 527.1037746120144\n",
      "Finished local epoch 3 out of 5, average loss across batches: 526.3041120649458\n",
      "Finished local epoch 4 out of 5, average loss across batches: 524.5781046549479\n",
      "Finished local epoch 5 out of 5, average loss across batches: 524.7875198501724\n",
      "(Test Set) user 0 in round 5 totalL: 574.5500700164795 mseL: 539.849239932251 klL: 34.70083017225266\n",
      "Training user 1 in round 5\n",
      "Finished local epoch 1 out of 5, average loss across batches: 549.3175388611469\n",
      "Finished local epoch 2 out of 5, average loss across batches: 540.3891179979462\n",
      "Finished local epoch 3 out of 5, average loss across batches: 538.8788279110623\n",
      "Finished local epoch 4 out of 5, average loss across batches: 538.0821784894491\n",
      "Finished local epoch 5 out of 5, average loss across batches: 536.3836883859536\n",
      "(Test Set) user 1 in round 5 totalL: 572.2630615234375 mseL: 539.108826423645 klL: 33.15423476347923\n",
      "Training user 2 in round 5\n",
      "Finished local epoch 1 out of 5, average loss across batches: 535.9812708193539\n",
      "Finished local epoch 2 out of 5, average loss across batches: 531.2708706533982\n",
      "Finished local epoch 3 out of 5, average loss across batches: 529.9469136431173\n",
      "Finished local epoch 4 out of 5, average loss across batches: 528.7846003807396\n",
      "Finished local epoch 5 out of 5, average loss across batches: 528.1443792237826\n",
      "(Test Set) user 2 in round 5 totalL: 582.7703677734376 mseL: 550.0012714569092 klL: 32.76909630223513\n",
      "Training user 3 in round 5\n",
      "Finished local epoch 1 out of 5, average loss across batches: 586.3122363144092\n",
      "Finished local epoch 2 out of 5, average loss across batches: 579.0413190863105\n",
      "Finished local epoch 3 out of 5, average loss across batches: 576.7704440341906\n",
      "Finished local epoch 4 out of 5, average loss across batches: 575.1254711365432\n",
      "Finished local epoch 5 out of 5, average loss across batches: 575.1355731406908\n",
      "(Test Set) user 3 in round 5 totalL: 576.6386589874268 mseL: 543.7896403335571 klL: 32.84901859843731\n",
      "Training user 4 in round 5\n",
      "Finished local epoch 1 out of 5, average loss across batches: 561.3227000517004\n",
      "Finished local epoch 2 out of 5, average loss across batches: 557.7549872304879\n",
      "Finished local epoch 3 out of 5, average loss across batches: 556.2015126546224\n",
      "Finished local epoch 4 out of 5, average loss across batches: 555.7751333199295\n",
      "Finished local epoch 5 out of 5, average loss across batches: 554.9964358759861\n",
      "(Test Set) user 4 in round 5 totalL: 572.4325594268798 mseL: 540.1904101943969 klL: 32.242149511384966\n"
     ]
    },
    {
     "name": "stderr",
     "output_type": "stream",
     "text": [
      " 50%|█████     | 5/10 [06:25<06:21, 76.37s/it]"
     ]
    },
    {
     "name": "stdout",
     "output_type": "stream",
     "text": [
      "TEST LOSS AT GLOBAL ROUND 5 totalL: 543.442011302185\n",
      "\n",
      " | Global Training Round : 6 |\n",
      "\n",
      "Training user 0 in round 6\n",
      "Finished local epoch 1 out of 5, average loss across batches: 530.6639335563591\n",
      "Finished local epoch 2 out of 5, average loss across batches: 525.641793190896\n",
      "Finished local epoch 3 out of 5, average loss across batches: 524.135259954779\n",
      "Finished local epoch 4 out of 5, average loss across batches: 523.641686241906\n",
      "Finished local epoch 5 out of 5, average loss across batches: 522.8507910376196\n",
      "(Test Set) user 0 in round 6 totalL: 572.3733087631225 mseL: 537.6136308105469 klL: 34.759678046798705\n",
      "Training user 1 in round 6\n",
      "Finished local epoch 1 out of 5, average loss across batches: 543.4023623122382\n",
      "Finished local epoch 2 out of 5, average loss across batches: 538.8906303484415\n",
      "Finished local epoch 3 out of 5, average loss across batches: 536.9310752632691\n",
      "Finished local epoch 4 out of 5, average loss across batches: 536.0022340754873\n",
      "Finished local epoch 5 out of 5, average loss across batches: 535.1489311296915\n",
      "(Test Set) user 1 in round 6 totalL: 570.8481967193603 mseL: 536.8849603118897 klL: 33.96323633961678\n",
      "Training user 2 in round 6\n",
      "Finished local epoch 1 out of 5, average loss across batches: 533.1349530366301\n",
      "Finished local epoch 2 out of 5, average loss across batches: 530.0304846266296\n",
      "Finished local epoch 3 out of 5, average loss across batches: 528.9428201687117\n",
      "Finished local epoch 4 out of 5, average loss across batches: 528.2692208319354\n",
      "Finished local epoch 5 out of 5, average loss across batches: 527.6456049819666\n",
      "(Test Set) user 2 in round 6 totalL: 583.6457410552979 mseL: 549.2473670532227 klL: 34.398374028348925\n",
      "Training user 3 in round 6\n",
      "Finished local epoch 1 out of 5, average loss across batches: 582.8375892210543\n",
      "Finished local epoch 2 out of 5, average loss across batches: 576.2793915137815\n",
      "Finished local epoch 3 out of 5, average loss across batches: 573.8404818759875\n",
      "Finished local epoch 4 out of 5, average loss across batches: 572.6006006819479\n",
      "Finished local epoch 5 out of 5, average loss across batches: 572.7932084330013\n",
      "(Test Set) user 3 in round 6 totalL: 572.9562792449951 mseL: 536.7055561401368 klL: 36.25072304515839\n",
      "Training user 4 in round 6\n",
      "Finished local epoch 1 out of 5, average loss across batches: 559.0482572667739\n",
      "Finished local epoch 2 out of 5, average loss across batches: 556.3669478472541\n",
      "Finished local epoch 3 out of 5, average loss across batches: 555.1113676183364\n",
      "Finished local epoch 4 out of 5, average loss across batches: 554.0349674598843\n",
      "Finished local epoch 5 out of 5, average loss across batches: 553.5095388375076\n",
      "(Test Set) user 4 in round 6 totalL: 571.2748926315307 mseL: 539.2802582870484 klL: 31.99463439974785\n"
     ]
    },
    {
     "name": "stderr",
     "output_type": "stream",
     "text": [
      " 60%|██████    | 6/10 [07:38<05:01, 75.29s/it]"
     ]
    },
    {
     "name": "stdout",
     "output_type": "stream",
     "text": [
      "TEST LOSS AT GLOBAL ROUND 6 totalL: 537.9923471252441\n",
      "\n",
      " | Global Training Round : 7 |\n",
      "\n",
      "Training user 0 in round 7\n",
      "Finished local epoch 1 out of 5, average loss across batches: 528.9712656381968\n",
      "Finished local epoch 2 out of 5, average loss across batches: 524.9586563797684\n",
      "Finished local epoch 3 out of 5, average loss across batches: 523.5412949570665\n",
      "Finished local epoch 4 out of 5, average loss across batches: 522.8818780022699\n",
      "Finished local epoch 5 out of 5, average loss across batches: 521.7893929696298\n",
      "(Test Set) user 0 in round 7 totalL: 569.5164274749756 mseL: 535.7757684555054 klL: 33.740659003710746\n",
      "Training user 1 in round 7\n",
      "Finished local epoch 1 out of 5, average loss across batches: 541.2966299155323\n",
      "Finished local epoch 2 out of 5, average loss across batches: 537.137713560124\n",
      "Finished local epoch 3 out of 5, average loss across batches: 535.5286909280364\n",
      "Finished local epoch 4 out of 5, average loss across batches: 533.696263264135\n",
      "Finished local epoch 5 out of 5, average loss across batches: 533.6450380934882\n",
      "(Test Set) user 1 in round 7 totalL: 567.8714162597656 mseL: 534.1806471282958 klL: 33.69076944100857\n",
      "Training user 2 in round 7\n",
      "Finished local epoch 1 out of 5, average loss across batches: 531.7504598231403\n",
      "Finished local epoch 2 out of 5, average loss across batches: 528.3513734033503\n",
      "Finished local epoch 3 out of 5, average loss across batches: 527.6125744778686\n",
      "Finished local epoch 4 out of 5, average loss across batches: 526.9462381374617\n",
      "Finished local epoch 5 out of 5, average loss across batches: 526.5086415296684\n",
      "(Test Set) user 2 in round 7 totalL: 579.3148092895508 mseL: 543.1033885864258 klL: 36.211420578980444\n",
      "Training user 3 in round 7\n",
      "Finished local epoch 1 out of 5, average loss across batches: 581.0727923103933\n",
      "Finished local epoch 2 out of 5, average loss across batches: 573.8222131621972\n",
      "Finished local epoch 3 out of 5, average loss across batches: 572.617167269246\n",
      "Finished local epoch 4 out of 5, average loss across batches: 572.0837481209402\n",
      "Finished local epoch 5 out of 5, average loss across batches: 571.0749700310525\n",
      "(Test Set) user 3 in round 7 totalL: 571.5491363189698 mseL: 536.0783747451782 klL: 35.47076144385338\n",
      "Training user 4 in round 7\n",
      "Finished local epoch 1 out of 5, average loss across batches: 557.3530704273898\n",
      "Finished local epoch 2 out of 5, average loss across batches: 555.1239296408261\n",
      "Finished local epoch 3 out of 5, average loss across batches: 554.2525147082758\n",
      "Finished local epoch 4 out of 5, average loss across batches: 553.7042924469592\n",
      "Finished local epoch 5 out of 5, average loss across batches: 553.2542515175015\n",
      "(Test Set) user 4 in round 7 totalL: 568.3155220153809 mseL: 534.0843428100586 klL: 34.231179296541214\n"
     ]
    },
    {
     "name": "stderr",
     "output_type": "stream",
     "text": [
      " 70%|███████   | 7/10 [08:51<03:43, 74.61s/it]"
     ]
    },
    {
     "name": "stdout",
     "output_type": "stream",
     "text": [
      "TEST LOSS AT GLOBAL ROUND 7 totalL: 534.490664628601\n",
      "\n",
      " | Global Training Round : 8 |\n",
      "\n",
      "Training user 0 in round 8\n",
      "Finished local epoch 1 out of 5, average loss across batches: 528.6097607311901\n",
      "Finished local epoch 2 out of 5, average loss across batches: 524.1700802364865\n",
      "Finished local epoch 3 out of 5, average loss across batches: 523.3865713858389\n",
      "Finished local epoch 4 out of 5, average loss across batches: 521.2351816538218\n",
      "Finished local epoch 5 out of 5, average loss across batches: 520.9710693359375\n",
      "(Test Set) user 0 in round 8 totalL: 568.8432200531006 mseL: 535.9366886398316 klL: 32.90653141665459\n",
      "Training user 1 in round 8\n",
      "Finished local epoch 1 out of 5, average loss across batches: 538.9946128609254\n",
      "Finished local epoch 2 out of 5, average loss across batches: 535.0279981475516\n",
      "Finished local epoch 3 out of 5, average loss across batches: 534.803949100455\n",
      "Finished local epoch 4 out of 5, average loss across batches: 532.9382387141592\n",
      "Finished local epoch 5 out of 5, average loss across batches: 531.423693155505\n",
      "(Test Set) user 1 in round 8 totalL: 565.6143380645752 mseL: 529.6698098129273 klL: 35.94452834579945\n",
      "Training user 2 in round 8\n",
      "Finished local epoch 1 out of 5, average loss across batches: 530.8778096766559\n",
      "Finished local epoch 2 out of 5, average loss across batches: 528.2639871608992\n",
      "Finished local epoch 3 out of 5, average loss across batches: 526.7199149102521\n",
      "Finished local epoch 4 out of 5, average loss across batches: 526.0978275603312\n",
      "Finished local epoch 5 out of 5, average loss across batches: 526.0868002300614\n",
      "(Test Set) user 2 in round 8 totalL: 575.3503821044922 mseL: 537.3754883758545 klL: 37.974893465781214\n",
      "Training user 3 in round 8\n",
      "Finished local epoch 1 out of 5, average loss across batches: 578.4962360510665\n",
      "Finished local epoch 2 out of 5, average loss across batches: 572.9320548411166\n",
      "Finished local epoch 3 out of 5, average loss across batches: 572.1375344951501\n",
      "Finished local epoch 4 out of 5, average loss across batches: 570.8602024035507\n",
      "Finished local epoch 5 out of 5, average loss across batches: 570.2980497553108\n",
      "(Test Set) user 3 in round 8 totalL: 570.4439931152343 mseL: 533.5491703475952 klL: 36.894822744655606\n",
      "Training user 4 in round 8\n",
      "Finished local epoch 1 out of 5, average loss across batches: 556.4953728470148\n",
      "Finished local epoch 2 out of 5, average loss across batches: 553.7525278727213\n",
      "Finished local epoch 3 out of 5, average loss across batches: 552.9142445582969\n",
      "Finished local epoch 4 out of 5, average loss across batches: 551.9521927179075\n",
      "Finished local epoch 5 out of 5, average loss across batches: 552.3428946102367\n",
      "(Test Set) user 4 in round 8 totalL: 567.888893826294 mseL: 532.0099602508545 klL: 35.878933595991136\n"
     ]
    },
    {
     "name": "stderr",
     "output_type": "stream",
     "text": [
      " 80%|████████  | 8/10 [10:05<02:28, 74.22s/it]"
     ]
    },
    {
     "name": "stdout",
     "output_type": "stream",
     "text": [
      "TEST LOSS AT GLOBAL ROUND 8 totalL: 531.4942874420166\n",
      "\n",
      " | Global Training Round : 9 |\n",
      "\n",
      "Training user 0 in round 9\n",
      "Finished local epoch 1 out of 5, average loss across batches: 527.9398836702914\n",
      "Finished local epoch 2 out of 5, average loss across batches: 523.5387331301027\n",
      "Finished local epoch 3 out of 5, average loss across batches: 522.2139683628941\n",
      "Finished local epoch 4 out of 5, average loss across batches: 521.959587578301\n",
      "Finished local epoch 5 out of 5, average loss across batches: 520.7713323369757\n",
      "(Test Set) user 0 in round 9 totalL: 567.9186027923583 mseL: 533.5498774169922 klL: 34.36872541689873\n",
      "Training user 1 in round 9\n",
      "Finished local epoch 1 out of 5, average loss across batches: 537.6897441431419\n",
      "Finished local epoch 2 out of 5, average loss across batches: 534.4731407558795\n",
      "Finished local epoch 3 out of 5, average loss across batches: 532.5284798219031\n",
      "Finished local epoch 4 out of 5, average loss across batches: 532.5449945508819\n",
      "Finished local epoch 5 out of 5, average loss across batches: 532.1222150350354\n",
      "(Test Set) user 1 in round 9 totalL: 564.6827860321044 mseL: 527.7543784164428 klL: 36.928407656002044\n",
      "Training user 2 in round 9\n",
      "Finished local epoch 1 out of 5, average loss across batches: 529.6236248367403\n",
      "Finished local epoch 2 out of 5, average loss across batches: 527.4383406375815\n",
      "Finished local epoch 3 out of 5, average loss across batches: 526.5537223581888\n",
      "Finished local epoch 4 out of 5, average loss across batches: 525.8998225861532\n",
      "Finished local epoch 5 out of 5, average loss across batches: 525.4262697184744\n",
      "(Test Set) user 2 in round 9 totalL: 576.2277035186768 mseL: 539.6424131729126 klL: 36.585290199065206\n",
      "Training user 3 in round 9\n",
      "Finished local epoch 1 out of 5, average loss across batches: 575.8814717839273\n",
      "Finished local epoch 2 out of 5, average loss across batches: 571.1937804489993\n",
      "Finished local epoch 3 out of 5, average loss across batches: 570.9412214300605\n",
      "Finished local epoch 4 out of 5, average loss across batches: 569.7521694912\n",
      "Finished local epoch 5 out of 5, average loss across batches: 569.6687618641371\n",
      "(Test Set) user 3 in round 9 totalL: 569.7879355621338 mseL: 533.8763427886963 klL: 35.91159298388958\n",
      "Training user 4 in round 9\n",
      "Finished local epoch 1 out of 5, average loss across batches: 555.2069350597906\n",
      "Finished local epoch 2 out of 5, average loss across batches: 553.1009789261163\n",
      "Finished local epoch 3 out of 5, average loss across batches: 551.976832969516\n",
      "Finished local epoch 4 out of 5, average loss across batches: 551.7258285821653\n",
      "Finished local epoch 5 out of 5, average loss across batches: 551.4382515701593\n",
      "(Test Set) user 4 in round 9 totalL: 566.3837311279297 mseL: 530.8900514785767 klL: 35.49367956399917\n"
     ]
    },
    {
     "name": "stderr",
     "output_type": "stream",
     "text": [
      " 90%|█████████ | 9/10 [11:21<01:14, 74.75s/it]"
     ]
    },
    {
     "name": "stdout",
     "output_type": "stream",
     "text": [
      "TEST LOSS AT GLOBAL ROUND 9 totalL: 529.5908446762085\n",
      "\n",
      " | Global Training Round : 10 |\n",
      "\n",
      "Training user 0 in round 10\n",
      "Finished local epoch 1 out of 5, average loss across batches: 526.8499761358038\n",
      "Finished local epoch 2 out of 5, average loss across batches: 522.9652534003731\n",
      "Finished local epoch 3 out of 5, average loss across batches: 521.89051805101\n",
      "Finished local epoch 4 out of 5, average loss across batches: 521.1285353651991\n",
      "Finished local epoch 5 out of 5, average loss across batches: 519.9819253457559\n",
      "(Test Set) user 0 in round 10 totalL: 565.7976672927856 mseL: 530.4828428359986 klL: 35.31482462162972\n",
      "Training user 1 in round 10\n",
      "Finished local epoch 1 out of 5, average loss across batches: 536.5750949505679\n",
      "Finished local epoch 2 out of 5, average loss across batches: 533.9848422020981\n",
      "Finished local epoch 3 out of 5, average loss across batches: 532.7230032694708\n",
      "Finished local epoch 4 out of 5, average loss across batches: 531.6866442493557\n",
      "Finished local epoch 5 out of 5, average loss across batches: 531.3093116996215\n",
      "(Test Set) user 1 in round 10 totalL: 562.5111626831055 mseL: 524.3450387023926 klL: 38.16612391729355\n",
      "Training user 2 in round 10\n",
      "Finished local epoch 1 out of 5, average loss across batches: 529.2347080722177\n",
      "Finished local epoch 2 out of 5, average loss across batches: 526.595822199722\n",
      "Finished local epoch 3 out of 5, average loss across batches: 525.4764932269699\n",
      "Finished local epoch 4 out of 5, average loss across batches: 525.7665832145083\n",
      "Finished local epoch 5 out of 5, average loss across batches: 525.3011766679448\n",
      "(Test Set) user 2 in round 10 totalL: 574.6404440887451 mseL: 538.9981983139038 klL: 35.642245852208134\n",
      "Training user 3 in round 10\n",
      "Finished local epoch 1 out of 5, average loss across batches: 575.1742443984814\n",
      "Finished local epoch 2 out of 5, average loss across batches: 571.4282145982378\n",
      "Finished local epoch 3 out of 5, average loss across batches: 570.2968362529626\n",
      "Finished local epoch 4 out of 5, average loss across batches: 568.8186892391591\n",
      "Finished local epoch 5 out of 5, average loss across batches: 568.7685409717345\n",
      "(Test Set) user 3 in round 10 totalL: 567.1366972320557 mseL: 530.1108187484741 klL: 37.02587866384983\n",
      "Training user 4 in round 10\n",
      "Finished local epoch 1 out of 5, average loss across batches: 554.9096712598614\n",
      "Finished local epoch 2 out of 5, average loss across batches: 551.8076607199276\n",
      "Finished local epoch 3 out of 5, average loss across batches: 551.6679175881778\n",
      "Finished local epoch 4 out of 5, average loss across batches: 551.1505810606714\n",
      "Finished local epoch 5 out of 5, average loss across batches: 550.801430795707\n",
      "(Test Set) user 4 in round 10 totalL: 565.5412205535889 mseL: 530.2539084213257 klL: 35.28731220006943\n"
     ]
    },
    {
     "name": "stderr",
     "output_type": "stream",
     "text": [
      "100%|██████████| 10/10 [12:37<00:00, 75.76s/it]"
     ]
    },
    {
     "name": "stdout",
     "output_type": "stream",
     "text": [
      "TEST LOSS AT GLOBAL ROUND 10 totalL: 528.0354802505493\n",
      "TRAINING ALL DONE!\n"
     ]
    },
    {
     "name": "stderr",
     "output_type": "stream",
     "text": [
      "\n"
     ]
    }
   ],
   "execution_count": 3
  },
  {
   "metadata": {
    "ExecuteTime": {
     "end_time": "2024-05-16T13:35:16.453585Z",
     "start_time": "2024-05-16T13:35:16.245527Z"
    }
   },
   "cell_type": "code",
   "source": "ClientDatasetManager.plot_dataset_splits(res.client_datasets)\n",
   "id": "ffd435fe6e7a32de",
   "outputs": [
    {
     "data": {
      "text/plain": [
       "<Figure size 640x480 with 1 Axes>"
      ],
      "image/png": "[encoded data removed]"
     },
     "metadata": {},
     "output_type": "display_data"
    }
   ],
   "execution_count": 4
  },
  {
   "metadata": {
    "ExecuteTime": {
     "end_time": "2024-05-16T13:35:28.175431Z",
     "start_time": "2024-05-16T13:35:28.172854Z"
    }
   },
   "cell_type": "code",
   "source": "res.global_model = res.global_model.to('cuda')",
   "id": "b279b8e653cbea51",
   "outputs": [],
   "execution_count": 5
  },
  {
   "metadata": {
    "ExecuteTime": {
     "end_time": "2024-05-16T13:35:28.597724Z",
     "start_time": "2024-05-16T13:35:28.594599Z"
    }
   },
   "cell_type": "code",
   "source": [
    "def plot_reconstructed(autoencoder, r0=(-5, 10), r1=(-10, 5), n=12):\n",
    "    w = 28\n",
    "    img = np.zeros((n*w, n*w))\n",
    "    for i, y in enumerate(np.linspace(*r1, n)):\n",
    "        for j, x in enumerate(np.linspace(*r0, n)):\n",
    "            z = torch.Tensor([[x, y]]).to('cuda')\n",
    "            x_hat = autoencoder.decoder(z)\n",
    "            x_hat = x_hat.reshape(28, 28).to('cpu').detach().numpy()\n",
    "            img[(n-1-i)*w:(n-1-i+1)*w, j*w:(j+1)*w] = x_hat\n",
    "    plt.imshow(img, extent=[*r0, *r1])"
   ],
   "id": "6d37f3e0d12b9bf6",
   "outputs": [],
   "execution_count": 6
  },
  {
   "metadata": {
    "ExecuteTime": {
     "end_time": "2024-05-16T13:35:28.982450Z",
     "start_time": "2024-05-16T13:35:28.851689Z"
    }
   },
   "cell_type": "code",
   "source": "plot_reconstructed(res.global_model, r0=(-3, 3), r1=(-3, 3))\n",
   "id": "9c71623690560cdd",
   "outputs": [
    {
     "data": {
      "text/plain": [
       "<Figure size 640x480 with 1 Axes>"
      ],
      "image/png": "[encoded data removed]"
     },
     "metadata": {},
     "output_type": "display_data"
    }
   ],
   "execution_count": 7
  },
  {
   "metadata": {},
   "cell_type": "markdown",
   "source": "",
   "id": "258b275bbc07c1b5"
  },
  {
   "metadata": {
    "ExecuteTime": {
     "end_time": "2024-05-16T13:36:18.986910Z",
     "start_time": "2024-05-16T13:36:13.894609Z"
    }
   },
   "cell_type": "code",
   "source": "trial_weights = calculate_new_weights(res.global_model.encoder, res.client_datasets, 1.0,0.0)\n",
   "id": "43e0f1a902fff376",
   "outputs": [],
   "execution_count": 12
  },
  {
   "metadata": {
    "ExecuteTime": {
     "end_time": "2024-05-16T13:36:18.990376Z",
     "start_time": "2024-05-16T13:36:18.987817Z"
    }
   },
   "cell_type": "code",
   "source": [
    "print(f\"Original Weights: {calculate_relative_dataset_sizes(res.client_datasets)}\")\n",
    "print(f\"New Weights: {trial_weights}\")"
   ],
   "id": "6eda7afb04ae1dfb",
   "outputs": [
    {
     "name": "stdout",
     "output_type": "stream",
     "text": [
      "Original Weights: [0.1475153661839775, 0.12830503177414315, 0.21706427752890925, 0.23617043442025212, 0.270944890092718]\n",
      "New Weights: [0.1618122912754986, 0.1101553596521784, 0.15097802857544348, 0.2206653985487165, 0.3563889219481631]\n"
     ]
    }
   ],
   "execution_count": 13
  },
  {
   "metadata": {
    "ExecuteTime": {
     "end_time": "2024-05-16T13:50:27.739578Z",
     "start_time": "2024-05-16T13:37:39.696315Z"
    }
   },
   "cell_type": "code",
   "source": [
    "second_res = federate(MockArgs(), trial_weights, res.client_datasets)\n",
    "second_res.serialise(\"point_one\", MockArgs())\n"
   ],
   "id": "4b95e47191222519",
   "outputs": [
    {
     "name": "stderr",
     "output_type": "stream",
     "text": [
      "/home/henry/miniconda3/envs/rp/lib/python3.12/site-packages/torchvision/datasets/mnist.py:66: UserWarning: train_labels has been renamed targets\n",
      "  warnings.warn(\"train_labels has been renamed targets\")\n",
      "  0%|          | 0/10 [00:00<?, ?it/s]"
     ]
    },
    {
     "name": "stdout",
     "output_type": "stream",
     "text": [
      "\n",
      " | Global Training Round : 1 |\n",
      "\n",
      "Training user 0 in round 1\n",
      "Finished local epoch 1 out of 5, average loss across batches: 607.0671964078336\n",
      "Finished local epoch 2 out of 5, average loss across batches: 571.9552386859516\n",
      "Finished local epoch 3 out of 5, average loss across batches: 556.1713438291807\n",
      "Finished local epoch 4 out of 5, average loss across batches: 547.764462857633\n",
      "Finished local epoch 5 out of 5, average loss across batches: 542.6386836971249\n",
      "(Test Set) user 0 in round 1 totalL: 598.7765685394287 mseL: 577.1977115966797 klL: 21.578856814384462\n",
      "Training user 1 in round 1\n",
      "Finished local epoch 1 out of 5, average loss across batches: 630.3893602508859\n",
      "Finished local epoch 2 out of 5, average loss across batches: 585.4347943178158\n",
      "Finished local epoch 3 out of 5, average loss across batches: 575.2078291116302\n",
      "Finished local epoch 4 out of 5, average loss across batches: 571.304387358046\n",
      "Finished local epoch 5 out of 5, average loss across batches: 566.1992426606797\n",
      "(Test Set) user 1 in round 1 totalL: 607.5983719604492 mseL: 588.5748042419434 klL: 19.023567790317536\n",
      "Training user 2 in round 1\n",
      "Finished local epoch 1 out of 5, average loss across batches: 599.2259678752876\n",
      "Finished local epoch 2 out of 5, average loss across batches: 566.2136563728192\n",
      "Finished local epoch 3 out of 5, average loss across batches: 560.1346813740174\n",
      "Finished local epoch 4 out of 5, average loss across batches: 554.8632074835841\n",
      "Finished local epoch 5 out of 5, average loss across batches: 551.6727504613209\n",
      "(Test Set) user 2 in round 1 totalL: 607.737521850586 mseL: 586.5711317108154 klL: 21.166390104794502\n",
      "Training user 3 in round 1\n",
      "Finished local epoch 1 out of 5, average loss across batches: 653.7255159870962\n",
      "Finished local epoch 2 out of 5, average loss across batches: 611.9328383542179\n",
      "Finished local epoch 3 out of 5, average loss across batches: 607.6741226710631\n",
      "Finished local epoch 4 out of 5, average loss across batches: 603.4973994908707\n",
      "Finished local epoch 5 out of 5, average loss across batches: 598.9604097859243\n",
      "(Test Set) user 3 in round 1 totalL: 602.3457370819092 mseL: 577.5747645355225 klL: 24.770972477579118\n",
      "Training user 4 in round 1\n",
      "Finished local epoch 1 out of 5, average loss across batches: 621.4457014495251\n",
      "Finished local epoch 2 out of 5, average loss across batches: 585.8879583022174\n",
      "Finished local epoch 3 out of 5, average loss across batches: 581.927515964882\n",
      "Finished local epoch 4 out of 5, average loss across batches: 578.5851105334712\n",
      "Finished local epoch 5 out of 5, average loss across batches: 577.0273275936352\n",
      "(Test Set) user 4 in round 1 totalL: 598.0092580993652 mseL: 578.2186115264892 klL: 19.7906466247797\n"
     ]
    },
    {
     "name": "stderr",
     "output_type": "stream",
     "text": [
      " 10%|█         | 1/10 [01:15<11:22, 75.83s/it]"
     ]
    },
    {
     "name": "stdout",
     "output_type": "stream",
     "text": [
      "TEST LOSS AT GLOBAL ROUND 1 totalL: 641.4383523712158\n",
      "\n",
      " | Global Training Round : 2 |\n",
      "\n",
      "Training user 0 in round 2\n",
      "Finished local epoch 1 out of 5, average loss across batches: 556.5402774295292\n",
      "Finished local epoch 2 out of 5, average loss across batches: 540.6607391082489\n",
      "Finished local epoch 3 out of 5, average loss across batches: 537.1532309592308\n",
      "Finished local epoch 4 out of 5, average loss across batches: 534.7654567409206\n",
      "Finished local epoch 5 out of 5, average loss across batches: 533.1537503079251\n",
      "(Test Set) user 0 in round 2 totalL: 591.9044529510498 mseL: 567.7770625549316 klL: 24.127390574651958\n",
      "Training user 1 in round 2\n",
      "Finished local epoch 1 out of 5, average loss across batches: 581.3278003181379\n",
      "Finished local epoch 2 out of 5, average loss across batches: 562.6232246320272\n",
      "Finished local epoch 3 out of 5, average loss across batches: 558.124722510269\n",
      "Finished local epoch 4 out of 5, average loss across batches: 555.8393693117752\n",
      "Finished local epoch 5 out of 5, average loss across batches: 552.8564273794901\n",
      "(Test Set) user 1 in round 2 totalL: 595.4447752197266 mseL: 568.8528245178222 klL: 26.591950821352004\n",
      "Training user 2 in round 2\n",
      "Finished local epoch 1 out of 5, average loss across batches: 560.8234264163152\n",
      "Finished local epoch 2 out of 5, average loss across batches: 546.7331176008914\n",
      "Finished local epoch 3 out of 5, average loss across batches: 542.2619027915907\n",
      "Finished local epoch 4 out of 5, average loss across batches: 540.1326293945312\n",
      "Finished local epoch 5 out of 5, average loss across batches: 538.430683908287\n",
      "(Test Set) user 2 in round 2 totalL: 590.9358416534424 mseL: 561.2203094635009 klL: 29.715532262200117\n",
      "Training user 3 in round 2\n",
      "Finished local epoch 1 out of 5, average loss across batches: 607.7188137783094\n",
      "Finished local epoch 2 out of 5, average loss across batches: 592.6163635253906\n",
      "Finished local epoch 3 out of 5, average loss across batches: 589.4081444901027\n",
      "Finished local epoch 4 out of 5, average loss across batches: 587.8460573346428\n",
      "Finished local epoch 5 out of 5, average loss across batches: 586.4542757527212\n",
      "(Test Set) user 3 in round 2 totalL: 587.1307929138184 mseL: 558.7815837066651 klL: 28.349208958148957\n",
      "Training user 4 in round 2\n",
      "Finished local epoch 1 out of 5, average loss across batches: 581.1957289751838\n",
      "Finished local epoch 2 out of 5, average loss across batches: 574.2319368848614\n",
      "Finished local epoch 3 out of 5, average loss across batches: 571.4615613151999\n",
      "Finished local epoch 4 out of 5, average loss across batches: 569.5398234947055\n",
      "Finished local epoch 5 out of 5, average loss across batches: 567.9095602596508\n",
      "(Test Set) user 4 in round 2 totalL: 588.1843400909423 mseL: 564.4728421783448 klL: 23.711497970366477\n"
     ]
    },
    {
     "name": "stderr",
     "output_type": "stream",
     "text": [
      " 20%|██        | 2/10 [02:33<10:14, 76.83s/it]"
     ]
    },
    {
     "name": "stdout",
     "output_type": "stream",
     "text": [
      "TEST LOSS AT GLOBAL ROUND 2 totalL: 573.1344436157226\n",
      "\n",
      " | Global Training Round : 3 |\n",
      "\n",
      "Training user 0 in round 3\n",
      "Finished local epoch 1 out of 5, average loss across batches: 541.0885831815702\n",
      "Finished local epoch 2 out of 5, average loss across batches: 531.469811241906\n",
      "Finished local epoch 3 out of 5, average loss across batches: 529.1633971618103\n",
      "Finished local epoch 4 out of 5, average loss across batches: 527.7274917740006\n",
      "Finished local epoch 5 out of 5, average loss across batches: 527.0836115656672\n",
      "(Test Set) user 0 in round 3 totalL: 581.148727935791 mseL: 552.108497291565 klL: 29.04023064390421\n",
      "Training user 1 in round 3\n",
      "Finished local epoch 1 out of 5, average loss across batches: 562.5078398714361\n",
      "Finished local epoch 2 out of 5, average loss across batches: 549.563983091374\n",
      "Finished local epoch 3 out of 5, average loss across batches: 545.3820895165512\n",
      "Finished local epoch 4 out of 5, average loss across batches: 543.2894321716938\n",
      "Finished local epoch 5 out of 5, average loss across batches: 541.6766772712629\n",
      "(Test Set) user 1 in round 3 totalL: 579.0127799865722 mseL: 547.461405796814 klL: 31.551374215722085\n",
      "Training user 2 in round 3\n",
      "Finished local epoch 1 out of 5, average loss across batches: 545.3770102284437\n",
      "Finished local epoch 2 out of 5, average loss across batches: 537.5425783871142\n",
      "Finished local epoch 3 out of 5, average loss across batches: 535.3857390046851\n",
      "Finished local epoch 4 out of 5, average loss across batches: 533.5625762003331\n",
      "Finished local epoch 5 out of 5, average loss across batches: 533.0130356864695\n",
      "(Test Set) user 2 in round 3 totalL: 586.8444164276123 mseL: 556.5997023956298 klL: 30.244714237654208\n",
      "Training user 3 in round 3\n",
      "Finished local epoch 1 out of 5, average loss across batches: 594.1513723309121\n",
      "Finished local epoch 2 out of 5, average loss across batches: 584.8867684696497\n",
      "Finished local epoch 3 out of 5, average loss across batches: 582.5415800287483\n",
      "Finished local epoch 4 out of 5, average loss across batches: 581.0115229574482\n",
      "Finished local epoch 5 out of 5, average loss across batches: 579.4733790708392\n",
      "(Test Set) user 3 in round 3 totalL: 581.1141241973877 mseL: 549.6421456207275 klL: 31.47197839155197\n",
      "Training user 4 in round 3\n",
      "Finished local epoch 1 out of 5, average loss across batches: 568.4338366938572\n",
      "Finished local epoch 2 out of 5, average loss across batches: 564.5814780440985\n",
      "Finished local epoch 3 out of 5, average loss across batches: 563.3612078498392\n",
      "Finished local epoch 4 out of 5, average loss across batches: 561.7747629203049\n",
      "Finished local epoch 5 out of 5, average loss across batches: 560.924103082395\n",
      "(Test Set) user 4 in round 3 totalL: 582.719702658081 mseL: 555.9895583877563 klL: 26.730144394445418\n"
     ]
    },
    {
     "name": "stderr",
     "output_type": "stream",
     "text": [
      " 30%|███       | 3/10 [03:50<08:59, 77.08s/it]"
     ]
    },
    {
     "name": "stdout",
     "output_type": "stream",
     "text": [
      "TEST LOSS AT GLOBAL ROUND 3 totalL: 553.1004823425293\n",
      "\n",
      " | Global Training Round : 4 |\n",
      "\n",
      "Training user 0 in round 4\n",
      "Finished local epoch 1 out of 5, average loss across batches: 535.4491186743384\n",
      "Finished local epoch 2 out of 5, average loss across batches: 528.4856559134819\n",
      "Finished local epoch 3 out of 5, average loss across batches: 526.9885927492434\n",
      "Finished local epoch 4 out of 5, average loss across batches: 526.005835180884\n",
      "Finished local epoch 5 out of 5, average loss across batches: 524.8389889828794\n",
      "(Test Set) user 0 in round 4 totalL: 575.2732304809571 mseL: 542.7931049499512 klL: 32.480125537347796\n",
      "Training user 1 in round 4\n",
      "Finished local epoch 1 out of 5, average loss across batches: 552.780719245832\n",
      "Finished local epoch 2 out of 5, average loss across batches: 543.8588631226844\n",
      "Finished local epoch 3 out of 5, average loss across batches: 541.1333388495691\n",
      "Finished local epoch 4 out of 5, average loss across batches: 539.7564722434762\n",
      "Finished local epoch 5 out of 5, average loss across batches: 537.8828889512524\n",
      "(Test Set) user 1 in round 4 totalL: 575.2324733367919 mseL: 542.5434335128784 klL: 32.68903988852501\n",
      "Training user 2 in round 4\n",
      "Finished local epoch 1 out of 5, average loss across batches: 539.6490538427435\n",
      "Finished local epoch 2 out of 5, average loss across batches: 533.3907575548792\n",
      "Finished local epoch 3 out of 5, average loss across batches: 531.3998416830426\n",
      "Finished local epoch 4 out of 5, average loss across batches: 529.9215789982146\n",
      "Finished local epoch 5 out of 5, average loss across batches: 529.6959048780195\n",
      "(Test Set) user 2 in round 4 totalL: 581.9569886260987 mseL: 548.7256631134034 klL: 33.231325466406346\n",
      "Training user 3 in round 4\n",
      "Finished local epoch 1 out of 5, average loss across batches: 588.480604536078\n",
      "Finished local epoch 2 out of 5, average loss across batches: 581.5267766030987\n",
      "Finished local epoch 3 out of 5, average loss across batches: 578.27524969551\n",
      "Finished local epoch 4 out of 5, average loss across batches: 577.7585531513342\n",
      "Finished local epoch 5 out of 5, average loss across batches: 576.7866457821278\n",
      "(Test Set) user 3 in round 4 totalL: 576.850090032959 mseL: 545.7854588653564 klL: 31.064631240272522\n",
      "Training user 4 in round 4\n",
      "Finished local epoch 1 out of 5, average loss across batches: 562.690512563668\n",
      "Finished local epoch 2 out of 5, average loss across batches: 560.3835805257162\n",
      "Finished local epoch 3 out of 5, average loss across batches: 559.3671877991919\n",
      "Finished local epoch 4 out of 5, average loss across batches: 558.089999928194\n",
      "Finished local epoch 5 out of 5, average loss across batches: 557.9073594037225\n",
      "(Test Set) user 4 in round 4 totalL: 576.294096017456 mseL: 547.0732019882203 klL: 29.220894377589225\n"
     ]
    },
    {
     "name": "stderr",
     "output_type": "stream",
     "text": [
      " 40%|████      | 4/10 [05:08<07:43, 77.21s/it]"
     ]
    },
    {
     "name": "stdout",
     "output_type": "stream",
     "text": [
      "TEST LOSS AT GLOBAL ROUND 4 totalL: 545.6742848266601\n",
      "\n",
      " | Global Training Round : 5 |\n",
      "\n",
      "Training user 0 in round 5\n",
      "Finished local epoch 1 out of 5, average loss across batches: 532.1481216018265\n",
      "Finished local epoch 2 out of 5, average loss across batches: 526.7944822569151\n",
      "Finished local epoch 3 out of 5, average loss across batches: 525.627199190157\n",
      "Finished local epoch 4 out of 5, average loss across batches: 523.8657163327879\n",
      "Finished local epoch 5 out of 5, average loss across batches: 523.1338833645657\n",
      "(Test Set) user 0 in round 5 totalL: 573.7311110839844 mseL: 540.2602478347778 klL: 33.470863278102875\n",
      "Training user 1 in round 5\n",
      "Finished local epoch 1 out of 5, average loss across batches: 548.0293966077038\n",
      "Finished local epoch 2 out of 5, average loss across batches: 540.3148869779922\n",
      "Finished local epoch 3 out of 5, average loss across batches: 538.727472364288\n",
      "Finished local epoch 4 out of 5, average loss across batches: 537.886215367268\n",
      "Finished local epoch 5 out of 5, average loss across batches: 536.9507543819467\n",
      "(Test Set) user 1 in round 5 totalL: 573.0935828704834 mseL: 539.370645980835 klL: 33.722936913108825\n",
      "Training user 2 in round 5\n",
      "Finished local epoch 1 out of 5, average loss across batches: 536.1902802824243\n",
      "Finished local epoch 2 out of 5, average loss across batches: 531.4074459895035\n",
      "Finished local epoch 3 out of 5, average loss across batches: 529.6993909964532\n",
      "Finished local epoch 4 out of 5, average loss across batches: 528.7767601715275\n",
      "Finished local epoch 5 out of 5, average loss across batches: 528.2614454023677\n",
      "(Test Set) user 2 in round 5 totalL: 579.865627166748 mseL: 544.804092314148 klL: 35.06153492007255\n",
      "Training user 3 in round 5\n",
      "Finished local epoch 1 out of 5, average loss across batches: 584.4973988050825\n",
      "Finished local epoch 2 out of 5, average loss across batches: 577.6638523058945\n",
      "Finished local epoch 3 out of 5, average loss across batches: 575.6496767194084\n",
      "Finished local epoch 4 out of 5, average loss across batches: 574.1404782413097\n",
      "Finished local epoch 5 out of 5, average loss across batches: 573.4973415417618\n",
      "(Test Set) user 3 in round 5 totalL: 575.5082376098633 mseL: 541.5935766906738 klL: 33.914660922932626\n",
      "Training user 4 in round 5\n",
      "Finished local epoch 1 out of 5, average loss across batches: 560.1272089341107\n",
      "Finished local epoch 2 out of 5, average loss across batches: 557.884179208793\n",
      "Finished local epoch 3 out of 5, average loss across batches: 556.4451159308938\n",
      "Finished local epoch 4 out of 5, average loss across batches: 555.8504740397135\n",
      "Finished local epoch 5 out of 5, average loss across batches: 554.9989906759823\n",
      "(Test Set) user 4 in round 5 totalL: 572.4444468902587 mseL: 542.2678883422851 klL: 30.176558335113526\n"
     ]
    },
    {
     "name": "stderr",
     "output_type": "stream",
     "text": [
      " 50%|█████     | 5/10 [06:22<06:20, 76.11s/it]"
     ]
    },
    {
     "name": "stdout",
     "output_type": "stream",
     "text": [
      "TEST LOSS AT GLOBAL ROUND 5 totalL: 541.0147979873657\n",
      "\n",
      " | Global Training Round : 6 |\n",
      "\n",
      "Training user 0 in round 6\n",
      "Finished local epoch 1 out of 5, average loss across batches: 529.9724225568342\n",
      "Finished local epoch 2 out of 5, average loss across batches: 524.8732613228462\n",
      "Finished local epoch 3 out of 5, average loss across batches: 523.7093791789837\n",
      "Finished local epoch 4 out of 5, average loss across batches: 522.7016552074535\n",
      "Finished local epoch 5 out of 5, average loss across batches: 522.5315249331362\n",
      "(Test Set) user 0 in round 6 totalL: 570.1856927185058 mseL: 537.2310254516601 klL: 32.95466721096039\n",
      "Training user 1 in round 6\n",
      "Finished local epoch 1 out of 5, average loss across batches: 543.9271268549654\n",
      "Finished local epoch 2 out of 5, average loss across batches: 538.5210278697849\n",
      "Finished local epoch 3 out of 5, average loss across batches: 537.0096504762\n",
      "Finished local epoch 4 out of 5, average loss across batches: 535.6893905167727\n",
      "Finished local epoch 5 out of 5, average loss across batches: 535.6173514140021\n",
      "(Test Set) user 1 in round 6 totalL: 569.5815218719482 mseL: 535.2702516693115 klL: 34.31127035036087\n",
      "Training user 2 in round 6\n",
      "Finished local epoch 1 out of 5, average loss across batches: 534.1872406941982\n",
      "Finished local epoch 2 out of 5, average loss across batches: 530.3637318991445\n",
      "Finished local epoch 3 out of 5, average loss across batches: 529.3906377312596\n",
      "Finished local epoch 4 out of 5, average loss across batches: 528.3922529162073\n",
      "Finished local epoch 5 out of 5, average loss across batches: 527.6600572082893\n",
      "(Test Set) user 2 in round 6 totalL: 578.946576184082 mseL: 541.263883001709 klL: 37.68269326007366\n",
      "Training user 3 in round 6\n",
      "Finished local epoch 1 out of 5, average loss across batches: 581.8793369250351\n",
      "Finished local epoch 2 out of 5, average loss across batches: 575.5367054457075\n",
      "Finished local epoch 3 out of 5, average loss across batches: 573.2651648360692\n",
      "Finished local epoch 4 out of 5, average loss across batches: 572.0374256948406\n",
      "Finished local epoch 5 out of 5, average loss across batches: 572.1238307309955\n",
      "(Test Set) user 3 in round 6 totalL: 572.1538285644531 mseL: 536.0360375289918 klL: 36.11779094529152\n",
      "Training user 4 in round 6\n",
      "Finished local epoch 1 out of 5, average loss across batches: 557.7811958462585\n",
      "Finished local epoch 2 out of 5, average loss across batches: 556.019635069604\n",
      "Finished local epoch 3 out of 5, average loss across batches: 554.8795112161075\n",
      "Finished local epoch 4 out of 5, average loss across batches: 554.4659968357461\n",
      "Finished local epoch 5 out of 5, average loss across batches: 553.4615062638825\n",
      "(Test Set) user 4 in round 6 totalL: 572.7272714538574 mseL: 540.308685673523 klL: 32.41858584673405\n"
     ]
    },
    {
     "name": "stderr",
     "output_type": "stream",
     "text": [
      " 60%|██████    | 6/10 [07:38<05:04, 76.08s/it]"
     ]
    },
    {
     "name": "stdout",
     "output_type": "stream",
     "text": [
      "TEST LOSS AT GLOBAL ROUND 6 totalL: 536.006752532959\n",
      "\n",
      " | Global Training Round : 7 |\n",
      "\n",
      "Training user 0 in round 7\n",
      "Finished local epoch 1 out of 5, average loss across batches: 528.7365356995178\n",
      "Finished local epoch 2 out of 5, average loss across batches: 524.5212108165294\n",
      "Finished local epoch 3 out of 5, average loss across batches: 523.0747012576542\n",
      "Finished local epoch 4 out of 5, average loss across batches: 522.3697872677365\n",
      "Finished local epoch 5 out of 5, average loss across batches: 521.373975049268\n",
      "(Test Set) user 0 in round 7 totalL: 570.9703131439209 mseL: 537.6669245391846 klL: 33.30338861079216\n",
      "Training user 1 in round 7\n",
      "Finished local epoch 1 out of 5, average loss across batches: 542.7488610965689\n",
      "Finished local epoch 2 out of 5, average loss across batches: 538.4744627647793\n",
      "Finished local epoch 3 out of 5, average loss across batches: 536.1198283716575\n",
      "Finished local epoch 4 out of 5, average loss across batches: 534.4104205259342\n",
      "Finished local epoch 5 out of 5, average loss across batches: 533.7626792671754\n",
      "(Test Set) user 1 in round 7 totalL: 567.7964864685058 mseL: 534.1943759796143 klL: 33.602110366249086\n",
      "Training user 2 in round 7\n",
      "Finished local epoch 1 out of 5, average loss across batches: 533.0892489380632\n",
      "Finished local epoch 2 out of 5, average loss across batches: 529.123041819941\n",
      "Finished local epoch 3 out of 5, average loss across batches: 528.4856808902296\n",
      "Finished local epoch 4 out of 5, average loss across batches: 527.5695025672211\n",
      "Finished local epoch 5 out of 5, average loss across batches: 526.5716951522359\n",
      "(Test Set) user 2 in round 7 totalL: 576.5222278472901 mseL: 539.3437707077027 klL: 37.1784570584774\n",
      "Training user 3 in round 7\n",
      "Finished local epoch 1 out of 5, average loss across batches: 580.8297249440396\n",
      "Finished local epoch 2 out of 5, average loss across batches: 573.7901868498727\n",
      "Finished local epoch 3 out of 5, average loss across batches: 572.5088017495831\n",
      "Finished local epoch 4 out of 5, average loss across batches: 571.9887650736263\n",
      "Finished local epoch 5 out of 5, average loss across batches: 570.5123421315396\n",
      "(Test Set) user 3 in round 7 totalL: 573.4038578857422 mseL: 537.6192325775146 klL: 35.78462523488999\n",
      "Training user 4 in round 7\n",
      "Finished local epoch 1 out of 5, average loss across batches: 556.2951411826938\n",
      "Finished local epoch 2 out of 5, average loss across batches: 554.8609984154795\n",
      "Finished local epoch 3 out of 5, average loss across batches: 553.7965515735102\n",
      "Finished local epoch 4 out of 5, average loss across batches: 553.7304232728247\n",
      "Finished local epoch 5 out of 5, average loss across batches: 552.8972721473843\n",
      "(Test Set) user 4 in round 7 totalL: 567.7891784973144 mseL: 533.4409503829957 klL: 34.34822820167542\n"
     ]
    },
    {
     "name": "stderr",
     "output_type": "stream",
     "text": [
      " 70%|███████   | 7/10 [08:53<03:46, 75.63s/it]"
     ]
    },
    {
     "name": "stdout",
     "output_type": "stream",
     "text": [
      "TEST LOSS AT GLOBAL ROUND 7 totalL: 533.7925156814575\n",
      "\n",
      " | Global Training Round : 8 |\n",
      "\n",
      "Training user 0 in round 8\n",
      "Finished local epoch 1 out of 5, average loss across batches: 528.3104492737366\n",
      "Finished local epoch 2 out of 5, average loss across batches: 523.4732022672086\n",
      "Finished local epoch 3 out of 5, average loss across batches: 522.4564346450943\n",
      "Finished local epoch 4 out of 5, average loss across batches: 521.3172269254118\n",
      "Finished local epoch 5 out of 5, average loss across batches: 521.6000388205589\n",
      "(Test Set) user 0 in round 8 totalL: 569.96005078125 mseL: 537.4452308959961 klL: 32.5148200155735\n",
      "Training user 1 in round 8\n",
      "Finished local epoch 1 out of 5, average loss across batches: 541.2179241377054\n",
      "Finished local epoch 2 out of 5, average loss across batches: 536.5565953205542\n",
      "Finished local epoch 3 out of 5, average loss across batches: 536.5244537038901\n",
      "Finished local epoch 4 out of 5, average loss across batches: 533.9514352070917\n",
      "Finished local epoch 5 out of 5, average loss across batches: 532.9817536344233\n",
      "(Test Set) user 1 in round 8 totalL: 566.1812776641846 mseL: 530.5238307922364 klL: 35.65744681947231\n",
      "Training user 2 in round 8\n",
      "Finished local epoch 1 out of 5, average loss across batches: 532.3806296506542\n",
      "Finished local epoch 2 out of 5, average loss across batches: 528.7201989296755\n",
      "Finished local epoch 3 out of 5, average loss across batches: 527.2331378211273\n",
      "Finished local epoch 4 out of 5, average loss across batches: 526.482199452406\n",
      "Finished local epoch 5 out of 5, average loss across batches: 526.2259132057611\n",
      "(Test Set) user 2 in round 8 totalL: 575.8111890136719 mseL: 535.8701531021118 klL: 39.94103605642319\n",
      "Training user 3 in round 8\n",
      "Finished local epoch 1 out of 5, average loss across batches: 578.8068854514132\n",
      "Finished local epoch 2 out of 5, average loss across batches: 573.5699833216293\n",
      "Finished local epoch 3 out of 5, average loss across batches: 571.5946024348227\n",
      "Finished local epoch 4 out of 5, average loss across batches: 570.5101887563641\n",
      "Finished local epoch 5 out of 5, average loss across batches: 569.9314894086859\n",
      "(Test Set) user 3 in round 8 totalL: 570.4455968200683 mseL: 533.3146754776001 klL: 37.1309214138031\n",
      "Training user 4 in round 8\n",
      "Finished local epoch 1 out of 5, average loss across batches: 555.3936680812461\n",
      "Finished local epoch 2 out of 5, average loss across batches: 553.4725038117053\n",
      "Finished local epoch 3 out of 5, average loss across batches: 552.4807109458774\n",
      "Finished local epoch 4 out of 5, average loss across batches: 551.6831027760226\n",
      "Finished local epoch 5 out of 5, average loss across batches: 552.0402664483762\n",
      "(Test Set) user 4 in round 8 totalL: 568.6793657104492 mseL: 531.843741255188 klL: 36.835624057912824\n"
     ]
    },
    {
     "name": "stderr",
     "output_type": "stream",
     "text": [
      " 80%|████████  | 8/10 [10:07<02:30, 75.31s/it]"
     ]
    },
    {
     "name": "stdout",
     "output_type": "stream",
     "text": [
      "TEST LOSS AT GLOBAL ROUND 8 totalL: 531.0896522476196\n",
      "\n",
      " | Global Training Round : 9 |\n",
      "\n",
      "Training user 0 in round 9\n",
      "Finished local epoch 1 out of 5, average loss across batches: 526.9691986908783\n",
      "Finished local epoch 2 out of 5, average loss across batches: 522.864917652027\n",
      "Finished local epoch 3 out of 5, average loss across batches: 522.1508360166807\n",
      "Finished local epoch 4 out of 5, average loss across batches: 520.9809452091251\n",
      "Finished local epoch 5 out of 5, average loss across batches: 519.8620740185987\n",
      "(Test Set) user 0 in round 9 totalL: 568.5499519134521 mseL: 535.4436654541015 klL: 33.10628635628223\n",
      "Training user 1 in round 9\n",
      "Finished local epoch 1 out of 5, average loss across batches: 539.776982887504\n",
      "Finished local epoch 2 out of 5, average loss across batches: 535.7603058175943\n",
      "Finished local epoch 3 out of 5, average loss across batches: 533.8003495993073\n",
      "Finished local epoch 4 out of 5, average loss across batches: 533.1293193384544\n",
      "Finished local epoch 5 out of 5, average loss across batches: 532.3141064201434\n",
      "(Test Set) user 1 in round 9 totalL: 564.9085848693848 mseL: 526.6066614624024 klL: 38.301923304104804\n",
      "Training user 2 in round 9\n",
      "Finished local epoch 1 out of 5, average loss across batches: 531.1451676257549\n",
      "Finished local epoch 2 out of 5, average loss across batches: 527.7294006347656\n",
      "Finished local epoch 3 out of 5, average loss across batches: 526.5507372522646\n",
      "Finished local epoch 4 out of 5, average loss across batches: 526.5707315082199\n",
      "Finished local epoch 5 out of 5, average loss across batches: 526.0383117301333\n",
      "(Test Set) user 2 in round 9 totalL: 575.7770015106202 mseL: 540.393010105896 klL: 35.3839917349577\n",
      "Training user 3 in round 9\n",
      "Finished local epoch 1 out of 5, average loss across batches: 576.49574639824\n",
      "Finished local epoch 2 out of 5, average loss across batches: 571.118780757604\n",
      "Finished local epoch 3 out of 5, average loss across batches: 570.2876079430741\n",
      "Finished local epoch 4 out of 5, average loss across batches: 568.9929130639923\n",
      "Finished local epoch 5 out of 5, average loss across batches: 570.048279494382\n",
      "(Test Set) user 3 in round 9 totalL: 568.055924810791 mseL: 533.1223466690063 klL: 34.933578255701065\n",
      "Training user 4 in round 9\n",
      "Finished local epoch 1 out of 5, average loss across batches: 554.2247951731962\n",
      "Finished local epoch 2 out of 5, average loss across batches: 552.6665834913067\n",
      "Finished local epoch 3 out of 5, average loss across batches: 552.0077565511068\n",
      "Finished local epoch 4 out of 5, average loss across batches: 551.4714669620289\n",
      "Finished local epoch 5 out of 5, average loss across batches: 551.3470231598499\n",
      "(Test Set) user 4 in round 9 totalL: 566.3614315551757 mseL: 531.6936208709717 klL: 34.66781061739922\n"
     ]
    },
    {
     "name": "stderr",
     "output_type": "stream",
     "text": [
      " 90%|█████████ | 9/10 [11:24<01:15, 75.85s/it]"
     ]
    },
    {
     "name": "stdout",
     "output_type": "stream",
     "text": [
      "TEST LOSS AT GLOBAL ROUND 9 totalL: 531.1165485427856\n",
      "\n",
      " | Global Training Round : 10 |\n",
      "\n",
      "Training user 0 in round 10\n",
      "Finished local epoch 1 out of 5, average loss across batches: 527.259981447512\n",
      "Finished local epoch 2 out of 5, average loss across batches: 523.2881227785402\n",
      "Finished local epoch 3 out of 5, average loss across batches: 522.0274325534031\n",
      "Finished local epoch 4 out of 5, average loss across batches: 520.7911715120882\n",
      "Finished local epoch 5 out of 5, average loss across batches: 520.0558969308664\n",
      "(Test Set) user 0 in round 10 totalL: 567.3473514648438 mseL: 531.815113156128 klL: 35.532238186216354\n",
      "Training user 1 in round 10\n",
      "Finished local epoch 1 out of 5, average loss across batches: 538.6110267245892\n",
      "Finished local epoch 2 out of 5, average loss across batches: 535.0570043190238\n",
      "Finished local epoch 3 out of 5, average loss across batches: 533.5895986655323\n",
      "Finished local epoch 4 out of 5, average loss across batches: 531.8536864605146\n",
      "Finished local epoch 5 out of 5, average loss across batches: 532.271784516954\n",
      "(Test Set) user 1 in round 10 totalL: 562.8468591903686 mseL: 525.9825942886353 klL: 36.86426473500729\n",
      "Training user 2 in round 10\n",
      "Finished local epoch 1 out of 5, average loss across batches: 530.8732618086177\n",
      "Finished local epoch 2 out of 5, average loss across batches: 527.3045027095116\n",
      "Finished local epoch 3 out of 5, average loss across batches: 526.8047489096051\n",
      "Finished local epoch 4 out of 5, average loss across batches: 526.0070192301931\n",
      "Finished local epoch 5 out of 5, average loss across batches: 525.9109545748657\n",
      "(Test Set) user 2 in round 10 totalL: 573.8391503784179 mseL: 537.7237514862061 klL: 36.115398810958865\n",
      "Training user 3 in round 10\n",
      "Finished local epoch 1 out of 5, average loss across batches: 576.1622365887246\n",
      "Finished local epoch 2 out of 5, average loss across batches: 571.14524584138\n",
      "Finished local epoch 3 out of 5, average loss across batches: 570.1652753165598\n",
      "Finished local epoch 4 out of 5, average loss across batches: 568.5410992911692\n",
      "Finished local epoch 5 out of 5, average loss across batches: 568.4546237902695\n",
      "(Test Set) user 3 in round 10 totalL: 567.3265941162109 mseL: 531.0411194183349 klL: 36.28547461895943\n",
      "Training user 4 in round 10\n",
      "Finished local epoch 1 out of 5, average loss across batches: 553.2425445855832\n",
      "Finished local epoch 2 out of 5, average loss across batches: 551.343952552945\n",
      "Finished local epoch 3 out of 5, average loss across batches: 551.6011388442096\n",
      "Finished local epoch 4 out of 5, average loss across batches: 550.4786581899606\n",
      "Finished local epoch 5 out of 5, average loss across batches: 550.3840360454484\n",
      "(Test Set) user 4 in round 10 totalL: 566.2458636032104 mseL: 530.9815440063477 klL: 35.264319352960584\n"
     ]
    },
    {
     "name": "stderr",
     "output_type": "stream",
     "text": [
      "100%|██████████| 10/10 [12:47<00:00, 76.78s/it]"
     ]
    },
    {
     "name": "stdout",
     "output_type": "stream",
     "text": [
      "TEST LOSS AT GLOBAL ROUND 10 totalL: 529.5334760345459\n",
      "TRAINING ALL DONE!\n"
     ]
    },
    {
     "name": "stderr",
     "output_type": "stream",
     "text": [
      "\n"
     ]
    }
   ],
   "execution_count": 14
  },
  {
   "metadata": {
    "ExecuteTime": {
     "end_time": "2024-05-16T13:53:29.204756Z",
     "start_time": "2024-05-16T13:53:29.198325Z"
    }
   },
   "cell_type": "code",
   "source": [
    "a = res.global_loss_manager.validation_total_across_communication\n",
    "o1, o2, o3, o4, o5, o6 = ClientLossManager.process_data(res.all_losses)"
   ],
   "id": "8db06cdf7ba87dc9",
   "outputs": [],
   "execution_count": 15
  },
  {
   "metadata": {
    "ExecuteTime": {
     "end_time": "2024-05-16T13:53:29.711966Z",
     "start_time": "2024-05-16T13:53:29.705724Z"
    }
   },
   "cell_type": "code",
   "source": [
    "b = second_res.global_loss_manager.validation_total_across_communication\n",
    "n1, n2, n3 , n4, n5, n6 = ClientLossManager.process_data(second_res.all_losses)"
   ],
   "id": "8b25e1543e3f6757",
   "outputs": [],
   "execution_count": 16
  },
  {
   "metadata": {
    "ExecuteTime": {
     "end_time": "2024-05-16T13:53:29.861439Z",
     "start_time": "2024-05-16T13:53:29.852798Z"
    }
   },
   "cell_type": "code",
   "source": "list(zip(a,b))",
   "id": "a2668b9ad5d6ca2",
   "outputs": [
    {
     "data": {
      "text/plain": [
       "[(641.4063869171142, 641.4383523712158),\n",
       " (597.4142359436036, 573.1344436157226),\n",
       " (562.995218661499, 553.1004823425293),\n",
       " (549.9691562179565, 545.6742848266601),\n",
       " (543.442011302185, 541.0147979873657),\n",
       " (537.9923471252441, 536.006752532959),\n",
       " (534.490664628601, 533.7925156814575),\n",
       " (531.4942874420166, 531.0896522476196),\n",
       " (529.5908446762085, 531.1165485427856),\n",
       " (528.0354802505493, 529.5334760345459)]"
      ]
     },
     "execution_count": 17,
     "metadata": {},
     "output_type": "execute_result"
    }
   ],
   "execution_count": 17
  },
  {
   "metadata": {},
   "cell_type": "code",
   "outputs": [],
   "execution_count": null,
   "source": "",
   "id": "fb032765b840b084"
  }
 ],
 "metadata": {
  "kernelspec": {
   "display_name": "Python 3",
   "language": "python",
   "name": "python3"
  },
  "language_info": {
   "codemirror_mode": {
    "name": "ipython",
    "version": 2
   },
   "file_extension": ".py",
   "mimetype": "text/x-python",
   "name": "python",
   "nbconvert_exporter": "python",
   "pygments_lexer": "ipython2",
   "version": "2.7.6"
  }
 },
 "nbformat": 4,
 "nbformat_minor": 5
}
