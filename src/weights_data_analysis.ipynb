{
 "cells": [
  {
   "cell_type": "code",
   "id": "initial_id",
   "metadata": {
    "collapsed": true,
    "ExecuteTime": {
     "end_time": "2024-05-14T01:10:00.319012Z",
     "start_time": "2024-05-14T01:09:59.137982Z"
    }
   },
   "source": [
    "import matplotlib.pyplot as plt\n",
    "import pickle\n",
    "from WeightsModification import *\n",
    "\n"
   ],
   "execution_count": 1,
   "outputs": []
  },
  {
   "metadata": {
    "ExecuteTime": {
     "end_time": "2024-05-14T01:10:01.012648Z",
     "start_time": "2024-05-14T01:10:00.320042Z"
    }
   },
   "cell_type": "code",
   "source": [
    "with open(\"../save/objects/base_no_beta_mnist_VAE_COMMS10_LOCAL10_BS8_USERS5.pkl\", \"rb\") as f1:\n",
    "     res_1 = pickle.load(f1)\n",
    "     \n",
    "    \n",
    "with open(\"../save/objects/point_one_mnist_VAE_COMMS10_LOCAL10_BS8_USERS5.pkl\", \"rb\") as f2:\n",
    "     res_2 = pickle.load(f2) \n"
   ],
   "id": "35b0d534149dea17",
   "execution_count": 2,
   "outputs": []
  },
  {
   "metadata": {
    "ExecuteTime": {
     "end_time": "2024-05-14T01:10:01.823421Z",
     "start_time": "2024-05-14T01:10:01.820888Z"
    }
   },
   "cell_type": "code",
   "source": [
    "t1_total, t1_mse, t1_kl, v1_total, v1_mse, v1_kl = ClientLossManager.process_data(res_1.all_losses)\n",
    "t2_total, t2_mse, t2_kl, v2_total, v2_mse, v2_kl = ClientLossManager.process_data(res_2.all_losses)\n"
   ],
   "id": "b56bf9c117c85423",
   "execution_count": 3,
   "outputs": []
  },
  {
   "metadata": {
    "ExecuteTime": {
     "end_time": "2024-05-13T20:58:04.637446Z",
     "start_time": "2024-05-13T20:58:04.632357Z"
    }
   },
   "cell_type": "code",
   "source": "list(zip(t1_total, t2_total))",
   "id": "eb6b5290f6474c5e",
   "execution_count": 27,
   "outputs": []
  },
  {
   "metadata": {
    "ExecuteTime": {
     "end_time": "2024-05-14T01:12:19.252594Z",
     "start_time": "2024-05-14T01:12:19.249748Z"
    }
   },
   "cell_type": "code",
   "source": "list(zip(t1_kl, t2_kl))",
   "id": "4917c669c8594982",
   "execution_count": 6,
   "outputs": []
  },
  {
   "metadata": {},
   "cell_type": "code",
   "execution_count": null,
   "source": "",
   "id": "1f35f920fe89526",
   "outputs": []
  }
 ],
 "metadata": {
  "kernelspec": {
   "display_name": "Python 3",
   "language": "python",
   "name": "python3"
  },
  "language_info": {
   "codemirror_mode": {
    "name": "ipython",
    "version": 2
   },
   "file_extension": ".py",
   "mimetype": "text/x-python",
   "name": "python",
   "nbconvert_exporter": "python",
   "pygments_lexer": "ipython2",
   "version": "2.7.6"
  }
 },
 "nbformat": 4,
 "nbformat_minor": 5
}
