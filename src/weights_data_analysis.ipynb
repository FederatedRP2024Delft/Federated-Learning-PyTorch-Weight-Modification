{
 "cells": [
  {
   "cell_type": "code",
   "id": "initial_id",
   "metadata": {
    "collapsed": true,
    "ExecuteTime": {
     "end_time": "2024-05-14T01:10:00.319012Z",
     "start_time": "2024-05-14T01:09:59.137982Z"
    }
   },
   "source": [
    "import matplotlib.pyplot as plt\n",
    "import pickle\n",
    "from WeightsModification import *\n",
    "\n"
   ],
   "outputs": [],
   "execution_count": 1
  },
  {
   "metadata": {
    "ExecuteTime": {
     "end_time": "2024-05-14T01:10:01.012648Z",
     "start_time": "2024-05-14T01:10:00.320042Z"
    }
   },
   "cell_type": "code",
   "source": [
    "with open(\"../save/objects/base_no_beta_mnist_VAE_COMMS10_LOCAL10_BS8_USERS5.pkl\", \"rb\") as f1:\n",
    "     res_1 = pickle.load(f1)\n",
    "     \n",
    "    \n",
    "with open(\"../save/objects/point_one_mnist_VAE_COMMS10_LOCAL10_BS8_USERS5.pkl\", \"rb\") as f2:\n",
    "     res_2 = pickle.load(f2) \n"
   ],
   "id": "35b0d534149dea17",
   "outputs": [],
   "execution_count": 2
  },
  {
   "metadata": {
    "ExecuteTime": {
     "end_time": "2024-05-14T01:10:01.823421Z",
     "start_time": "2024-05-14T01:10:01.820888Z"
    }
   },
   "cell_type": "code",
   "source": [
    "t1_total, t1_mse, t1_kl, v1_total, v1_mse, v1_kl = ClientLossManager.process_data(res_1.all_losses)\n",
    "t2_total, t2_mse, t2_kl, v2_total, v2_mse, v2_kl = ClientLossManager.process_data(res_2.all_losses)\n"
   ],
   "id": "b56bf9c117c85423",
   "outputs": [],
   "execution_count": 3
  },
  {
   "metadata": {
    "ExecuteTime": {
     "end_time": "2024-05-13T20:58:04.637446Z",
     "start_time": "2024-05-13T20:58:04.632357Z"
    }
   },
   "cell_type": "code",
   "source": "list(zip(t1_total, t2_total))",
   "id": "eb6b5290f6474c5e",
   "outputs": [
    {
     "data": {
      "text/plain": [
       "[(539.1310889983562, 539.1310889983562),\n",
       " (520.3157896711839, 521.9555756907181),\n",
       " (511.7306279491851, 513.1545906982087),\n",
       " (507.05349611698495, 508.7502168557986),\n",
       " (503.93305171828194, 505.7806524437621),\n",
       " (502.19863138662583, 505.5919881453566),\n",
       " (500.77250780762034, 501.5092766027935),\n",
       " (499.19469788468257, 500.1801967337013),\n",
       " (498.9434241169558, 499.3262373092681),\n",
       " (498.2827227641081, 498.2129352930212)]"
      ]
     },
     "execution_count": 27,
     "metadata": {},
     "output_type": "execute_result"
    }
   ],
   "execution_count": 27
  },
  {
   "metadata": {
    "ExecuteTime": {
     "end_time": "2024-05-14T01:12:19.252594Z",
     "start_time": "2024-05-14T01:12:19.249748Z"
    }
   },
   "cell_type": "code",
   "source": "list(zip(t1_kl, t2_kl))",
   "id": "4917c669c8594982",
   "outputs": [
    {
     "data": {
      "text/plain": [
       "[(6.082470426509896, 6.082470426509896),\n",
       " (6.445561591946133, 6.609405834501419),\n",
       " (6.702359000012862, 6.78563409031605),\n",
       " (6.895013944697733, 7.339499807507714),\n",
       " (7.016469334780481, 6.9624956830797),\n",
       " (7.0898910199118275, 7.028167972336024),\n",
       " (7.151409396990987, 7.096808589268219),\n",
       " (7.178817922760547, 7.126562294301095),\n",
       " (7.2207602712140355, 7.165903939040954),\n",
       " (7.287028603754021, 7.201715972376055)]"
      ]
     },
     "execution_count": 6,
     "metadata": {},
     "output_type": "execute_result"
    }
   ],
   "execution_count": 6
  },
  {
   "metadata": {},
   "cell_type": "code",
   "outputs": [],
   "execution_count": null,
   "source": "",
   "id": "1f35f920fe89526"
  }
 ],
 "metadata": {
  "kernelspec": {
   "display_name": "Python 3",
   "language": "python",
   "name": "python3"
  },
  "language_info": {
   "codemirror_mode": {
    "name": "ipython",
    "version": 2
   },
   "file_extension": ".py",
   "mimetype": "text/x-python",
   "name": "python",
   "nbconvert_exporter": "python",
   "pygments_lexer": "ipython2",
   "version": "2.7.6"
  }
 },
 "nbformat": 4,
 "nbformat_minor": 5
}
