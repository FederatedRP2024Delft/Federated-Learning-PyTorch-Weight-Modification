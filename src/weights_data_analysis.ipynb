{
 "cells": [
  {
   "cell_type": "code",
   "id": "initial_id",
   "metadata": {
    "collapsed": true,
    "ExecuteTime": {
     "end_time": "2024-05-13T20:57:29.274285Z",
     "start_time": "2024-05-13T20:57:29.267303Z"
    }
   },
   "source": [
    "import matplotlib.pyplot as plt\n",
    "import pickle\n",
    "from WeightsModification import *\n",
    "\n"
   ],
   "outputs": [],
   "execution_count": 23
  },
  {
   "metadata": {
    "ExecuteTime": {
     "end_time": "2024-05-13T20:57:29.472788Z",
     "start_time": "2024-05-13T20:57:29.365166Z"
    }
   },
   "cell_type": "code",
   "source": [
    "with open(\"../save/objects/NOTCUSTOM_mnist_VAE_COMMS10_LOCAL10_BS16_USERS10.pkl\", \"rb\") as f1:\n",
    "     res_1 = pickle.load(f1)\n",
    "     \n",
    "    \n",
    "with open(\"../save/objects/point_one_mnist_VAE_COMMS10_LOCAL10_BS16_USERS10.pkl\", \"rb\") as f2:\n",
    "     res_2 = pickle.load(f2) \n"
   ],
   "id": "35b0d534149dea17",
   "outputs": [],
   "execution_count": 24
  },
  {
   "metadata": {
    "ExecuteTime": {
     "end_time": "2024-05-13T20:57:57.688846Z",
     "start_time": "2024-05-13T20:57:57.683640Z"
    }
   },
   "cell_type": "code",
   "source": [
    "t1_total, t1_mse, t1_kl, v1_total, v1_mse, v1_kl = ClientLossManager.process_data(res_1.all_losses)\n",
    "t2_total, t2_mse, t2_kl, v2_total, v2_mse, v2_kl = ClientLossManager.process_data(res_2.all_losses)\n"
   ],
   "id": "b56bf9c117c85423",
   "outputs": [],
   "execution_count": 26
  },
  {
   "metadata": {
    "ExecuteTime": {
     "end_time": "2024-05-13T20:58:04.637446Z",
     "start_time": "2024-05-13T20:58:04.632357Z"
    }
   },
   "cell_type": "code",
   "source": "list(zip(t1_total, t2_total))",
   "id": "eb6b5290f6474c5e",
   "outputs": [
    {
     "data": {
      "text/plain": [
       "[(539.1310889983562, 539.1310889983562),\n",
       " (520.3157896711839, 521.9555756907181),\n",
       " (511.7306279491851, 513.1545906982087),\n",
       " (507.05349611698495, 508.7502168557986),\n",
       " (503.93305171828194, 505.7806524437621),\n",
       " (502.19863138662583, 505.5919881453566),\n",
       " (500.77250780762034, 501.5092766027935),\n",
       " (499.19469788468257, 500.1801967337013),\n",
       " (498.9434241169558, 499.3262373092681),\n",
       " (498.2827227641081, 498.2129352930212)]"
      ]
     },
     "execution_count": 27,
     "metadata": {},
     "output_type": "execute_result"
    }
   ],
   "execution_count": 27
  },
  {
   "metadata": {
    "ExecuteTime": {
     "end_time": "2024-05-13T21:06:57.888925Z",
     "start_time": "2024-05-13T21:06:57.886007Z"
    }
   },
   "cell_type": "code",
   "source": "list(zip(v1_mse, v2_mse))",
   "id": "4917c669c8594982",
   "outputs": [
    {
     "data": {
      "text/plain": [
       "[(519.1436870117541, 519.1436870117541),\n",
       " (507.94101337676545, 508.34551364923345),\n",
       " (503.1837272385357, 504.44554013272193),\n",
       " (500.28711385727837, 501.28199740574),\n",
       " (498.2505119258938, 499.02691650365284),\n",
       " (496.60339399620386, 496.90196229855655),\n",
       " (496.0640135706756, 496.5160077844347),\n",
       " (494.62270632121255, 495.95799463527976),\n",
       " (494.7612102956749, 494.28243952292877),\n",
       " (493.8568634269018, 493.97213096848117)]"
      ]
     },
     "execution_count": 31,
     "metadata": {},
     "output_type": "execute_result"
    }
   ],
   "execution_count": 31
  },
  {
   "metadata": {},
   "cell_type": "code",
   "outputs": [],
   "execution_count": null,
   "source": "",
   "id": "1f35f920fe89526"
  }
 ],
 "metadata": {
  "kernelspec": {
   "display_name": "Python 3",
   "language": "python",
   "name": "python3"
  },
  "language_info": {
   "codemirror_mode": {
    "name": "ipython",
    "version": 2
   },
   "file_extension": ".py",
   "mimetype": "text/x-python",
   "name": "python",
   "nbconvert_exporter": "python",
   "pygments_lexer": "ipython2",
   "version": "2.7.6"
  }
 },
 "nbformat": 4,
 "nbformat_minor": 5
}
