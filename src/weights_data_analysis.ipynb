{
 "cells": [
  {
   "cell_type": "code",
   "id": "initial_id",
   "metadata": {
    "collapsed": true,
    "ExecuteTime": {
     "end_time": "2024-05-13T15:34:17.258352Z",
     "start_time": "2024-05-13T15:34:17.251424Z"
    }
   },
   "source": [
    "import matplotlib.pyplot as plt\n",
    "import pickle\n",
    "from WeightsModification import *\n",
    "\n"
   ],
   "outputs": [],
   "execution_count": 7
  },
  {
   "metadata": {
    "ExecuteTime": {
     "end_time": "2024-05-13T15:34:17.492782Z",
     "start_time": "2024-05-13T15:34:17.388910Z"
    }
   },
   "cell_type": "code",
   "source": [
    "with open(\"../save/objects/orig_test_mnist_VAE_COMMS20_LOCAL10_BS32_USERS10.pkl\", \"rb\") as f1:\n",
    "     res_1 = pickle.load(f1)\n",
    "    \n",
    "with open(\"../save/objects/point_one_mnist_VAE_COMMS20_LOCAL10_BS32_USERS10.pkl\", \"rb\") as f2:\n",
    "     res_2 = pickle.load(f2) \n"
   ],
   "id": "35b0d534149dea17",
   "outputs": [],
   "execution_count": 8
  },
  {
   "metadata": {
    "ExecuteTime": {
     "end_time": "2024-05-13T15:34:52.166311Z",
     "start_time": "2024-05-13T15:34:52.163492Z"
    }
   },
   "cell_type": "code",
   "source": [
    "t1_total, t1_mse, t1_kl, v1_total, v1_mse, v1_kl = ClientLossManager.process_data(res_1.all_losses)\n",
    "t2_total, t2_mse, t2_kl, v2_total, v2_mse, v2_kl = ClientLossManager.process_data(res_2.all_losses)\n"
   ],
   "id": "b56bf9c117c85423",
   "outputs": [],
   "execution_count": 11
  },
  {
   "metadata": {
    "ExecuteTime": {
     "end_time": "2024-05-13T15:41:09.979691Z",
     "start_time": "2024-05-13T15:41:09.968979Z"
    }
   },
   "cell_type": "code",
   "source": "v1_total",
   "id": "305754778f6512a9",
   "outputs": [
    {
     "data": {
      "text/plain": [
       "[1106.2563554243607,\n",
       " 1131.3251427112923,\n",
       " 1076.784385209517,\n",
       " 1039.9633566006746,\n",
       " 1081.0455984774503,\n",
       " 1059.4888428844106,\n",
       " 1075.0551528098365,\n",
       " 1063.3011440207742,\n",
       " 1054.0105720658735,\n",
       " 1055.9316745827416,\n",
       " 1072.6784063720702,\n",
       " 1038.0235459206322,\n",
       " 1051.5241680353338,\n",
       " 1031.793265658292,\n",
       " 1017.5797090287642,\n",
       " 1066.4700346235797,\n",
       " 1067.2696956010298,\n",
       " 1016.6802401455965,\n",
       " 1048.0827643377131,\n",
       " 1053.3717226340555]"
      ]
     },
     "execution_count": 18,
     "metadata": {},
     "output_type": "execute_result"
    }
   ],
   "execution_count": 18
  },
  {
   "metadata": {
    "ExecuteTime": {
     "end_time": "2024-05-13T15:41:10.137551Z",
     "start_time": "2024-05-13T15:41:10.134789Z"
    }
   },
   "cell_type": "code",
   "source": "v2_total",
   "id": "f25137acb600972a",
   "outputs": [
    {
     "data": {
      "text/plain": [
       "[1106.2563554243607,\n",
       " 1149.52699440696,\n",
       " 1087.1905415482954,\n",
       " 1060.470966907848,\n",
       " 1091.111137861772,\n",
       " 1075.6963678533382,\n",
       " 1086.8984001020951,\n",
       " 1076.449933638139,\n",
       " 1068.131690562855,\n",
       " 1071.1234164151278,\n",
       " 1089.1876004305755,\n",
       " 1059.7938887162643,\n",
       " 1065.5869137295808,\n",
       " 1044.9005568625712,\n",
       " 1035.677971080433,\n",
       " 1080.1919327614526,\n",
       " 1076.8279386763138,\n",
       " 1028.4198447487572,\n",
       " 1056.2012743030896,\n",
       " 1060.2058415083454]"
      ]
     },
     "execution_count": 19,
     "metadata": {},
     "output_type": "execute_result"
    }
   ],
   "execution_count": 19
  },
  {
   "metadata": {
    "ExecuteTime": {
     "end_time": "2024-05-13T15:42:19.240538Z",
     "start_time": "2024-05-13T15:42:19.237488Z"
    }
   },
   "cell_type": "code",
   "source": "list(zip(v1_total, v2_total))",
   "id": "c49700b623c4a019",
   "outputs": [
    {
     "data": {
      "text/plain": [
       "[(1106.2563554243607, 1106.2563554243607),\n",
       " (1131.3251427112923, 1149.52699440696),\n",
       " (1076.784385209517, 1087.1905415482954),\n",
       " (1039.9633566006746, 1060.470966907848),\n",
       " (1081.0455984774503, 1091.111137861772),\n",
       " (1059.4888428844106, 1075.6963678533382),\n",
       " (1075.0551528098365, 1086.8984001020951),\n",
       " (1063.3011440207742, 1076.449933638139),\n",
       " (1054.0105720658735, 1068.131690562855),\n",
       " (1055.9316745827416, 1071.1234164151278),\n",
       " (1072.6784063720702, 1089.1876004305755),\n",
       " (1038.0235459206322, 1059.7938887162643),\n",
       " (1051.5241680353338, 1065.5869137295808),\n",
       " (1031.793265658292, 1044.9005568625712),\n",
       " (1017.5797090287642, 1035.677971080433),\n",
       " (1066.4700346235797, 1080.1919327614526),\n",
       " (1067.2696956010298, 1076.8279386763138),\n",
       " (1016.6802401455965, 1028.4198447487572),\n",
       " (1048.0827643377131, 1056.2012743030896),\n",
       " (1053.3717226340555, 1060.2058415083454)]"
      ]
     },
     "execution_count": 21,
     "metadata": {},
     "output_type": "execute_result"
    }
   ],
   "execution_count": 21
  },
  {
   "metadata": {},
   "cell_type": "code",
   "outputs": [],
   "execution_count": null,
   "source": "",
   "id": "ec3d06d096a6dc31"
  }
 ],
 "metadata": {
  "kernelspec": {
   "display_name": "Python 3",
   "language": "python",
   "name": "python3"
  },
  "language_info": {
   "codemirror_mode": {
    "name": "ipython",
    "version": 2
   },
   "file_extension": ".py",
   "mimetype": "text/x-python",
   "name": "python",
   "nbconvert_exporter": "python",
   "pygments_lexer": "ipython2",
   "version": "2.7.6"
  }
 },
 "nbformat": 4,
 "nbformat_minor": 5
}
